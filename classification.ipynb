{
 "cells": [
  {
   "cell_type": "code",
   "execution_count": null,
   "metadata": {},
   "outputs": [],
   "source": [
    "%pylab"
   ]
  },
  {
   "cell_type": "code",
   "execution_count": null,
   "metadata": {
    "collapsed": true
   },
   "outputs": [],
   "source": [
    "%matplotlib inline"
   ]
  },
  {
   "cell_type": "code",
   "execution_count": null,
   "metadata": {
    "collapsed": true
   },
   "outputs": [],
   "source": [
    "import GPy, scipy"
   ]
  },
  {
   "cell_type": "code",
   "execution_count": null,
   "metadata": {},
   "outputs": [],
   "source": [
    "k = GPy.kern.RBF(1, lengthscale=.2)\n",
    "x = np.linspace(-1,1)\n",
    "\n",
    "f = scipy.stats.multivariate_normal.rvs(np.zeros(50), k.K(x[:,None]))\n",
    "py = 1 / (1 + np.exp(-f))\n",
    "y = scipy.stats.bernoulli.rvs(py)"
   ]
  },
  {
   "cell_type": "code",
   "execution_count": null,
   "metadata": {},
   "outputs": [],
   "source": [
    "fig, ax = plt.subplots()\n",
    "\n",
    "# Twin the x-axis twice to make independent y-axes.\n",
    "axes = [ax, ax.twinx(), ax.twinx()]\n",
    "\n",
    "# Make some space on the right side for the extra y-axis.\n",
    "fig.subplots_adjust(right=0.75)\n",
    "\n",
    "# Move the last y-axis spine over to the right by 20% of the width of the axes\n",
    "axes[-1].spines['right'].set_position(('axes', 1.2))\n",
    "\n",
    "# To make the border of the right-most axis visible, we need to turn the frame\n",
    "# on. This hides the other plots, however, so we need to turn its fill off.\n",
    "axes[-1].set_frame_on(True)\n",
    "axes[-1].patch.set_visible(False)\n",
    "\n",
    "axes[0].plot(x, f, color='C0', label='$f(x)$')\n",
    "axes[0].tick_params(axis='y', colors='C0')\n",
    "\n",
    "axes[1].plot(x, py, color='C1', label='$p(y(x) | f(x))$')\n",
    "axes[1].tick_params(axis='y', colors='C1')\n",
    "axes[1].set_ylim(0,1)\n",
    "\n",
    "axes[2].scatter(x, y, color='C2', label='$y(x)$')\n",
    "axes[2].tick_params(axis='y', colors='C2')\n",
    "\n",
    "\n",
    "# And finally we get to plot things...\n",
    "# colors = ('Green', 'Red', 'Blue')\n",
    "# for ax, color, data in zip(axes, colors, [f, py, y]):\n",
    "#     #data = np.random.random(1) * np.random.random(10)\n",
    "#     ax.plot(data, color=color)\n",
    "#     ax.set_ylabel('%s Thing' % color, color=color)\n",
    "#     ax.tick_params(axis='y', colors=color)\n",
    "# axes[0].set_xlabel('X-axis')\n",
    "\n",
    "axes[0].legend(fontsize=12)\n",
    "axes[1].legend(fontsize=12)\n",
    "axes[2].legend(fontsize=12)\n",
    "\n",
    "plt.savefig('figures/classification.pdf', bbox_inches='tight')"
   ]
  },
  {
   "cell_type": "code",
   "execution_count": null,
   "metadata": {
    "collapsed": true
   },
   "outputs": [],
   "source": []
  }
 ],
 "metadata": {
  "kernelspec": {
   "display_name": "Python 2",
   "language": "python",
   "name": "python2"
  },
  "language_info": {
   "codemirror_mode": {
    "name": "ipython",
    "version": 2
   },
   "file_extension": ".py",
   "mimetype": "text/x-python",
   "name": "python",
   "nbconvert_exporter": "python",
   "pygments_lexer": "ipython2",
   "version": "2.7.12"
  }
 },
 "nbformat": 4,
 "nbformat_minor": 2
}