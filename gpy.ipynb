{
 "cells": [
  {
   "cell_type": "code",
   "execution_count": null,
   "metadata": {},
   "outputs": [],
   "source": [
    "%pylab"
   ]
  },
  {
   "cell_type": "code",
   "execution_count": null,
   "metadata": {
    "collapsed": true
   },
   "outputs": [],
   "source": [
    "%matplotlib inline"
   ]
  },
  {
   "cell_type": "code",
   "execution_count": null,
   "metadata": {
    "collapsed": true
   },
   "outputs": [],
   "source": [
    "import GPy, scipy"
   ]
  },
  {
   "cell_type": "markdown",
   "metadata": {},
   "source": [
    "## Kernels "
   ]
  },
  {
   "cell_type": "code",
   "execution_count": null,
   "metadata": {},
   "outputs": [],
   "source": [
    "# build some input for evaluating the kernel\n",
    "x = np.linspace(-1,1)\n",
    "\n",
    "x.shape"
   ]
  },
  {
   "cell_type": "code",
   "execution_count": null,
   "metadata": {
    "collapsed": true
   },
   "outputs": [],
   "source": [
    "# (GPy expects 2d input)\n",
    "x = x[:,None]"
   ]
  },
  {
   "cell_type": "code",
   "execution_count": null,
   "metadata": {},
   "outputs": [],
   "source": [
    "kern = GPy.kern.RBF(1, variance=1., lengthscale=1.)\n",
    "kern"
   ]
  },
  {
   "cell_type": "code",
   "execution_count": null,
   "metadata": {},
   "outputs": [],
   "source": [
    "kern.K(x)"
   ]
  },
  {
   "cell_type": "code",
   "execution_count": null,
   "metadata": {},
   "outputs": [],
   "source": [
    "plt.imshow(kern.K(x))\n",
    "plt.colorbar()"
   ]
  },
  {
   "cell_type": "markdown",
   "metadata": {},
   "source": [
    "samples function from $f \\sim N \\Big(0, \\kappa(X)\\Big)$:"
   ]
  },
  {
   "cell_type": "code",
   "execution_count": null,
   "metadata": {},
   "outputs": [],
   "source": [
    "plt.plot(scipy.stats.multivariate_normal.rvs(np.zeros(50), kern.K(x), size=10).T);"
   ]
  },
  {
   "cell_type": "code",
   "execution_count": null,
   "metadata": {},
   "outputs": [],
   "source": [
    "# increasing the input dimension allows for more covariates\n",
    "# auto-relevance detection (ARD) allows for seperate lengthscale for each covariate\n",
    "\n",
    "kern = GPy.kern.RBF(2, ARD=True)\n",
    "kern"
   ]
  },
  {
   "cell_type": "code",
   "execution_count": null,
   "metadata": {},
   "outputs": [],
   "source": [
    "# add second covariate, with random values\n",
    "\n",
    "x2 = np.zeros((50,2))\n",
    "x2[:,0] = x[:,0]\n",
    "x2[:,1] = np.random.normal(size=50)\n",
    "\n",
    "plt.imshow(kern.K(x2))\n",
    "plt.colorbar()"
   ]
  },
  {
   "cell_type": "markdown",
   "metadata": {},
   "source": [
    "### operations supported on kernels:"
   ]
  },
  {
   "cell_type": "code",
   "execution_count": null,
   "metadata": {
    "collapsed": true
   },
   "outputs": [],
   "source": [
    "k1 = GPy.kern.RBF(1, variance=1, lengthscale=.2)\n",
    "k2 = GPy.kern.Cosine(1, lengthscale=.1)"
   ]
  },
  {
   "cell_type": "code",
   "execution_count": null,
   "metadata": {},
   "outputs": [],
   "source": [
    "plt.imshow(k2.K(x))\n",
    "plt.colorbar()"
   ]
  },
  {
   "cell_type": "markdown",
   "metadata": {},
   "source": [
    "sample from $f_2$"
   ]
  },
  {
   "cell_type": "code",
   "execution_count": null,
   "metadata": {},
   "outputs": [],
   "source": [
    "plt.plot(scipy.stats.multivariate_normal.rvs(np.zeros(50), k2.K(x), size=3).T);"
   ]
  },
  {
   "cell_type": "markdown",
   "metadata": {},
   "source": [
    "####  addition"
   ]
  },
  {
   "cell_type": "code",
   "execution_count": null,
   "metadata": {},
   "outputs": [],
   "source": [
    "k = k1 + k2\n",
    "k"
   ]
  },
  {
   "cell_type": "code",
   "execution_count": null,
   "metadata": {},
   "outputs": [],
   "source": [
    "plt.imshow(k.K(x))\n",
    "plt.colorbar()"
   ]
  },
  {
   "cell_type": "markdown",
   "metadata": {},
   "source": [
    "sample from $f = f_1 + f_2$"
   ]
  },
  {
   "cell_type": "code",
   "execution_count": null,
   "metadata": {},
   "outputs": [],
   "source": [
    "plt.plot(scipy.stats.multivariate_normal.rvs(np.zeros(50), k.K(x), size=3).T);"
   ]
  },
  {
   "cell_type": "markdown",
   "metadata": {},
   "source": [
    "#### multiplication"
   ]
  },
  {
   "cell_type": "code",
   "execution_count": null,
   "metadata": {},
   "outputs": [],
   "source": [
    "k = k1*k2\n",
    "k"
   ]
  },
  {
   "cell_type": "code",
   "execution_count": null,
   "metadata": {},
   "outputs": [],
   "source": [
    "plt.imshow(k.K(x))\n",
    "plt.colorbar()"
   ]
  },
  {
   "cell_type": "markdown",
   "metadata": {},
   "source": [
    "sample from $f = f_1 \\times f_2$"
   ]
  },
  {
   "cell_type": "code",
   "execution_count": null,
   "metadata": {},
   "outputs": [],
   "source": [
    "plt.plot(scipy.stats.multivariate_normal.rvs(np.zeros(50), k.K(x), size=3).T);"
   ]
  },
  {
   "cell_type": "markdown",
   "metadata": {},
   "source": [
    "## Models "
   ]
  },
  {
   "cell_type": "markdown",
   "metadata": {},
   "source": [
    "Generate data:\n",
    "\n",
    "$z = \\{f(X), y(X)\\} \\sim N\\Bigg(0,\\begin{pmatrix} \\kappa(X) & \\kappa(X) \\\\ \\kappa(X) & \\kappa(X) + \\sigma^2_y I \\end{pmatrix} \\Bigg)$"
   ]
  },
  {
   "cell_type": "code",
   "execution_count": null,
   "metadata": {},
   "outputs": [],
   "source": [
    "# generate some data\n",
    "kern = GPy.kern.RBF(1)\n",
    "sigma = 5e-2\n",
    "\n",
    "# generate covariance for f and y\n",
    "cov = kern.K(np.tile(x[:,0], 2)[:,None])\n",
    "\n",
    "# add iid noise to y block of covariance\n",
    "cov[50:,50:] += sigma*np.eye(50)\n",
    "\n",
    "# sample random variables and split into f and y\n",
    "obs = scipy.stats.multivariate_normal.rvs(np.zeros(100), cov)\n",
    "f, y = obs[:50], obs[50:][:,None]\n",
    "\n",
    "plt.plot(x, f, label='f')\n",
    "plt.scatter(x, y, label='y')"
   ]
  },
  {
   "cell_type": "code",
   "execution_count": null,
   "metadata": {},
   "outputs": [],
   "source": [
    "# build GP regression model\n",
    "m = GPy.models.GPRegression(x, y, GPy.kern.RBF(1))\n",
    "m"
   ]
  },
  {
   "cell_type": "code",
   "execution_count": null,
   "metadata": {},
   "outputs": [],
   "source": [
    "m.randomize()\n",
    "m"
   ]
  },
  {
   "cell_type": "code",
   "execution_count": null,
   "metadata": {},
   "outputs": [],
   "source": [
    "m.optimize()\n",
    "m"
   ]
  },
  {
   "cell_type": "code",
   "execution_count": null,
   "metadata": {},
   "outputs": [],
   "source": [
    "# model log-likelihood is the (inverse) objective used for optimization\n",
    "m.log_likelihood()"
   ]
  },
  {
   "cell_type": "code",
   "execution_count": null,
   "metadata": {},
   "outputs": [],
   "source": [
    "m.plot()"
   ]
  },
  {
   "cell_type": "code",
   "execution_count": null,
   "metadata": {},
   "outputs": [],
   "source": [
    "m.plot_f()"
   ]
  },
  {
   "cell_type": "code",
   "execution_count": null,
   "metadata": {},
   "outputs": [],
   "source": [
    "# generate our own predictions\n",
    "xpred = np.linspace(-3, 3)[:,None]\n",
    "\n",
    "mu, var = m.predict(xpred)\n",
    "\n",
    "# remove additional dimensions\n",
    "mu = mu[:,0]\n",
    "var = var[:,0]\n",
    "\n",
    "std = np.sqrt(var)\n",
    "\n",
    "plt.plot(xpred, mu)\n",
    "plt.fill_between(xpred[:,0], mu-1.98*std, mu+1.98*std, alpha=.1)\n",
    "\n",
    "plt.scatter(x, y)"
   ]
  },
  {
   "cell_type": "code",
   "execution_count": null,
   "metadata": {},
   "outputs": [],
   "source": [
    "# function predictions\n",
    "xpred = np.linspace(-1.3, 1.3)[:,None]\n",
    "\n",
    "mu, var = m.predict_noiseless(xpred)\n",
    "\n",
    "# remove additional dimensions\n",
    "mu = mu[:,0]\n",
    "var = var[:,0]\n",
    "\n",
    "std = np.sqrt(var)\n",
    "\n",
    "plt.plot(xpred, mu)\n",
    "plt.fill_between(xpred[:,0], mu-1.98*std, mu+1.98*std, alpha=.1)\n",
    "\n",
    "plt.plot(x, f)"
   ]
  },
  {
   "cell_type": "code",
   "execution_count": null,
   "metadata": {},
   "outputs": [],
   "source": [
    "# test out of sample prediction\n",
    "m = GPy.models.GPRegression(x[:25,:], y[:25,:])\n",
    "m.randomize()\n",
    "m.optimize()\n",
    "\n",
    "xpred = np.linspace(-1.3, 1.3)[:,None]\n",
    "\n",
    "mu, var = m.predict(xpred)\n",
    "\n",
    "# remove additional dimensions\n",
    "mu = mu[:,0]\n",
    "var = var[:,0]\n",
    "\n",
    "std = np.sqrt(var)\n",
    "\n",
    "plt.plot(xpred, mu)\n",
    "plt.fill_between(xpred[:,0], mu-1.98*std, mu+1.98*std, alpha=.1)\n",
    "\n",
    "plt.scatter(x[:25], y[:25], color='C0')\n",
    "plt.scatter(x[25:], y[25:])"
   ]
  },
  {
   "cell_type": "markdown",
   "metadata": {},
   "source": [
    "## sparse models "
   ]
  },
  {
   "cell_type": "code",
   "execution_count": null,
   "metadata": {},
   "outputs": [],
   "source": [
    "m = GPy.models.SparseGPRegression(x, y)\n",
    "m.randomize()\n",
    "m.optimize()\n",
    "m"
   ]
  },
  {
   "cell_type": "code",
   "execution_count": null,
   "metadata": {},
   "outputs": [],
   "source": [
    "m.plot()"
   ]
  },
  {
   "cell_type": "markdown",
   "metadata": {},
   "source": [
    "# Functional Significance Testing \n",
    "\n",
    "**References**:\n",
    "\n",
    "* [Flexible Modelling of Genetic Effects on Function-Valued Traits](https://link.springer.com/chapter/10.1007/978-3-319-31957-5_7)\n",
    "* [Detecting differential growth of microbial populations with Gaussian process regression](http://genome.cshlp.org/content/early/2016/11/18/gr.210286.116.abstract)\n",
    "* [Gaussian Processes for Bayesian hypothesis tests on regression functions](http://proceedings.mlr.press/v38/benavoli15.html)"
   ]
  },
  {
   "cell_type": "markdown",
   "metadata": {},
   "source": [
    "### Independent outputs"
   ]
  },
  {
   "cell_type": "code",
   "execution_count": null,
   "metadata": {
    "collapsed": true
   },
   "outputs": [],
   "source": [
    "GPy.kern.IndependentOutputs?"
   ]
  },
  {
   "cell_type": "code",
   "execution_count": null,
   "metadata": {},
   "outputs": [],
   "source": [
    "x = np.zeros((100, 2))\n",
    "x[:,0] = np.tile(np.linspace(-1,1), 2)\n",
    "x[50:,1] = 1\n",
    "\n",
    "knull = GPy.kern.RBF(1, lengthscale=.75)\n",
    "k = GPy.kern.IndependentOutputs(knull.copy())\n",
    "\n",
    "plt.imshow(k.K(x))"
   ]
  },
  {
   "cell_type": "code",
   "execution_count": null,
   "metadata": {},
   "outputs": [],
   "source": [
    "sigma = 1e-2\n",
    "\n",
    "plt.figure(figsize=(8,4))\n",
    "plt.subplot(121)\n",
    "y = scipy.stats.multivariate_normal.rvs(np.zeros(100), k.K(x) + sigma*np.eye(100))[:,None]\n",
    "plt.scatter(x[:50,0], y[:50])\n",
    "plt.scatter(x[:50,0], y[50:])\n",
    "plt.title('full model')\n",
    "\n",
    "plt.subplot(122)\n",
    "y = scipy.stats.multivariate_normal.rvs(np.zeros(100), knull.K(x) + sigma*np.eye(100))[:,None]\n",
    "plt.scatter(x[:50,0], y[:50])\n",
    "plt.scatter(x[:50,0], y[50:])\n",
    "plt.title('null model')"
   ]
  },
  {
   "cell_type": "code",
   "execution_count": null,
   "metadata": {},
   "outputs": [],
   "source": [
    "m = GPy.models.GPRegression(x,y, k)\n",
    "m.randomize()\n",
    "m.optimize()\n",
    "m"
   ]
  },
  {
   "cell_type": "code",
   "execution_count": null,
   "metadata": {},
   "outputs": [],
   "source": [
    "m.plot(fixed_inputs=[(1,0)])"
   ]
  },
  {
   "cell_type": "code",
   "execution_count": null,
   "metadata": {},
   "outputs": [],
   "source": [
    "mnull = GPy.models.GPRegression(x, y, knull)\n",
    "mnull.randomize()\n",
    "mnull.optimize()\n",
    "mnull"
   ]
  },
  {
   "cell_type": "code",
   "execution_count": null,
   "metadata": {},
   "outputs": [],
   "source": [
    "llr = 2*(m.log_likelihood() - mnull.log_likelihood())\n",
    "pval = 1-scipy.stats.chi2.cdf(llr, df=2)\n",
    "llr, pval"
   ]
  },
  {
   "cell_type": "code",
   "execution_count": null,
   "metadata": {},
   "outputs": [],
   "source": [
    "ll = []\n",
    "\n",
    "for _ in range(400):\n",
    "    knull = GPy.kern.RBF(1, lengthscale=.75)\n",
    "    y = scipy.stats.multivariate_normal.rvs(np.zeros(100), knull.K(x) + sigma*np.eye(100))[:,None]\n",
    "    \n",
    "    m = GPy.models.GPRegression(x,y, k)\n",
    "    m.randomize()\n",
    "    m.optimize()\n",
    "    \n",
    "    mnull = GPy.models.GPRegression(x, y, knull)\n",
    "    mnull.randomize()\n",
    "    mnull.optimize()\n",
    "    \n",
    "    llr = 2*(m.log_likelihood() - mnull.log_likelihood())\n",
    "    \n",
    "    ll.append(llr)"
   ]
  },
  {
   "cell_type": "code",
   "execution_count": null,
   "metadata": {},
   "outputs": [],
   "source": [
    "plt.hist(1-scipy.stats.chi2.cdf(ll, df=2))"
   ]
  },
  {
   "cell_type": "code",
   "execution_count": null,
   "metadata": {
    "scrolled": false
   },
   "outputs": [],
   "source": [
    "ll = []\n",
    "\n",
    "for _ in range(400):\n",
    "    knull = GPy.kern.RBF(1, lengthscale=1)\n",
    "    k = GPy.kern.IndependentOutputs(knull.copy())\n",
    "    y = scipy.stats.multivariate_normal.rvs(np.zeros(100), k.K(x) + sigma*np.eye(100))[:,None]\n",
    "    \n",
    "    m = GPy.models.GPRegression(x,y, k)\n",
    "    m.randomize()\n",
    "    m.optimize()\n",
    "    \n",
    "    mnull = GPy.models.GPRegression(x, y, knull)\n",
    "    mnull.randomize()\n",
    "    mnull.optimize()\n",
    "    \n",
    "    llr = 2*(m.log_likelihood() - mnull.log_likelihood())\n",
    "    \n",
    "    ll.append(llr)"
   ]
  },
  {
   "cell_type": "code",
   "execution_count": null,
   "metadata": {},
   "outputs": [],
   "source": [
    "plt.hist(1-scipy.stats.chi2.cdf(ll, df=2))"
   ]
  },
  {
   "cell_type": "markdown",
   "metadata": {},
   "source": [
    "### Covariate modeling"
   ]
  },
  {
   "cell_type": "code",
   "execution_count": null,
   "metadata": {},
   "outputs": [],
   "source": [
    "k = GPy.kern.RBF(2, ARD=True)\n",
    "\n",
    "m = GPy.models.GPRegression(x, y, k)\n",
    "m.randomize()\n",
    "m.optimize()\n",
    "m"
   ]
  },
  {
   "cell_type": "markdown",
   "metadata": {},
   "source": [
    "#### additional covariates"
   ]
  },
  {
   "cell_type": "code",
   "execution_count": null,
   "metadata": {},
   "outputs": [],
   "source": [
    "# add covariates for two treatments, and their interaction\n",
    "\n",
    "t = np.linspace(-1,1,25)\n",
    "\n",
    "x = np.zeros((t.shape[0]*4, 4))\n",
    "x[:,0] = np.tile(t, 4)\n",
    "x[:,1] = np.tile(np.repeat([0,1], t.shape[0]), 2)\n",
    "x[50:,2] = 1\n",
    "x[:,3] = x[:,1] * x[:,2]\n",
    "\n",
    "plt.imshow(x, aspect='auto')\n",
    "plt.colorbar()"
   ]
  },
  {
   "cell_type": "code",
   "execution_count": null,
   "metadata": {},
   "outputs": [],
   "source": [
    "vmean, vt1, vt2, vint = 1.0, .8, .8, 1e-3\n",
    "\n",
    "knull = GPy.kern.RBF(1, variance=vmean, name='mean') + \\\n",
    "        GPy.kern.RBF(2, variance=vt1, ARD=True, name='treatment1') + \\\n",
    "        GPy.kern.RBF(2, variance=vt2, ARD=True, active_dims=[0, 2], name='treatment2')\n",
    "        \n",
    "plt.imshow(knull.K(x))\n",
    "plt.colorbar()"
   ]
  },
  {
   "cell_type": "code",
   "execution_count": null,
   "metadata": {},
   "outputs": [],
   "source": [
    "k = knull + GPy.kern.RBF(2, variance=vint, ARD=True, active_dims=[0, 3], name='interaction')\n",
    "plt.imshow(k.K(x))\n",
    "plt.colorbar()"
   ]
  },
  {
   "cell_type": "code",
   "execution_count": null,
   "metadata": {},
   "outputs": [],
   "source": [
    "k.randomize()\n",
    "\n",
    "n = x.shape[0]\n",
    "sigma = 5e-2\n",
    "\n",
    "cov = np.tile(k.K(x), (2,2))\n",
    "cov[:n, :n] += sigma*np.eye(n)\n",
    "\n",
    "s = scipy.stats.multivariate_normal.rvs(np.zeros(2*n), cov)\n",
    "y, f = s[:n], s[n:]\n",
    "\n",
    "n = t.shape[0]\n",
    "plt.scatter(x[:n, 0], y[:n])\n",
    "plt.scatter(x[:n, 0], y[n:2*n])\n",
    "plt.scatter(x[:n, 0], y[2*n:3*n])\n",
    "plt.scatter(x[:n, 0], y[3*n:])\n",
    "\n",
    "plt.plot(x[:n, 0], f[:n], label='f-mean')\n",
    "plt.plot(x[:n, 0], f[n:2*n], label='f-treatment1')\n",
    "plt.plot(x[:n, 0], f[2*n:3*n], label='f-treatment2')\n",
    "plt.plot(x[:n, 0], f[3*n:], label='f-interaction')\n",
    "\n",
    "plt.legend()\n",
    "\n",
    "k"
   ]
  },
  {
   "cell_type": "code",
   "execution_count": null,
   "metadata": {},
   "outputs": [],
   "source": [
    "m = GPy.models.GPRegression(x, y[:,None], k.copy())\n",
    "m.randomize()\n",
    "m"
   ]
  },
  {
   "cell_type": "code",
   "execution_count": null,
   "metadata": {},
   "outputs": [],
   "source": [
    "m.optimize()\n",
    "m"
   ]
  },
  {
   "cell_type": "code",
   "execution_count": null,
   "metadata": {},
   "outputs": [],
   "source": [
    "mu, var = m.predict(x)\n",
    "mu = mu[:,0]\n",
    "var = var[:,0]\n",
    "std = np.sqrt(var)\n",
    "\n",
    "for i in range(4):\n",
    "    sl = slice(i*n, (i+1)*n)\n",
    "    plt.plot(x[:n,0], mu[sl])\n",
    "    plt.fill_between(x[:n,0], mu[sl]-1.98*std[sl], mu[sl]+1.98*std[sl], alpha=.1)\n",
    "    \n",
    "    plt.plot(x[:n,0], f[sl], '--', c='C%d'%i, label='f%d'%i)\n",
    "    \n",
    "plt.legend()"
   ]
  },
  {
   "cell_type": "code",
   "execution_count": null,
   "metadata": {},
   "outputs": [],
   "source": [
    "mnull = GPy.models.GPRegression(x[:,:3], y[:,None], knull.copy())\n",
    "mnull.randomize()\n",
    "mnull.optimize()\n",
    "mnull"
   ]
  },
  {
   "cell_type": "code",
   "execution_count": null,
   "metadata": {},
   "outputs": [],
   "source": [
    "mu, var = mnull.predict(x[:,:3])\n",
    "mu = mu[:,0]\n",
    "var = var[:,0]\n",
    "std = np.sqrt(var)\n",
    "\n",
    "for i in range(4):\n",
    "    sl = slice(i*n, (i+1)*n)\n",
    "    plt.plot(x[:n,0], mu[sl])\n",
    "    plt.fill_between(x[:n,0], mu[sl]-1.98*std[sl], mu[sl]+1.98*std[sl], alpha=.1)\n",
    "    \n",
    "    plt.plot(x[:n,0], f[sl], '--', c='C%d'%i)"
   ]
  },
  {
   "cell_type": "code",
   "execution_count": null,
   "metadata": {
    "collapsed": true
   },
   "outputs": [],
   "source": []
  }
 ],
 "metadata": {
  "kernelspec": {
   "display_name": "Python 2",
   "language": "python",
   "name": "python2"
  },
  "language_info": {
   "codemirror_mode": {
    "name": "ipython",
    "version": 2
   },
   "file_extension": ".py",
   "mimetype": "text/x-python",
   "name": "python",
   "nbconvert_exporter": "python",
   "pygments_lexer": "ipython2",
   "version": "2.7.12"
  }
 },
 "nbformat": 4,
 "nbformat_minor": 2
}