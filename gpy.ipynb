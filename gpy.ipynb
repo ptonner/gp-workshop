{
 "cells": [
  {
   "cell_type": "code",
   "execution_count": null,
   "metadata": {},
   "outputs": [],
   "source": [
    "%pylab"
   ]
  },
  {
   "cell_type": "code",
   "execution_count": null,
   "metadata": {
    "collapsed": true
   },
   "outputs": [],
   "source": [
    "%matplotlib inline"
   ]
  },
  {
   "cell_type": "code",
   "execution_count": null,
   "metadata": {
    "collapsed": true
   },
   "outputs": [],
   "source": [
    "import GPy, scipy"
   ]
  },
  {
   "cell_type": "markdown",
   "metadata": {},
   "source": [
    "# Basics of *GPy* "
   ]
  },
  {
   "cell_type": "markdown",
   "metadata": {},
   "source": [
    "## Kernels "
   ]
  },
  {
   "cell_type": "code",
   "execution_count": null,
   "metadata": {
    "collapsed": true
   },
   "outputs": [],
   "source": [
    "# build some input for evaluating the kernel\n",
    "x = np.linspace(-1,1)\n",
    "\n",
    "# (GPy expects 2d input)\n",
    "x = x[:,None]"
   ]
  },
  {
   "cell_type": "code",
   "execution_count": null,
   "metadata": {},
   "outputs": [],
   "source": [
    "kern = GPy.kern.RBF(1)\n",
    "kern"
   ]
  },
  {
   "cell_type": "code",
   "execution_count": null,
   "metadata": {},
   "outputs": [],
   "source": [
    "plt.imshow(kern.K(x))\n",
    "plt.colorbar()"
   ]
  },
  {
   "cell_type": "code",
   "execution_count": null,
   "metadata": {},
   "outputs": [],
   "source": [
    "# sample functions represented by K\n",
    "plt.plot(scipy.stats.multivariate_normal.rvs(np.zeros(50), kern.K(x), size=10).T);"
   ]
  },
  {
   "cell_type": "code",
   "execution_count": null,
   "metadata": {},
   "outputs": [],
   "source": [
    "# increasing the input dimension allows for more covariates\n",
    "# auto-relevance detection (ARD) allows for seperate lengthscale for each covariate\n",
    "\n",
    "kern = GPy.kern.RBF(2, ARD=True)\n",
    "kern"
   ]
  },
  {
   "cell_type": "code",
   "execution_count": null,
   "metadata": {},
   "outputs": [],
   "source": [
    "# add second covariate, with random values\n",
    "\n",
    "x2 = np.zeros((50,2))\n",
    "x2[:,0] = x[:,0]\n",
    "x2[:,1] = np.random.normal(size=50)\n",
    "\n",
    "plt.imshow(kern.K(x2))\n",
    "plt.colorbar()"
   ]
  },
  {
   "cell_type": "code",
   "execution_count": null,
   "metadata": {
    "collapsed": true
   },
   "outputs": [],
   "source": [
    "# operations supported on kernels\n",
    "k1 = GPy.kern.RBF(1, variance=1, lengthscale=.2)\n",
    "k2 = GPy.kern.Cosine(1, lengthscale=.1)"
   ]
  },
  {
   "cell_type": "code",
   "execution_count": null,
   "metadata": {},
   "outputs": [],
   "source": [
    "# addition\n",
    "k = k1 + k2\n",
    "k"
   ]
  },
  {
   "cell_type": "code",
   "execution_count": null,
   "metadata": {},
   "outputs": [],
   "source": [
    "plt.imshow(k.K(x))\n",
    "plt.colorbar()"
   ]
  },
  {
   "cell_type": "code",
   "execution_count": null,
   "metadata": {},
   "outputs": [],
   "source": [
    "plt.plot(scipy.stats.multivariate_normal.rvs(np.zeros(50), k.K(x), size=3).T);"
   ]
  },
  {
   "cell_type": "code",
   "execution_count": null,
   "metadata": {},
   "outputs": [],
   "source": [
    "# multiplication\n",
    "k = k1*k2\n",
    "k"
   ]
  },
  {
   "cell_type": "code",
   "execution_count": null,
   "metadata": {},
   "outputs": [],
   "source": [
    "plt.imshow(k.K(x))\n",
    "plt.colorbar()"
   ]
  },
  {
   "cell_type": "code",
   "execution_count": null,
   "metadata": {},
   "outputs": [],
   "source": [
    "plt.plot(scipy.stats.multivariate_normal.rvs(np.zeros(50), k.K(x), size=3).T);"
   ]
  },
  {
   "cell_type": "markdown",
   "metadata": {},
   "source": [
    "## Models "
   ]
  },
  {
   "cell_type": "code",
   "execution_count": null,
   "metadata": {},
   "outputs": [],
   "source": [
    "# generate some data\n",
    "kern = GPy.kern.RBF(1)\n",
    "sigma = 5e-2\n",
    "\n",
    "# generate covariance for f and y\n",
    "cov = kern.K(np.tile(x[:,0], 2)[:,None])\n",
    "cov[50:,50:] = kern.K(x) + sigma*np.eye(50)\n",
    "\n",
    "obs = scipy.stats.multivariate_normal.rvs(np.zeros(100), cov)\n",
    "f, y = obs[:50], obs[50:][:,None]\n",
    "\n",
    "plt.plot(x, f, label='f')\n",
    "plt.scatter(x, y, label='y')"
   ]
  },
  {
   "cell_type": "code",
   "execution_count": null,
   "metadata": {},
   "outputs": [],
   "source": [
    "m = GPy.models.GPRegression(x, y, GPy.kern.RBF(1))\n",
    "m"
   ]
  },
  {
   "cell_type": "code",
   "execution_count": null,
   "metadata": {},
   "outputs": [],
   "source": [
    "m.randomize()\n",
    "m"
   ]
  },
  {
   "cell_type": "code",
   "execution_count": null,
   "metadata": {},
   "outputs": [],
   "source": [
    "m.optimize()\n",
    "m"
   ]
  },
  {
   "cell_type": "code",
   "execution_count": null,
   "metadata": {},
   "outputs": [],
   "source": [
    "# model log-likelihood if the (inverse) objective used for optimization\n",
    "m.log_likelihood()"
   ]
  },
  {
   "cell_type": "code",
   "execution_count": null,
   "metadata": {},
   "outputs": [],
   "source": [
    "m.plot()"
   ]
  },
  {
   "cell_type": "code",
   "execution_count": null,
   "metadata": {},
   "outputs": [],
   "source": [
    "# generate our own predictions\n",
    "xpred = np.linspace(-3, 3)[:,None]\n",
    "\n",
    "mu, var = m.predict(xpred)\n",
    "\n",
    "# remove additional dimensions\n",
    "mu = mu[:,0]\n",
    "var = var[:,0]\n",
    "\n",
    "std = np.sqrt(var)\n",
    "\n",
    "plt.plot(xpred, mu)\n",
    "plt.fill_between(xpred[:,0], mu-1.98*std, mu+1.98*std, alpha=.1)\n",
    "\n",
    "plt.scatter(x, y)"
   ]
  },
  {
   "cell_type": "code",
   "execution_count": null,
   "metadata": {},
   "outputs": [],
   "source": [
    "# function predictions\n",
    "xpred = np.linspace(-1.3, 1.3)[:,None]\n",
    "\n",
    "mu, var = m.predict_noiseless(xpred)\n",
    "\n",
    "# remove additional dimensions\n",
    "mu = mu[:,0]\n",
    "var = var[:,0]\n",
    "\n",
    "std = np.sqrt(var)\n",
    "\n",
    "plt.plot(xpred, mu)\n",
    "plt.fill_between(xpred[:,0], mu-1.98*std, mu+1.98*std, alpha=.1)\n",
    "\n",
    "plt.plot(x, f)"
   ]
  },
  {
   "cell_type": "code",
   "execution_count": null,
   "metadata": {},
   "outputs": [],
   "source": [
    "# test out of sample prediction\n",
    "m = GPy.models.GPRegression(x[:25,:], y[:25,:])\n",
    "m.randomize()\n",
    "m.optimize()\n",
    "\n",
    "xpred = np.linspace(-1.3, 1.3)[:,None]\n",
    "\n",
    "mu, var = m.predict(xpred)\n",
    "\n",
    "# remove additional dimensions\n",
    "mu = mu[:,0]\n",
    "var = var[:,0]\n",
    "\n",
    "std = np.sqrt(var)\n",
    "\n",
    "plt.plot(xpred, mu)\n",
    "plt.fill_between(xpred[:,0], mu-1.98*std, mu+1.98*std, alpha=.1)\n",
    "\n",
    "plt.scatter(x[:25], y[:25], color='C0')\n",
    "plt.scatter(x[25:], y[25:])"
   ]
  },
  {
   "cell_type": "markdown",
   "metadata": {},
   "source": [
    "## sparse models "
   ]
  },
  {
   "cell_type": "code",
   "execution_count": null,
   "metadata": {},
   "outputs": [],
   "source": [
    "m = GPy.models.SparseGPRegression(x, y)\n",
    "m.randomize()\n",
    "m.optimize()\n",
    "m"
   ]
  },
  {
   "cell_type": "code",
   "execution_count": null,
   "metadata": {},
   "outputs": [],
   "source": [
    "m.plot()"
   ]
  },
  {
   "cell_type": "markdown",
   "metadata": {},
   "source": [
    "# Functional Significance Testing \n",
    "\n",
    "**References**:\n",
    "\n",
    "* [Flexible Modelling of Genetic Effects on Function-Valued Traits](https://link.springer.com/chapter/10.1007/978-3-319-31957-5_7)\n",
    "* [Detecting differential growth of microbial populations with Gaussian process regression](http://genome.cshlp.org/content/early/2016/11/18/gr.210286.116.abstract)\n",
    "* [Gaussian Processes for Bayesian hypothesis tests on regression functions](http://proceedings.mlr.press/v38/benavoli15.html)"
   ]
  },
  {
   "cell_type": "markdown",
   "metadata": {},
   "source": [
    "### Independent outputs"
   ]
  },
  {
   "cell_type": "code",
   "execution_count": null,
   "metadata": {},
   "outputs": [],
   "source": [
    "x = np.zeros((100, 2))\n",
    "x[:,0] = np.tile(np.linspace(-1,1), 2)\n",
    "x[50:,1] = 1\n",
    "\n",
    "knull = GPy.kern.RBF(1)\n",
    "k = GPy.kern.IndependentOutputs(GPy.kern.RBF(1))\n",
    "\n",
    "plt.imshow(k.K(x))"
   ]
  },
  {
   "cell_type": "code",
   "execution_count": null,
   "metadata": {},
   "outputs": [],
   "source": [
    "sigma = 5e-1\n",
    "# y = scipy.stats.multivariate_normal.rvs(np.zeros(100), k.K(x) + sigma*np.eye(100))[:,None]\n",
    "y = scipy.stats.multivariate_normal.rvs(np.zeros(100), knull.K(x) + sigma*np.eye(100))[:,None]\n",
    "\n",
    "plt.scatter(x[:50,0], y[:50])\n",
    "plt.scatter(x[:50,0], y[50:])"
   ]
  },
  {
   "cell_type": "code",
   "execution_count": null,
   "metadata": {},
   "outputs": [],
   "source": [
    "m = GPy.models.GPRegression(x,y, k)\n",
    "m.randomize()\n",
    "m.optimize()\n",
    "m"
   ]
  },
  {
   "cell_type": "code",
   "execution_count": null,
   "metadata": {},
   "outputs": [],
   "source": [
    "m.plot(fixed_inputs=[(1,0)])"
   ]
  },
  {
   "cell_type": "code",
   "execution_count": null,
   "metadata": {},
   "outputs": [],
   "source": [
    "mnull = GPy.models.GPRegression(x, y, knull)\n",
    "mnull.randomize()\n",
    "mnull.optimize()\n",
    "mnull"
   ]
  },
  {
   "cell_type": "code",
   "execution_count": null,
   "metadata": {},
   "outputs": [],
   "source": [
    "llr = 2*(m.log_likelihood() - mnull.log_likelihood())\n",
    "llr, 1-scipy.stats.chi2.cdf(llr, df=2)"
   ]
  },
  {
   "cell_type": "markdown",
   "metadata": {},
   "source": [
    "### Covariate modeling"
   ]
  },
  {
   "cell_type": "code",
   "execution_count": null,
   "metadata": {},
   "outputs": [],
   "source": [
    "k = GPy.kern.RBF(2, ARD=True)\n",
    "\n",
    "m = GPy.models.GPRegression(x, y, k)\n",
    "m.randomize()\n",
    "m.optimize()\n",
    "m"
   ]
  },
  {
   "cell_type": "markdown",
   "metadata": {},
   "source": [
    "#### additional covariates"
   ]
  },
  {
   "cell_type": "code",
   "execution_count": null,
   "metadata": {},
   "outputs": [],
   "source": [
    "# add covariates for two treatments, and their interaction\n",
    "\n",
    "t = np.linspace(-1,1,25)\n",
    "\n",
    "x = np.zeros((t.shape[0]*4, 4))\n",
    "x[:,0] = np.tile(t, 4)\n",
    "x[:,1] = np.tile(np.repeat([0,1], t.shape[0]), 2)\n",
    "x[50:,2] = 1\n",
    "x[:,3] = x[:,1] * x[:,2]\n",
    "\n",
    "plt.imshow(x, aspect='auto')\n",
    "plt.colorbar()"
   ]
  },
  {
   "cell_type": "code",
   "execution_count": null,
   "metadata": {},
   "outputs": [],
   "source": [
    "k = GPy.kern.RBF(4, ARD=True, lengthscale=[.1, 1,1,100])\n",
    "plt.imshow(k.K(x))\n",
    "plt.colorbar()"
   ]
  },
  {
   "cell_type": "code",
   "execution_count": null,
   "metadata": {},
   "outputs": [],
   "source": [
    "knull = GPy.kern.RBF(3, ARD=True)\n",
    "plt.imshow(knull.K(x))\n",
    "plt.colorbar()"
   ]
  },
  {
   "cell_type": "code",
   "execution_count": null,
   "metadata": {},
   "outputs": [],
   "source": [
    "n = x.shape[0]\n",
    "sigma = 1e-3\n",
    "\n",
    "y = scipy.stats.multivariate_normal.rvs(np.zeros(n), k.K(x) + sigma*np.eye(n))\n",
    "\n",
    "n = t.shape[0]\n",
    "plt.scatter(x[:n, 0], y[:n])\n",
    "plt.scatter(x[:n, 0], y[n:2*n])\n",
    "plt.scatter(x[:n, 0], y[2*n:3*n])\n",
    "plt.scatter(x[:n, 0], y[3*n:])"
   ]
  },
  {
   "cell_type": "markdown",
   "metadata": {},
   "source": [
    "# Additional operations "
   ]
  },
  {
   "cell_type": "code",
   "execution_count": null,
   "metadata": {
    "collapsed": true
   },
   "outputs": [],
   "source": []
  }
 ],
 "metadata": {
  "kernelspec": {
   "display_name": "Python 2",
   "language": "python",
   "name": "python2"
  },
  "language_info": {
   "codemirror_mode": {
    "name": "ipython",
    "version": 2
   },
   "file_extension": ".py",
   "mimetype": "text/x-python",
   "name": "python",
   "nbconvert_exporter": "python",
   "pygments_lexer": "ipython2",
   "version": "2.7.12"
  }
 },
 "nbformat": 4,
 "nbformat_minor": 2
}