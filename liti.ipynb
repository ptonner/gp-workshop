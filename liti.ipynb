{
 "cells": [
  {
   "cell_type": "code",
   "execution_count": null,
   "metadata": {},
   "outputs": [],
   "source": [
    "%pylab"
   ]
  },
  {
   "cell_type": "code",
   "execution_count": null,
   "metadata": {
    "collapsed": true
   },
   "outputs": [],
   "source": [
    "%matplotlib inline"
   ]
  },
  {
   "cell_type": "code",
   "execution_count": null,
   "metadata": {
    "collapsed": true
   },
   "outputs": [],
   "source": [
    "import pandas as pd\n",
    "import difflib"
   ]
  },
  {
   "cell_type": "code",
   "execution_count": null,
   "metadata": {},
   "outputs": [],
   "source": [
    "meta = pd.read_csv('data/litti_et_al/meta.csv')\n",
    "meta.head()"
   ]
  },
  {
   "cell_type": "code",
   "execution_count": null,
   "metadata": {},
   "outputs": [],
   "source": [
    "data = pd.read_csv('data/litti_et_al/combined_transform.csv', index_col=0)\n",
    "data.shape"
   ]
  },
  {
   "cell_type": "code",
   "execution_count": null,
   "metadata": {},
   "outputs": [],
   "source": [
    "data.shape, meta.shape"
   ]
  },
  {
   "cell_type": "code",
   "execution_count": null,
   "metadata": {},
   "outputs": [],
   "source": [
    "metaStrains = meta.Strain.unique()\n",
    "metaConditions = meta.Condition.unique()\n",
    "\n",
    "meta['snpStrain'] = meta.Strain.str.extract('[0-9 ]*\\([a-zA-z]*, ([a-zA-Z0-9-]*).*\\)').replace(np.nan, '').astype(str)\n",
    "metaStrainToSnp = meta.snpStrain.unique()\n",
    "\n",
    "conditionGroup = meta.groupby('Condition')"
   ]
  },
  {
   "cell_type": "code",
   "execution_count": null,
   "metadata": {},
   "outputs": [],
   "source": [
    "snp = pd.read_csv('data/litti_et_al/sgrp_Sc_SNPs.txt', sep='\\t')\n",
    "snp.head()"
   ]
  },
  {
   "cell_type": "code",
   "execution_count": null,
   "metadata": {},
   "outputs": [],
   "source": [
    "snpStrains = snp['mutant strains.1'].str.strip().str.replace('|', '').str.split().values\n",
    "\n",
    "snpStrainSet = set()\n",
    "for strains in snpStrains:\n",
    "    for s in strains:\n",
    "        snpStrainSet.add(s)\n",
    "snpStrainSet = list(snpStrainSet)\n",
    "snpStrainSet"
   ]
  },
  {
   "cell_type": "code",
   "execution_count": null,
   "metadata": {},
   "outputs": [],
   "source": [
    "dist = np.zeros((len(metaStrainToSnp), len(snpStrainSet)))\n",
    "\n",
    "for i, m in enumerate(metaStrainToSnp):\n",
    "    for j, s in enumerate(snpStrainSet):\n",
    "        dist[i,j] = difflib.SequenceMatcher(a=m, b=s).ratio()"
   ]
  },
  {
   "cell_type": "code",
   "execution_count": null,
   "metadata": {},
   "outputs": [],
   "source": [
    "strainMap = {}\n",
    "\n",
    "for j, s in enumerate(snpStrainSet):\n",
    "    i = np.where(dist[:,j] == dist[:,j].max())[0][0]\n",
    "    strainMap[s] = metaStrainToSnp[i]\n",
    "\n",
    "strainMap"
   ]
  },
  {
   "cell_type": "code",
   "execution_count": null,
   "metadata": {},
   "outputs": [],
   "source": [
    "genotype = np.zeros((snp.shape[0], len(snpStrainSet)), dtype=int)\n",
    "\n",
    "for i in range(snp.shape[0]):\n",
    "    for s in snpStrains[i]:\n",
    "        genotype[i, snpStrainSet.index(s)] = 1\n",
    "        \n",
    "genotype = pd.DataFrame(genotype, columns=[strainMap[s] for s in snpStrainSet])\n",
    "genotype.head()"
   ]
  },
  {
   "cell_type": "code",
   "execution_count": null,
   "metadata": {
    "scrolled": false
   },
   "outputs": [],
   "source": [
    "cond = metaConditions[1]\n",
    "\n",
    "for gi in range(100, 110):\n",
    "    g = genotype.iloc[gi, :]\n",
    "\n",
    "    ind = conditionGroup.get_group(cond)\n",
    "    ind = pd.merge(ind, g.to_frame('genotype'), right_index=True, left_on='snpStrain')\n",
    "\n",
    "    temp = data.iloc[:, ind.index]\n",
    "    \n",
    "    plt.figure()\n",
    "    for i in range(temp.shape[1]):\n",
    "        plt.subplot(1,2,ind.iloc[i,:]['genotype']+1)\n",
    "        plt.plot(data.index, temp.iloc[:,i], c='C0')\n",
    "        #plt.plot(data.index, temp.iloc[:,i], color='C%d'%ind.iloc[i,:]['genotype'])\n",
    "        \n",
    "    plt.subplot(121)\n",
    "    plt.ylim(temp.min().min(), temp.max().max())\n",
    "    plt.subplot(122)\n",
    "    plt.ylim(temp.min().min(), temp.max().max())\n",
    "    "
   ]
  },
  {
   "cell_type": "code",
   "execution_count": null,
   "metadata": {
    "collapsed": true
   },
   "outputs": [],
   "source": []
  }
 ],
 "metadata": {
  "kernelspec": {
   "display_name": "Python 2",
   "language": "python",
   "name": "python2"
  },
  "language_info": {
   "codemirror_mode": {
    "name": "ipython",
    "version": 2
   },
   "file_extension": ".py",
   "mimetype": "text/x-python",
   "name": "python",
   "nbconvert_exporter": "python",
   "pygments_lexer": "ipython2",
   "version": "2.7.12"
  }
 },
 "nbformat": 4,
 "nbformat_minor": 2
}