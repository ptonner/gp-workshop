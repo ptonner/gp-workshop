{
 "cells": [
  {
   "cell_type": "code",
   "execution_count": null,
   "metadata": {},
   "outputs": [],
   "source": [
    "%pylab"
   ]
  },
  {
   "cell_type": "code",
   "execution_count": null,
   "metadata": {
    "collapsed": true
   },
   "outputs": [],
   "source": [
    "%matplotlib inline"
   ]
  },
  {
   "cell_type": "code",
   "execution_count": null,
   "metadata": {},
   "outputs": [],
   "source": [
    "import pystan, GPy, scipy"
   ]
  },
  {
   "cell_type": "code",
   "execution_count": null,
   "metadata": {
    "collapsed": true
   },
   "outputs": [],
   "source": [
    "def plotFunctionSamples(param, plotKwargs={}, fillKwargs={}, **kwargs):\n",
    "    plotKwargs.update(kwargs)\n",
    "    fillKwargs.update(kwargs)\n",
    "    \n",
    "    plt.plot(x, param.mean(0), **plotKwargs)\n",
    "    plt.fill_between(x, param.mean(0)-1.98*param.std(0), param.mean(0)+1.98*param.std(0), alpha=.1, **fillKwargs)"
   ]
  },
  {
   "cell_type": "code",
   "execution_count": null,
   "metadata": {},
   "outputs": [],
   "source": [
    "code = \"\"\"\n",
    "data {\n",
    "  int<lower=1> N;\n",
    "  vector[N] y;\n",
    "  real x[N];\n",
    "}\n",
    "parameters {\n",
    "  //constrain hyperparameters to be positive\n",
    "  real<lower=0> length_scale;\n",
    "  real<lower=0> alpha;\n",
    "  real<lower=0> sigma;\n",
    "  vector[N] f_eta;\n",
    "}\n",
    "transformed parameters {\n",
    "  vector[N] f;\n",
    "  {\n",
    "    // define unneeded variables inside brackets \n",
    "    // to prevent storage by sampler\n",
    "    matrix[N, N] L_cov;\n",
    "    matrix[N, N] cov;\n",
    "    cov = cov_exp_quad(x, alpha, length_scale);\n",
    "    for (n in 1:N)\n",
    "      cov[n, n] = cov[n, n] + 1e-12;\n",
    "    L_cov = cholesky_decompose(cov);\n",
    "    f = L_cov * f_eta;\n",
    "  }\n",
    "}\n",
    "model {\n",
    "  length_scale ~ gamma(2, 2);\n",
    "  alpha ~ normal(0, 1);\n",
    "  sigma ~ normal(0, 1);\n",
    "  f_eta ~ normal(0, 1);\n",
    "  y ~ normal(f, sigma);\n",
    "}\n",
    "\"\"\"\n",
    "\n",
    "model = pystan.StanModel(model_code=code)"
   ]
  },
  {
   "cell_type": "code",
   "execution_count": null,
   "metadata": {},
   "outputs": [],
   "source": [
    "n = 20\n",
    "x = np.linspace(-1,1,n)\n",
    "k = GPy.kern.RBF(1)\n",
    "\n",
    "cov = np.tile(k.K(x[:,None]), (2,2))\n",
    "cov[:n, :n] += .1 * np.eye(n)\n",
    "\n",
    "s = scipy.stats.multivariate_normal.rvs(np.zeros(2*n), cov)\n",
    "y, f = s[:n], s[n:]\n",
    "\n",
    "plt.plot(x, f)\n",
    "plt.scatter(x, y)"
   ]
  },
  {
   "cell_type": "code",
   "execution_count": null,
   "metadata": {},
   "outputs": [],
   "source": [
    "cfg = {\n",
    "    'N': n,\n",
    "    'y': y,\n",
    "    'x': x\n",
    "}\n",
    "\n",
    "samples = model.sampling(data=cfg, iter=2000)\n",
    "samples"
   ]
  },
  {
   "cell_type": "code",
   "execution_count": null,
   "metadata": {
    "collapsed": true
   },
   "outputs": [],
   "source": [
    "samp = samples.extract()"
   ]
  },
  {
   "cell_type": "code",
   "execution_count": null,
   "metadata": {},
   "outputs": [],
   "source": [
    "samp.keys()"
   ]
  },
  {
   "cell_type": "code",
   "execution_count": null,
   "metadata": {},
   "outputs": [],
   "source": [
    "plt.plot(x, samp['f'].mean(0))\n",
    "plt.fill_between(x, samp['f'].mean(0)-1.98*samp['f'].std(0), samp['f'].mean(0)+1.98*samp['f'].std(0), alpha=.1)\n",
    "\n",
    "plt.plot(x, f, c='C1')"
   ]
  },
  {
   "cell_type": "markdown",
   "metadata": {},
   "source": [
    "# Add derivative sampling "
   ]
  },
  {
   "cell_type": "markdown",
   "metadata": {},
   "source": [
    "## Allow derivate prior"
   ]
  },
  {
   "cell_type": "code",
   "execution_count": null,
   "metadata": {},
   "outputs": [],
   "source": [
    "code = \"\"\"\n",
    "data {\n",
    "  int<lower=1> N;\n",
    "  vector[N] y;\n",
    "  real x[N];\n",
    "}\n",
    "parameters {\n",
    "  //constrain hyperparameters to be positive\n",
    "  real<lower=0> length_scale;\n",
    "  real<lower=0> alpha;\n",
    "  real<lower=0> sigma;\n",
    "  vector[2*N] eta;\n",
    "}\n",
    "transformed parameters {\n",
    "  vector[N] f;\n",
    "  vector[N] df;\n",
    "  \n",
    "  {\n",
    "    matrix[2*N,2*N] L_cov;\n",
    "    matrix[N, N] cov;\n",
    "    vector[N] K_div_f;\n",
    "      matrix[N, N] dK;\n",
    "      matrix[N, N] ddK;\n",
    "      matrix[N, N] v_pred;\n",
    "      vector[N] df_pred_mu;\n",
    "      matrix[N, N] cov_df_pred;\n",
    "      matrix[N, N] nug_pred;\n",
    "      real diff;\n",
    "      real lsInv = 1./length_scale/length_scale;\n",
    "\n",
    "      nug_pred = diag_matrix(rep_vector(1e-12,N));\n",
    "    cov = cov_exp_quad(x, alpha, length_scale);\n",
    "    for (n in 1:N)\n",
    "      cov[n, n] = cov[n, n] + 1e-12;\n",
    "    L_cov = cholesky_decompose(cov);\n",
    "    f = L_cov[1:N,1:N] * f_eta[1:N];\n",
    "    \n",
    "    //derivative\n",
    "    K_div_f = mdivide_left_tri_low(L_cov, f);\n",
    "      K_div_f = mdivide_right_tri_low(K_div_f',L_cov)';\n",
    "\n",
    "      // compute dK: cov(df, f), and ddK: cov(df, df)\n",
    "      dK = cov_exp_quad(x, alpha, length_scale);\n",
    "      ddK = cov_exp_quad(x, alpha, length_scale);\n",
    "      for (i in 1:N){\n",
    "        for (j in 1:N){\n",
    "          diff = x[i] - x[j];\n",
    "\n",
    "          dK[i,j] = dK[i,j] * (-lsInv * diff);\n",
    "          ddK[i,j] = ddK[i,j] * (1.-lsInv*diff*diff) * lsInv;\n",
    "        }\n",
    "      }\n",
    "      \n",
    "      df_pred_mu = (dK * K_div_f);\n",
    "\n",
    "      v_pred = mdivide_left_tri_low(L_cov, dK');\n",
    "      cov_df_pred = ddK - v_pred' * v_pred;\n",
    "      L_df = cholesky_decompose(cov_df_pred);\n",
    "      \n",
    "      df = L_df * df_eta;\n",
    "  }\n",
    "}\n",
    "model {\n",
    "  length_scale ~ gamma(2, 2);\n",
    "  alpha ~ normal(0, 1);\n",
    "  sigma ~ normal(0, 1);\n",
    "  f_eta ~ normal(0, 1);\n",
    "  df_eta ~ normal(0, 1);\n",
    "  y ~ normal(f, sigma);\n",
    "}\n",
    "\"\"\"\n",
    "\n",
    "model_derivative_prior = pystan.StanModel(model_code=code)"
   ]
  },
  {
   "cell_type": "code",
   "execution_count": null,
   "metadata": {},
   "outputs": [],
   "source": [
    "cfg = {\n",
    "    'N': n,\n",
    "    'y': y,\n",
    "    'x': x\n",
    "}\n",
    "\n",
    "samples = model_derivative_prior.sampling(data=cfg, iter=2000)\n",
    "samples"
   ]
  },
  {
   "cell_type": "code",
   "execution_count": null,
   "metadata": {
    "collapsed": true
   },
   "outputs": [],
   "source": [
    "samp = samples.extract()"
   ]
  },
  {
   "cell_type": "code",
   "execution_count": null,
   "metadata": {},
   "outputs": [],
   "source": [
    "samp.keys()"
   ]
  },
  {
   "cell_type": "code",
   "execution_count": null,
   "metadata": {},
   "outputs": [],
   "source": [
    "plotFunctionSamples(samp['f'])\n",
    "plt.plot(x, f, c='C1')\n",
    "\n",
    "plt.twinx()\n",
    "plotFunctionSamples(samp['df'], color='C1')"
   ]
  },
  {
   "cell_type": "code",
   "execution_count": null,
   "metadata": {
    "collapsed": true
   },
   "outputs": [],
   "source": []
  }
 ],
 "metadata": {
  "kernelspec": {
   "display_name": "Python 2",
   "language": "python",
   "name": "python2"
  },
  "language_info": {
   "codemirror_mode": {
    "name": "ipython",
    "version": 2
   },
   "file_extension": ".py",
   "mimetype": "text/x-python",
   "name": "python",
   "nbconvert_exporter": "python",
   "pygments_lexer": "ipython2",
   "version": "2.7.12"
  }
 },
 "nbformat": 4,
 "nbformat_minor": 2
}