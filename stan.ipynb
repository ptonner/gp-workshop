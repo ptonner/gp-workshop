{
 "cells": [
  {
   "cell_type": "code",
   "execution_count": 1,
   "metadata": {},
   "outputs": [
    {
     "name": "stdout",
     "output_type": "stream",
     "text": [
      "Using matplotlib backend: TkAgg\n",
      "Populating the interactive namespace from numpy and matplotlib\n"
     ]
    }
   ],
   "source": [
    "%pylab"
   ]
  },
  {
   "cell_type": "code",
   "execution_count": 2,
   "metadata": {
    "collapsed": true
   },
   "outputs": [],
   "source": [
    "%matplotlib inline"
   ]
  },
  {
   "cell_type": "code",
   "execution_count": 3,
   "metadata": {
    "collapsed": true
   },
   "outputs": [],
   "source": [
    "import pystan, GPy, scipy, stan_utility\n",
    "import pandas as pd"
   ]
  },
  {
   "cell_type": "markdown",
   "metadata": {},
   "source": [
    "# Example: one-way hierarchical model "
   ]
  },
  {
   "cell_type": "markdown",
   "metadata": {},
   "source": [
    "## centered model "
   ]
  },
  {
   "cell_type": "code",
   "execution_count": 4,
   "metadata": {},
   "outputs": [
    {
     "name": "stderr",
     "output_type": "stream",
     "text": [
      "INFO:pystan:COMPILING THE C++ CODE FOR MODEL anon_model_1b3c4120f866dbd0960a54c06cecc68f NOW.\n"
     ]
    }
   ],
   "source": [
    "code = \"\"\"\n",
    "data {\n",
    "    int<lower=0> N;\n",
    "    int<lower=1> G;\n",
    "    real y[N];\n",
    "    int<lower=1, upper=G> group[N];\n",
    "    real<lower=0> sigma;\n",
    "}\n",
    "parameters {\n",
    "    real mu;\n",
    "    real<lower=0> tau;\n",
    "    real theta[G];\n",
    "}\n",
    "transformed parameters{\n",
    "    real yhat[N];\n",
    "    \n",
    "    for(i in 1:N)\n",
    "        yhat[i] = theta[group[i]];\n",
    "}\n",
    "model {\n",
    "    mu ~ normal(0, 5);\n",
    "    tau ~ cauchy(0, 2.5);\n",
    "    theta ~ normal(mu, tau);\n",
    "    y ~ normal(yhat, sigma);        \n",
    "}\n",
    "\"\"\"\n",
    "\n",
    "# model = pystan.StanModel(model_code=code)\n",
    "\n",
    "model = pystan.StanModel(file='stan-models/hierarchical-centered.stan')"
   ]
  },
  {
   "cell_type": "code",
   "execution_count": 88,
   "metadata": {
    "scrolled": false
   },
   "outputs": [
    {
     "data": {
      "image/png": "[encoded data removed]",
      "text/plain": [
       "<matplotlib.figure.Figure at 0x7f2b66c5b190>"
      ]
     },
     "metadata": {},
     "output_type": "display_data"
    }
   ],
   "source": [
    "mu = 8.\n",
    "tau = 3.\n",
    "ysigma=3\n",
    "n = 10\n",
    "g = 3\n",
    "nrep = 3\n",
    "\n",
    "# theta = scipy.stats.norm.rvs(mu, scale=tau, size=n)\n",
    "# y = scipy.stats.norm.rvs(theta, scale=ysigma)\n",
    "\n",
    "theta = scipy.stats.norm.rvs(mu, scale=tau, size=g)\n",
    "y = scipy.stats.norm.rvs(np.repeat(theta, nrep), scale=ysigma)\n",
    "\n",
    "plt.figure(figsize=(10,4))\n",
    "\n",
    "plt.axhline(mu, c='k')\n",
    "\n",
    "#plt.plot(theta)\n",
    "# plt.plot(np.repeat(theta, nrep))\n",
    "# plt.plot(y)\n",
    "\n",
    "#plt.boxplot([y[i*nrep:(i+1)*nrep] for i in range(g)])\n",
    "plt.plot(range(1, g+1), theta, 'C1')\n",
    "plt.scatter(np.repeat(np.arange(1, g+1), nrep), y)\n",
    "plt.xticks(np.arange(1, g+1))\n",
    "plt.xlabel('groups')\n",
    "\n",
    "plt.savefig('figures/hierarchical-data.pdf', bbox_inches='tight')"
   ]
  },
  {
   "cell_type": "code",
   "execution_count": 83,
   "metadata": {},
   "outputs": [
    {
     "data": {
      "text/plain": [
       "Inference for Stan model: anon_model_1b3c4120f866dbd0960a54c06cecc68f.\n",
       "4 chains, each with iter=2000; warmup=1000; thin=1; \n",
       "post-warmup draws per chain=1000, total post-warmup draws=4000.\n",
       "\n",
       "           mean se_mean     sd   2.5%    25%    50%    75%  97.5%  n_eff   Rhat\n",
       "mu         8.44    0.06   1.63   4.58   7.63   8.58   9.51  11.08  833.0    1.0\n",
       "tau        1.68    0.07   1.73   0.26   0.66   1.18   2.07   6.21  575.0   1.01\n",
       "theta[0]   9.05    0.04   1.27   6.63   8.14   9.05    9.9  11.54  847.0    1.0\n",
       "theta[1]   9.02    0.04   1.32   6.58   8.13   9.04   9.89  11.68  928.0    1.0\n",
       "theta[2]   8.68    0.04   1.31   6.09   7.81   8.67   9.56  11.26 1044.0    1.0\n",
       "yhat[0]    9.05    0.04   1.27   6.63   8.14   9.05    9.9  11.54  847.0    1.0\n",
       "yhat[1]    9.05    0.04   1.27   6.63   8.14   9.05    9.9  11.54  847.0    1.0\n",
       "yhat[2]    9.05    0.04   1.27   6.63   8.14   9.05    9.9  11.54  847.0    1.0\n",
       "yhat[3]    9.02    0.04   1.32   6.58   8.13   9.04   9.89  11.68  928.0    1.0\n",
       "yhat[4]    9.02    0.04   1.32   6.58   8.13   9.04   9.89  11.68  928.0    1.0\n",
       "yhat[5]    9.02    0.04   1.32   6.58   8.13   9.04   9.89  11.68  928.0    1.0\n",
       "yhat[6]    8.68    0.04   1.31   6.09   7.81   8.67   9.56  11.26 1044.0    1.0\n",
       "yhat[7]    8.68    0.04   1.31   6.09   7.81   8.67   9.56  11.26 1044.0    1.0\n",
       "yhat[8]    8.68    0.04   1.31   6.09   7.81   8.67   9.56  11.26 1044.0    1.0\n",
       "lp__      -7.04    0.13   2.38 -12.28  -8.53  -6.88  -5.31  -2.98  361.0   1.01\n",
       "\n",
       "Samples were drawn using NUTS at Thu Oct 12 10:23:18 2017.\n",
       "For each parameter, n_eff is a crude measure of effective sample size,\n",
       "and Rhat is the potential scale reduction factor on split chains (at \n",
       "convergence, Rhat=1)."
      ]
     },
     "execution_count": 83,
     "metadata": {},
     "output_type": "execute_result"
    }
   ],
   "source": [
    "# config = {\n",
    "#     'J': n,\n",
    "#     'y': y,\n",
    "#     'sigma': ysigma\n",
    "# }\n",
    "\n",
    "config = {\n",
    "    'N': g*nrep,\n",
    "    'G': g,\n",
    "    'group': np.repeat(1+np.arange(g), nrep),\n",
    "    'y': y,\n",
    "    'sigma': ysigma\n",
    "}\n",
    "\n",
    "samples = model.sampling(data=config, chains=4, iter=2000)\n",
    "samples"
   ]
  },
  {
   "cell_type": "code",
   "execution_count": 84,
   "metadata": {},
   "outputs": [
    {
     "data": {
      "image/png": "[encoded data removed]",
      "text/plain": [
       "<matplotlib.figure.Figure at 0x7f2b70642750>"
      ]
     },
     "metadata": {},
     "output_type": "display_data"
    }
   ],
   "source": [
    "samples.plot(['mu', 'tau']);\n",
    "plt.tight_layout()"
   ]
  },
  {
   "cell_type": "code",
   "execution_count": 85,
   "metadata": {},
   "outputs": [
    {
     "name": "stdout",
     "output_type": "stream",
     "text": [
      "0 of 4000 iterations saturated the maximum tree depth of 10 (0%)\n"
     ]
    }
   ],
   "source": [
    "stan_utility.check_treedepth(samples)"
   ]
  },
  {
   "cell_type": "code",
   "execution_count": 86,
   "metadata": {},
   "outputs": [
    {
     "name": "stdout",
     "output_type": "stream",
     "text": [
      "215.0 of 4000 iterations ended with a divergence (5.375%)\n",
      "Try running with larger adapt_delta to remove the divergences\n"
     ]
    }
   ],
   "source": [
    "stan_utility.check_div(samples)"
   ]
  },
  {
   "cell_type": "code",
   "execution_count": 87,
   "metadata": {},
   "outputs": [
    {
     "name": "stderr",
     "output_type": "stream",
     "text": [
      "WARNING:root:`dtypes` ignored when `permuted` is False.\n"
     ]
    },
    {
     "data": {
      "text/plain": [
       "<matplotlib.text.Text at 0x7f2b704ca790>"
      ]
     },
     "execution_count": 87,
     "metadata": {},
     "output_type": "execute_result"
    },
    {
     "data": {
      "image/png": "[encoded data removed]",
      "text/plain": [
       "<matplotlib.figure.Figure at 0x7f2b706e93d0>"
      ]
     },
     "metadata": {},
     "output_type": "display_data"
    }
   ],
   "source": [
    "nondiv_params, div_params = stan_utility.partition_div(samples)\n",
    "\n",
    "light=\"#DCBCBC\"\n",
    "light_highlight=\"#C79999\"\n",
    "mid=\"#B97C7C\"\n",
    "mid_highlight=\"#A25050\"\n",
    "dark=\"#8F2727\"\n",
    "dark_highlight=\"#7C0000\"\n",
    "green=\"#00FF00\"\n",
    "\n",
    "plt.scatter([x[0] for x in nondiv_params['theta']], nondiv_params['tau'], \\\n",
    "             color = mid_highlight, alpha=0.05)\n",
    "plt.scatter([x[0] for x in div_params['theta']], div_params['tau'], \\\n",
    "             color = green, alpha=0.5)\n",
    "\n",
    "plt.semilogy()\n",
    "plt.scatter(theta[0], tau)\n",
    "\n",
    "plt.xlabel('theta_1')\n",
    "plt.ylabel('tau')"
   ]
  },
  {
   "cell_type": "code",
   "execution_count": 238,
   "metadata": {},
   "outputs": [
    {
     "data": {
      "text/plain": [
       "OrderedDict([(u'mu',\n",
       "              array([ 6.42795734,  3.44685943,  6.41218909, ...,  5.27414174,\n",
       "                      5.70672168,  5.77495939])),\n",
       "             (u'tau',\n",
       "              array([ 2.18294646,  1.54437189,  1.87700009, ...,  2.68359684,\n",
       "                      2.80186867,  2.74533077])),\n",
       "             (u'theta',\n",
       "              array([[ 8.61927488,  5.2194834 ,  5.74261099, ...,  7.56547561,\n",
       "                       6.63129543,  1.6281565 ],\n",
       "                     [ 7.56314754,  1.7429455 ,  2.94655848, ...,  5.54023328,\n",
       "                       5.96540487,  3.22052467],\n",
       "                     [ 8.28611477,  7.67794047,  3.31516833, ...,  9.83003984,\n",
       "                       6.51666499,  5.32665828],\n",
       "                     ..., \n",
       "                     [ 6.78369439,  5.31756261,  6.45144817, ...,  7.05294434,\n",
       "                       3.52547998,  0.57703281],\n",
       "                     [ 9.30095371,  5.15067529,  7.19401749, ...,  3.15475581,\n",
       "                       3.77796842,  7.82040363],\n",
       "                     [ 6.71746908,  4.39136838,  5.39326671, ...,  3.65005792,\n",
       "                      -0.10051021,  1.03690245]])),\n",
       "             (u'yhat',\n",
       "              array([[ 8.61927488,  8.61927488,  8.61927488, ...,  1.6281565 ,\n",
       "                       1.6281565 ,  1.6281565 ],\n",
       "                     [ 7.56314754,  7.56314754,  7.56314754, ...,  3.22052467,\n",
       "                       3.22052467,  3.22052467],\n",
       "                     [ 8.28611477,  8.28611477,  8.28611477, ...,  5.32665828,\n",
       "                       5.32665828,  5.32665828],\n",
       "                     ..., \n",
       "                     [ 6.78369439,  6.78369439,  6.78369439, ...,  0.57703281,\n",
       "                       0.57703281,  0.57703281],\n",
       "                     [ 9.30095371,  9.30095371,  9.30095371, ...,  7.82040363,\n",
       "                       7.82040363,  7.82040363],\n",
       "                     [ 6.71746908,  6.71746908,  6.71746908, ...,  1.03690245,\n",
       "                       1.03690245,  1.03690245]])),\n",
       "             (u'lp__',\n",
       "              array([-76.25790557, -78.29626262, -76.66388884, ..., -91.8464761 ,\n",
       "                     -84.76304885, -87.60969838]))])"
      ]
     },
     "execution_count": 238,
     "metadata": {},
     "output_type": "execute_result"
    }
   ],
   "source": [
    "samp = samples.extract()\n",
    "samp"
   ]
  },
  {
   "cell_type": "code",
   "execution_count": 239,
   "metadata": {},
   "outputs": [
    {
     "data": {
      "text/plain": [
       "(4000,)"
      ]
     },
     "execution_count": 239,
     "metadata": {},
     "output_type": "execute_result"
    }
   ],
   "source": [
    "samp['mu'].shape"
   ]
  },
  {
   "cell_type": "code",
   "execution_count": 240,
   "metadata": {},
   "outputs": [
    {
     "data": {
      "text/plain": [
       "(4000,)"
      ]
     },
     "execution_count": 240,
     "metadata": {},
     "output_type": "execute_result"
    }
   ],
   "source": [
    "samp['tau'].shape"
   ]
  },
  {
   "cell_type": "code",
   "execution_count": 241,
   "metadata": {},
   "outputs": [
    {
     "data": {
      "text/plain": [
       "(4000, 30)"
      ]
     },
     "execution_count": 241,
     "metadata": {},
     "output_type": "execute_result"
    }
   ],
   "source": [
    "samp['theta'].shape"
   ]
  },
  {
   "cell_type": "code",
   "execution_count": 242,
   "metadata": {},
   "outputs": [
    {
     "data": {
      "text/plain": [
       "[<matplotlib.lines.Line2D at 0x7f2b41928c10>]"
      ]
     },
     "execution_count": 242,
     "metadata": {},
     "output_type": "execute_result"
    },
    {
     "data": {
      "image/png": "[encoded data removed]",
      "text/plain": [
       "<matplotlib.figure.Figure at 0x7f2b41a19510>"
      ]
     },
     "metadata": {},
     "output_type": "display_data"
    }
   ],
   "source": [
    "plt.plot(samp['theta'].mean(0))\n",
    "plt.fill_between(range(g), \n",
    "                 samp['theta'].mean(0) - 1.98*samp['theta'].std(0), \n",
    "                 samp['theta'].mean(0) + 1.98*samp['theta'].std(0),\n",
    "                alpha=.1)\n",
    "\n",
    "plt.plot(theta)"
   ]
  },
  {
   "cell_type": "code",
   "execution_count": 243,
   "metadata": {},
   "outputs": [
    {
     "data": {
      "text/plain": [
       "<matplotlib.lines.Line2D at 0x7f2b40bd1c90>"
      ]
     },
     "execution_count": 243,
     "metadata": {},
     "output_type": "execute_result"
    },
    {
     "data": {
      "image/png": "[encoded data removed]",
      "text/plain": [
       "<matplotlib.figure.Figure at 0x7f2b41a19a90>"
      ]
     },
     "metadata": {},
     "output_type": "display_data"
    }
   ],
   "source": [
    "plt.plot(np.cumsum(samp['mu'])/(1.+np.arange(4000)))\n",
    "plt.axhline(mu, color='k')"
   ]
  },
  {
   "cell_type": "markdown",
   "metadata": {},
   "source": [
    "## non-centered model "
   ]
  },
  {
   "cell_type": "code",
   "execution_count": 89,
   "metadata": {},
   "outputs": [
    {
     "name": "stderr",
     "output_type": "stream",
     "text": [
      "INFO:pystan:COMPILING THE C++ CODE FOR MODEL anon_model_1d7c07a87ea244c8ae619107d225a4c6 NOW.\n"
     ]
    }
   ],
   "source": [
    "code = \"\"\"\n",
    "data {\n",
    "    int<lower=0> N;\n",
    "    int<lower=1> G;\n",
    "    real y[N];\n",
    "    int<lower=1, upper=G> group[N];\n",
    "    real<lower=0> sigma;\n",
    "}\n",
    "parameters {\n",
    "    real mu;\n",
    "    real<lower=0> tau;\n",
    "    real theta_tilde[G];\n",
    "}\n",
    "transformed parameters{\n",
    "    real yhat[N];\n",
    "    real theta[G];\n",
    "    \n",
    "    for (j in 1:G)\n",
    "        theta[j] = mu + tau * theta_tilde[j];\n",
    "    \n",
    "    for(i in 1:N)\n",
    "        yhat[i] = theta[group[i]];\n",
    "}\n",
    "model {\n",
    "    mu ~ normal(0, 5);\n",
    "    tau ~ cauchy(0, 2.5);\n",
    "    theta_tilde ~ normal(0, 1);\n",
    "    y ~ normal(yhat, sigma);        \n",
    "}\n",
    "\"\"\"\n",
    "\n",
    "model_nc = pystan.StanModel(model_code=code)"
   ]
  },
  {
   "cell_type": "code",
   "execution_count": 247,
   "metadata": {
    "collapsed": true
   },
   "outputs": [],
   "source": [
    "# config = {\n",
    "#     'J': n,\n",
    "#     'y': y,\n",
    "#     'sigma': ysigma\n",
    "# }\n",
    "\n",
    "config = {\n",
    "    'N': g*nrep,\n",
    "    'G': g,\n",
    "    'group': np.repeat(1+np.arange(g), nrep),\n",
    "    'y': y,\n",
    "    'sigma': ysigma\n",
    "}\n",
    "\n",
    "samples = model_nc.sampling(data=config, chains=4, iter=2000)\n",
    "samp = samples.extract()"
   ]
  },
  {
   "cell_type": "code",
   "execution_count": 248,
   "metadata": {},
   "outputs": [
    {
     "data": {
      "text/plain": [
       "Inference for Stan model: anon_model_1d7c07a87ea244c8ae619107d225a4c6.\n",
       "4 chains, each with iter=2000; warmup=1000; thin=1; \n",
       "post-warmup draws per chain=1000, total post-warmup draws=4000.\n",
       "\n",
       "                  mean se_mean     sd   2.5%    25%    50%    75%  97.5%  n_eff   Rhat\n",
       "mu                5.85    0.02   1.11   3.63   5.09   5.88   6.61   8.02 4000.0    1.0\n",
       "tau               1.86    0.03   1.33   0.09   0.78   1.63    2.7   4.94 1907.0    1.0\n",
       "theta_tilde[0]    0.43    0.02   0.98  -1.49  -0.25   0.43   1.11   2.29 4000.0    1.0\n",
       "theta_tilde[1]   -0.29    0.02   0.97  -2.17  -0.94   -0.3   0.36   1.66 4000.0    1.0\n",
       "theta_tilde[2]   -0.46    0.01   0.94  -2.27  -1.09  -0.49   0.19   1.46 4000.0    1.0\n",
       "theta_tilde[3]  9.7e-4    0.01   0.92  -1.78  -0.62-1.4e-3   0.63   1.75 4000.0    1.0\n",
       "theta_tilde[4]    0.03    0.02   0.98  -1.91  -0.63   0.03   0.68   1.97 4000.0    1.0\n",
       "theta_tilde[5]    0.35    0.02   0.95  -1.54   -0.3   0.36   1.01   2.15 4000.0    1.0\n",
       "theta_tilde[6]    0.59    0.02   0.99   -1.4  -0.09   0.58   1.27   2.51 4000.0    1.0\n",
       "theta_tilde[7]    0.18    0.01   0.95  -1.69  -0.46   0.18   0.81   2.01 4000.0    1.0\n",
       "theta_tilde[8]   -0.34    0.02   0.98  -2.23  -1.01  -0.35    0.3   1.68 4000.0    1.0\n",
       "theta_tilde[9]  2.6e-3    0.01   0.93  -1.82   -0.6 3.5e-4   0.59   1.83 4000.0    1.0\n",
       "theta_tilde[10]  -0.31    0.01   0.94  -2.08  -0.97  -0.34   0.34   1.57 4000.0    1.0\n",
       "theta_tilde[11]   0.38    0.02   0.97  -1.56  -0.27   0.39   1.03   2.21 4000.0    1.0\n",
       "theta_tilde[12]  -0.18    0.01   0.92  -1.96   -0.8  -0.18   0.44   1.62 4000.0    1.0\n",
       "theta_tilde[13]    0.2    0.02   0.96  -1.72  -0.46   0.21   0.86   2.04 4000.0    1.0\n",
       "theta_tilde[14]  -0.21    0.01   0.93  -2.06  -0.84  -0.22   0.42   1.62 4000.0    1.0\n",
       "theta_tilde[15]   0.23    0.02   0.96  -1.67  -0.41   0.23   0.85    2.1 4000.0    1.0\n",
       "theta_tilde[16]   0.35    0.02   0.96  -1.53  -0.27   0.36   1.01   2.15 4000.0    1.0\n",
       "theta_tilde[17]   0.07    0.01   0.94  -1.73  -0.58   0.07    0.7   1.93 4000.0    1.0\n",
       "theta_tilde[18]   0.26    0.02   0.96  -1.65  -0.36   0.28   0.87   2.17 4000.0    1.0\n",
       "theta_tilde[19]    0.4    0.02   0.97  -1.55  -0.27   0.42   1.08   2.26 4000.0    1.0\n",
       "theta_tilde[20]   0.03    0.02   0.95  -1.87   -0.6   0.02   0.66   1.91 4000.0    1.0\n",
       "theta_tilde[21]  -0.32    0.02   0.95  -2.13  -0.97  -0.32    0.3   1.58 4000.0    1.0\n",
       "theta_tilde[22]   0.02    0.01   0.94  -1.89  -0.61   0.03   0.66   1.89 4000.0    1.0\n",
       "theta_tilde[23]  -0.13    0.02   0.98  -2.07  -0.78  -0.14   0.52   1.83 4000.0    1.0\n",
       "theta_tilde[24]   0.08    0.01   0.92  -1.75  -0.54   0.11   0.69   1.86 4000.0    1.0\n",
       "theta_tilde[25]  -0.13    0.01   0.95  -2.05  -0.77  -0.13   0.51   1.74 4000.0    1.0\n",
       "theta_tilde[26]-6.9e-3    0.02   0.96   -1.9  -0.65  -0.01   0.63   1.86 4000.0    1.0\n",
       "theta_tilde[27] 2.2e-3    0.02   0.96  -1.88  -0.64-5.8e-3   0.64   1.87 4000.0    1.0\n",
       "theta_tilde[28]   -0.4    0.02   0.98  -2.22  -1.09  -0.43   0.23    1.6 4000.0    1.0\n",
       "theta_tilde[29]  -0.43    0.02    1.0  -2.35  -1.13  -0.46   0.23   1.63 4000.0    1.0\n",
       "yhat[0]           6.96    0.04   2.47   3.05   5.43   6.55   8.09  13.18 4000.0    1.0\n",
       "yhat[1]           6.96    0.04   2.47   3.05   5.43   6.55   8.09  13.18 4000.0    1.0\n",
       "yhat[2]           6.96    0.04   2.47   3.05   5.43   6.55   8.09  13.18 4000.0    1.0\n",
       "yhat[3]           5.09    0.04   2.31  -0.32   3.93   5.36    6.5    9.1 4000.0    1.0\n",
       "yhat[4]           5.09    0.04   2.31  -0.32   3.93   5.36    6.5    9.1 4000.0    1.0\n",
       "yhat[5]           5.09    0.04   2.31  -0.32   3.93   5.36    6.5    9.1 4000.0    1.0\n",
       "yhat[6]           4.72    0.04   2.44  -1.31   3.55   5.12   6.28   8.54 4000.0    1.0\n",
       "yhat[7]           4.72    0.04   2.44  -1.31   3.55   5.12   6.28   8.54 4000.0    1.0\n",
       "yhat[8]           4.72    0.04   2.44  -1.31   3.55   5.12   6.28   8.54 4000.0    1.0\n",
       "yhat[9]           5.88    0.03   2.13   1.36   4.71   5.88   7.08  10.22 4000.0    1.0\n",
       "yhat[10]          5.88    0.03   2.13   1.36   4.71   5.88   7.08  10.22 4000.0    1.0\n",
       "yhat[11]          5.88    0.03   2.13   1.36   4.71   5.88   7.08  10.22 4000.0    1.0\n",
       "yhat[12]          5.98    0.04   2.31   1.18   4.74   5.93   7.18  11.01 4000.0    1.0\n",
       "yhat[13]          5.98    0.04   2.31   1.18   4.74   5.93   7.18  11.01 4000.0    1.0\n",
       "yhat[14]          5.98    0.04   2.31   1.18   4.74   5.93   7.18  11.01 4000.0    1.0\n",
       "yhat[15]          6.77    0.04   2.37   2.78    5.3   6.48   7.92  12.39 4000.0    1.0\n",
       "yhat[16]          6.77    0.04   2.37   2.78    5.3   6.48   7.92  12.39 4000.0    1.0\n",
       "yhat[17]          6.77    0.04   2.37   2.78    5.3   6.48   7.92  12.39 4000.0    1.0\n",
       "yhat[18]          7.38    0.05   2.71   3.46   5.61   6.81   8.54  14.08 2612.0    1.0\n",
       "yhat[19]          7.38    0.05   2.71   3.46   5.61   6.81   8.54  14.08 2612.0    1.0\n",
       "yhat[20]          7.38    0.05   2.71   3.46   5.61   6.81   8.54  14.08 2612.0    1.0\n",
       "yhat[21]          6.31    0.04   2.22   1.99   5.01   6.19   7.46   11.3 4000.0    1.0\n",
       "yhat[22]          6.31    0.04   2.22   1.99   5.01   6.19   7.46   11.3 4000.0    1.0\n",
       "yhat[23]          6.31    0.04   2.22   1.99   5.01   6.19   7.46   11.3 4000.0    1.0\n",
       "yhat[24]          4.98    0.04   2.38  -0.89   3.82   5.32   6.48   8.93 4000.0    1.0\n",
       "yhat[25]          4.98    0.04   2.38  -0.89   3.82   5.32   6.48   8.93 4000.0    1.0\n",
       "yhat[26]          4.98    0.04   2.38  -0.89   3.82   5.32   6.48   8.93 4000.0    1.0\n",
       "yhat[27]          5.88    0.03    2.2    1.2   4.69   5.88   7.09  10.45 4000.0    1.0\n",
       "yhat[28]          5.88    0.03    2.2    1.2   4.69   5.88   7.09  10.45 4000.0    1.0\n",
       "yhat[29]          5.88    0.03    2.2    1.2   4.69   5.88   7.09  10.45 4000.0    1.0\n",
       "yhat[30]          5.09    0.04   2.36  -0.59    3.9   5.35   6.57   9.15 4000.0    1.0\n",
       "yhat[31]          5.09    0.04   2.36  -0.59    3.9   5.35   6.57   9.15 4000.0    1.0\n",
       "yhat[32]          5.09    0.04   2.36  -0.59    3.9   5.35   6.57   9.15 4000.0    1.0\n",
       "yhat[33]          6.83    0.04   2.41   2.89   5.34   6.52   7.94  12.63 4000.0    1.0\n",
       "yhat[34]          6.83    0.04   2.41   2.89   5.34   6.52   7.94  12.63 4000.0    1.0\n",
       "yhat[35]          6.83    0.04   2.41   2.89   5.34   6.52   7.94  12.63 4000.0    1.0\n",
       "yhat[36]          5.39    0.03   2.17   0.39   4.29   5.57   6.71   9.27 4000.0    1.0\n",
       "yhat[37]          5.39    0.03   2.17   0.39   4.29   5.57   6.71   9.27 4000.0    1.0\n",
       "yhat[38]          5.39    0.03   2.17   0.39   4.29   5.57   6.71   9.27 4000.0    1.0\n",
       "yhat[39]          6.33    0.03   2.19   2.04   5.05   6.21   7.53  11.15 4000.0    1.0\n",
       "yhat[40]          6.33    0.03   2.19   2.04   5.05   6.21   7.53  11.15 4000.0    1.0\n",
       "yhat[41]          6.33    0.03   2.19   2.04   5.05   6.21   7.53  11.15 4000.0    1.0\n",
       "yhat[42]          5.28    0.04   2.31  -0.19    4.2    5.5   6.65    9.2 4000.0    1.0\n",
       "yhat[43]          5.28    0.04   2.31  -0.19    4.2    5.5   6.65    9.2 4000.0    1.0\n",
       "yhat[44]          5.28    0.04   2.31  -0.19    4.2    5.5   6.65    9.2 4000.0    1.0\n",
       "yhat[45]          6.44    0.04   2.28   2.33   5.08   6.27   7.61  11.57 4000.0    1.0\n",
       "yhat[46]          6.44    0.04   2.28   2.33   5.08   6.27   7.61  11.57 4000.0    1.0\n",
       "yhat[47]          6.44    0.04   2.28   2.33   5.08   6.27   7.61  11.57 4000.0    1.0\n",
       "yhat[48]          6.78    0.04   2.34   2.89   5.26    6.5   7.95  12.35 4000.0    1.0\n",
       "yhat[49]          6.78    0.04   2.34   2.89   5.26    6.5   7.95  12.35 4000.0    1.0\n",
       "yhat[50]          6.78    0.04   2.34   2.89   5.26    6.5   7.95  12.35 4000.0    1.0\n",
       "yhat[51]          6.04    0.03   2.15   1.77   4.83   5.96   7.17  10.77 4000.0    1.0\n",
       "yhat[52]          6.04    0.03   2.15   1.77   4.83   5.96   7.17  10.77 4000.0    1.0\n",
       "yhat[53]          6.04    0.03   2.15   1.77   4.83   5.96   7.17  10.77 4000.0    1.0\n",
       "yhat[54]          6.56    0.04   2.31   2.57   5.14   6.33   7.66  12.09 4000.0    1.0\n",
       "yhat[55]          6.56    0.04   2.31   2.57   5.14   6.33   7.66  12.09 4000.0    1.0\n",
       "yhat[56]          6.56    0.04   2.31   2.57   5.14   6.33   7.66  12.09 4000.0    1.0\n",
       "yhat[57]          6.86    0.04   2.44   2.65   5.36   6.54   8.02  12.58 4000.0    1.0\n",
       "yhat[58]          6.86    0.04   2.44   2.65   5.36   6.54   8.02  12.58 4000.0    1.0\n",
       "yhat[59]          6.86    0.04   2.44   2.65   5.36   6.54   8.02  12.58 4000.0    1.0\n",
       "yhat[60]          5.92    0.04   2.24   1.24   4.67    5.9   7.18  10.52 4000.0    1.0\n",
       "yhat[61]          5.92    0.04   2.24   1.24   4.67    5.9   7.18  10.52 4000.0    1.0\n",
       "yhat[62]          5.92    0.04   2.24   1.24   4.67    5.9   7.18  10.52 4000.0    1.0\n",
       "yhat[63]          5.02    0.04   2.37  -0.85   3.86   5.36   6.48    8.9 4000.0    1.0\n",
       "yhat[64]          5.02    0.04   2.37  -0.85   3.86   5.36   6.48    8.9 4000.0    1.0\n",
       "yhat[65]          5.02    0.04   2.37  -0.85   3.86   5.36   6.48    8.9 4000.0    1.0\n",
       "yhat[66]          5.89    0.03   2.18   1.36    4.7   5.91   7.09  10.31 4000.0    1.0\n",
       "yhat[67]          5.89    0.03   2.18   1.36    4.7   5.91   7.09  10.31 4000.0    1.0\n",
       "yhat[68]          5.89    0.03   2.18   1.36    4.7   5.91   7.09  10.31 4000.0    1.0\n",
       "yhat[69]          5.51    0.04   2.28   0.46   4.36   5.68   6.83    9.7 4000.0    1.0\n",
       "yhat[70]          5.51    0.04   2.28   0.46   4.36   5.68   6.83    9.7 4000.0    1.0\n",
       "yhat[71]          5.51    0.04   2.28   0.46   4.36   5.68   6.83    9.7 4000.0    1.0\n",
       "yhat[72]          6.05    0.03   2.18    1.7   4.84   6.02   7.24   10.6 4000.0    1.0\n",
       "yhat[73]          6.05    0.03   2.18    1.7   4.84   6.02   7.24   10.6 4000.0    1.0\n",
       "yhat[74]          6.05    0.03   2.18    1.7   4.84   6.02   7.24   10.6 4000.0    1.0\n",
       "yhat[75]          5.51    0.04   2.25   0.39   4.39   5.68   6.82   9.74 4000.0    1.0\n",
       "yhat[76]          5.51    0.04   2.25   0.39   4.39   5.68   6.82   9.74 4000.0    1.0\n",
       "yhat[77]          5.51    0.04   2.25   0.39   4.39   5.68   6.82   9.74 4000.0    1.0\n",
       "yhat[78]          5.86    0.03    2.2    1.4   4.63   5.87   7.01  10.49 4000.0    1.0\n",
       "yhat[79]          5.86    0.03    2.2    1.4   4.63   5.87   7.01  10.49 4000.0    1.0\n",
       "yhat[80]          5.86    0.03    2.2    1.4   4.63   5.87   7.01  10.49 4000.0    1.0\n",
       "yhat[81]          5.88    0.04   2.28   1.12   4.61   5.85   7.08  10.62 4000.0    1.0\n",
       "yhat[82]          5.88    0.04   2.28   1.12   4.61   5.85   7.08  10.62 4000.0    1.0\n",
       "yhat[83]          5.88    0.04   2.28   1.12   4.61   5.85   7.08  10.62 4000.0    1.0\n",
       "yhat[84]          4.81    0.04   2.47  -1.16   3.64   5.22   6.38   8.81 4000.0    1.0\n",
       "yhat[85]          4.81    0.04   2.47  -1.16   3.64   5.22   6.38   8.81 4000.0    1.0\n",
       "yhat[86]          4.81    0.04   2.47  -1.16   3.64   5.22   6.38   8.81 4000.0    1.0\n",
       "yhat[87]          4.76    0.04   2.55  -1.46   3.53   5.13    6.4   8.86 4000.0    1.0\n",
       "yhat[88]          4.76    0.04   2.55  -1.46   3.53   5.13    6.4   8.86 4000.0    1.0\n",
       "yhat[89]          4.76    0.04   2.55  -1.46   3.53   5.13    6.4   8.86 4000.0    1.0\n",
       "theta[0]          6.96    0.04   2.47   3.05   5.43   6.55   8.09  13.18 4000.0    1.0\n",
       "theta[1]          5.09    0.04   2.31  -0.32   3.93   5.36    6.5    9.1 4000.0    1.0\n",
       "theta[2]          4.72    0.04   2.44  -1.31   3.55   5.12   6.28   8.54 4000.0    1.0\n",
       "theta[3]          5.88    0.03   2.13   1.36   4.71   5.88   7.08  10.22 4000.0    1.0\n",
       "theta[4]          5.98    0.04   2.31   1.18   4.74   5.93   7.18  11.01 4000.0    1.0\n",
       "theta[5]          6.77    0.04   2.37   2.78    5.3   6.48   7.92  12.39 4000.0    1.0\n",
       "theta[6]          7.38    0.05   2.71   3.46   5.61   6.81   8.54  14.08 2612.0    1.0\n",
       "theta[7]          6.31    0.04   2.22   1.99   5.01   6.19   7.46   11.3 4000.0    1.0\n",
       "theta[8]          4.98    0.04   2.38  -0.89   3.82   5.32   6.48   8.93 4000.0    1.0\n",
       "theta[9]          5.88    0.03    2.2    1.2   4.69   5.88   7.09  10.45 4000.0    1.0\n",
       "theta[10]         5.09    0.04   2.36  -0.59    3.9   5.35   6.57   9.15 4000.0    1.0\n",
       "theta[11]         6.83    0.04   2.41   2.89   5.34   6.52   7.94  12.63 4000.0    1.0\n",
       "theta[12]         5.39    0.03   2.17   0.39   4.29   5.57   6.71   9.27 4000.0    1.0\n",
       "theta[13]         6.33    0.03   2.19   2.04   5.05   6.21   7.53  11.15 4000.0    1.0\n",
       "theta[14]         5.28    0.04   2.31  -0.19    4.2    5.5   6.65    9.2 4000.0    1.0\n",
       "theta[15]         6.44    0.04   2.28   2.33   5.08   6.27   7.61  11.57 4000.0    1.0\n",
       "theta[16]         6.78    0.04   2.34   2.89   5.26    6.5   7.95  12.35 4000.0    1.0\n",
       "theta[17]         6.04    0.03   2.15   1.77   4.83   5.96   7.17  10.77 4000.0    1.0\n",
       "theta[18]         6.56    0.04   2.31   2.57   5.14   6.33   7.66  12.09 4000.0    1.0\n",
       "theta[19]         6.86    0.04   2.44   2.65   5.36   6.54   8.02  12.58 4000.0    1.0\n",
       "theta[20]         5.92    0.04   2.24   1.24   4.67    5.9   7.18  10.52 4000.0    1.0\n",
       "theta[21]         5.02    0.04   2.37  -0.85   3.86   5.36   6.48    8.9 4000.0    1.0\n",
       "theta[22]         5.89    0.03   2.18   1.36    4.7   5.91   7.09  10.31 4000.0    1.0\n",
       "theta[23]         5.51    0.04   2.28   0.46   4.36   5.68   6.83    9.7 4000.0    1.0\n",
       "theta[24]         6.05    0.03   2.18    1.7   4.84   6.02   7.24   10.6 4000.0    1.0\n",
       "theta[25]         5.51    0.04   2.25   0.39   4.39   5.68   6.82   9.74 4000.0    1.0\n",
       "theta[26]         5.86    0.03    2.2    1.4   4.63   5.87   7.01  10.49 4000.0    1.0\n",
       "theta[27]         5.88    0.04   2.28   1.12   4.61   5.85   7.08  10.62 4000.0    1.0\n",
       "theta[28]         4.81    0.04   2.47  -1.16   3.64   5.22   6.38   8.81 4000.0    1.0\n",
       "theta[29]         4.76    0.04   2.55  -1.46   3.53   5.13    6.4   8.86 4000.0    1.0\n",
       "lp__             -59.2    0.13   4.64 -68.65 -62.13 -59.03 -56.08 -50.47 1218.0   1.01\n",
       "\n",
       "Samples were drawn using NUTS at Wed Oct 11 16:58:06 2017.\n",
       "For each parameter, n_eff is a crude measure of effective sample size,\n",
       "and Rhat is the potential scale reduction factor on split chains (at \n",
       "convergence, Rhat=1)."
      ]
     },
     "execution_count": 248,
     "metadata": {},
     "output_type": "execute_result"
    }
   ],
   "source": [
    "samples"
   ]
  },
  {
   "cell_type": "code",
   "execution_count": 249,
   "metadata": {},
   "outputs": [
    {
     "data": {
      "image/png": "[encoded data removed]",
      "text/plain": [
       "<matplotlib.figure.Figure at 0x7f2b2cf78d10>"
      ]
     },
     "metadata": {},
     "output_type": "display_data"
    }
   ],
   "source": [
    "samples.plot(['mu', 'tau']);\n",
    "plt.tight_layout()"
   ]
  },
  {
   "cell_type": "code",
   "execution_count": 250,
   "metadata": {},
   "outputs": [
    {
     "name": "stdout",
     "output_type": "stream",
     "text": [
      "0 of 4000 iterations saturated the maximum tree depth of 10 (0%)\n"
     ]
    }
   ],
   "source": [
    "stan_utility.check_treedepth(samples)"
   ]
  },
  {
   "cell_type": "code",
   "execution_count": 251,
   "metadata": {},
   "outputs": [
    {
     "name": "stdout",
     "output_type": "stream",
     "text": [
      "0.0 of 4000 iterations ended with a divergence (0.0%)\n"
     ]
    }
   ],
   "source": [
    "stan_utility.check_div(samples)"
   ]
  },
  {
   "cell_type": "code",
   "execution_count": 258,
   "metadata": {},
   "outputs": [
    {
     "name": "stderr",
     "output_type": "stream",
     "text": [
      "WARNING:root:`dtypes` ignored when `permuted` is False.\n"
     ]
    },
    {
     "data": {
      "text/plain": [
       "<matplotlib.text.Text at 0x7f2b2aa2c150>"
      ]
     },
     "execution_count": 258,
     "metadata": {},
     "output_type": "execute_result"
    },
    {
     "data": {
      "image/png": "[encoded data removed]",
      "text/plain": [
       "<matplotlib.figure.Figure at 0x7f2b2ab6a050>"
      ]
     },
     "metadata": {},
     "output_type": "display_data"
    }
   ],
   "source": [
    "nondiv_params, div_params = stan_utility.partition_div(samples)\n",
    "\n",
    "light=\"#DCBCBC\"\n",
    "light_highlight=\"#C79999\"\n",
    "mid=\"#B97C7C\"\n",
    "mid_highlight=\"#A25050\"\n",
    "dark=\"#8F2727\"\n",
    "dark_highlight=\"#7C0000\"\n",
    "green=\"#00FF00\"\n",
    "\n",
    "plt.scatter([x[0] for x in div_params['theta']], div_params['tau'], \\\n",
    "             color = green, alpha=0.5)\n",
    "\n",
    "plt.scatter([x[0] for x in nondiv_params['theta']], nondiv_params['tau'], \\\n",
    "             color = mid_highlight, alpha=0.1)\n",
    "\n",
    "\n",
    "plt.semilogy()\n",
    "\n",
    "plt.scatter(theta[0], tau)\n",
    "\n",
    "plt.xlabel('theta_1')\n",
    "plt.ylabel('tau')\n"
   ]
  },
  {
   "cell_type": "code",
   "execution_count": 253,
   "metadata": {},
   "outputs": [
    {
     "data": {
      "text/plain": [
       "<matplotlib.lines.Line2D at 0x7f2b35b153d0>"
      ]
     },
     "execution_count": 253,
     "metadata": {},
     "output_type": "execute_result"
    },
    {
     "data": {
      "image/png": "[encoded data removed]",
      "text/plain": [
       "<matplotlib.figure.Figure at 0x7f2b35b15250>"
      ]
     },
     "metadata": {},
     "output_type": "display_data"
    }
   ],
   "source": [
    "plt.plot(np.cumsum(samp['mu'])/(1.+np.arange(4000)))\n",
    "plt.axhline(mu, color='k')"
   ]
  },
  {
   "cell_type": "markdown",
   "metadata": {},
   "source": [
    "# GP model "
   ]
  },
  {
   "cell_type": "code",
   "execution_count": null,
   "metadata": {
    "collapsed": true
   },
   "outputs": [],
   "source": [
    "def plotFunctionSamples(param, plotKwargs={}, fillKwargs={}, **kwargs):\n",
    "    plotKwargs.update(kwargs)\n",
    "    fillKwargs.update(kwargs)\n",
    "    \n",
    "    plt.plot(x, param.mean(0), **plotKwargs)\n",
    "    plt.fill_between(x, param.mean(0)-1.98*param.std(0), param.mean(0)+1.98*param.std(0), alpha=.1, **fillKwargs)"
   ]
  },
  {
   "cell_type": "code",
   "execution_count": null,
   "metadata": {
    "collapsed": true
   },
   "outputs": [],
   "source": [
    "code = \"\"\"\n",
    "data {\n",
    "  int<lower=1> N;\n",
    "  vector[N] y;\n",
    "  real x[N];\n",
    "}\n",
    "parameters {\n",
    "  //constrain hyperparameters to be positive\n",
    "  real<lower=0> length_scale;\n",
    "  real<lower=0> alpha;\n",
    "  real<lower=0> sigma;\n",
    "  vector[N] f_eta;\n",
    "}\n",
    "transformed parameters {\n",
    "  vector[N] f;\n",
    "  {\n",
    "    // define unneeded variables inside brackets \n",
    "    // to prevent storage by sampler\n",
    "    matrix[N, N] L_cov;\n",
    "    matrix[N, N] cov;\n",
    "    cov = cov_exp_quad(x, alpha, length_scale);\n",
    "    for (n in 1:N)\n",
    "      cov[n, n] = cov[n, n] + 1e-12;\n",
    "    L_cov = cholesky_decompose(cov);\n",
    "    f = L_cov * f_eta;\n",
    "  }\n",
    "}\n",
    "model {\n",
    "  length_scale ~ gamma(2, 2);\n",
    "  alpha ~ normal(0, 1);\n",
    "  sigma ~ normal(0, 1);\n",
    "  f_eta ~ normal(0, 1);\n",
    "  y ~ normal(f, sigma);\n",
    "}\n",
    "\"\"\"\n",
    "\n",
    "model = pystan.StanModel(model_code=code)"
   ]
  },
  {
   "cell_type": "code",
   "execution_count": null,
   "metadata": {
    "collapsed": true
   },
   "outputs": [],
   "source": [
    "n = 20\n",
    "x = np.linspace(-1,1,n)\n",
    "k = GPy.kern.RBF(1)\n",
    "\n",
    "cov = np.tile(k.K(x[:,None]), (2,2))\n",
    "cov[:n, :n] += .1 * np.eye(n)\n",
    "\n",
    "s = scipy.stats.multivariate_normal.rvs(np.zeros(2*n), cov)\n",
    "y, f = s[:n], s[n:]\n",
    "\n",
    "plt.plot(x, f)\n",
    "plt.scatter(x, y)"
   ]
  },
  {
   "cell_type": "code",
   "execution_count": null,
   "metadata": {
    "collapsed": true
   },
   "outputs": [],
   "source": [
    "cfg = {\n",
    "    'N': n,\n",
    "    'y': y,\n",
    "    'x': x\n",
    "}\n",
    "\n",
    "samples = model.sampling(data=cfg, iter=2000)\n",
    "samples"
   ]
  },
  {
   "cell_type": "code",
   "execution_count": null,
   "metadata": {
    "collapsed": true
   },
   "outputs": [],
   "source": [
    "samp = samples.extract()"
   ]
  },
  {
   "cell_type": "code",
   "execution_count": null,
   "metadata": {
    "collapsed": true
   },
   "outputs": [],
   "source": [
    "samp.keys()"
   ]
  },
  {
   "cell_type": "code",
   "execution_count": null,
   "metadata": {
    "collapsed": true
   },
   "outputs": [],
   "source": [
    "plt.plot(x, samp['f'].mean(0))\n",
    "plt.fill_between(x, samp['f'].mean(0)-1.98*samp['f'].std(0), samp['f'].mean(0)+1.98*samp['f'].std(0), alpha=.1)\n",
    "\n",
    "plt.plot(x, f, c='C1')"
   ]
  },
  {
   "cell_type": "markdown",
   "metadata": {},
   "source": [
    "# Add derivative sampling "
   ]
  },
  {
   "cell_type": "markdown",
   "metadata": {},
   "source": [
    "## Allow derivate prior"
   ]
  },
  {
   "cell_type": "code",
   "execution_count": null,
   "metadata": {
    "collapsed": true
   },
   "outputs": [],
   "source": [
    "code = \"\"\"\n",
    "data {\n",
    "  int<lower=1> N;\n",
    "  vector[N] y;\n",
    "  real x[N];\n",
    "}\n",
    "parameters {\n",
    "  //constrain hyperparameters to be positive\n",
    "  real<lower=0> length_scale;\n",
    "  real<lower=0> alpha;\n",
    "  real<lower=0> sigma;\n",
    "  vector[2*N] eta;\n",
    "}\n",
    "transformed parameters {\n",
    "  vector[N] f;\n",
    "  vector[N] df;\n",
    "  \n",
    "  {\n",
    "    matrix[2*N,2*N] L_cov;\n",
    "    matrix[N, N] cov;\n",
    "    vector[N] K_div_f;\n",
    "      matrix[N, N] dK;\n",
    "      matrix[N, N] ddK;\n",
    "      matrix[N, N] v_pred;\n",
    "      vector[N] df_pred_mu;\n",
    "      matrix[N, N] cov_df_pred;\n",
    "      matrix[N, N] nug_pred;\n",
    "      real diff;\n",
    "      real lsInv = 1./length_scale/length_scale;\n",
    "\n",
    "      nug_pred = diag_matrix(rep_vector(1e-12,N));\n",
    "    cov = cov_exp_quad(x, alpha, length_scale);\n",
    "    for (n in 1:N)\n",
    "      cov[n, n] = cov[n, n] + 1e-12;\n",
    "    L_cov = cholesky_decompose(cov);\n",
    "    f = L_cov[1:N,1:N] * f_eta[1:N];\n",
    "    \n",
    "    //derivative\n",
    "    K_div_f = mdivide_left_tri_low(L_cov, f);\n",
    "      K_div_f = mdivide_right_tri_low(K_div_f',L_cov)';\n",
    "\n",
    "      // compute dK: cov(df, f), and ddK: cov(df, df)\n",
    "      dK = cov_exp_quad(x, alpha, length_scale);\n",
    "      ddK = cov_exp_quad(x, alpha, length_scale);\n",
    "      for (i in 1:N){\n",
    "        for (j in 1:N){\n",
    "          diff = x[i] - x[j];\n",
    "\n",
    "          dK[i,j] = dK[i,j] * (-lsInv * diff);\n",
    "          ddK[i,j] = ddK[i,j] * (1.-lsInv*diff*diff) * lsInv;\n",
    "        }\n",
    "      }\n",
    "      \n",
    "      df_pred_mu = (dK * K_div_f);\n",
    "\n",
    "      v_pred = mdivide_left_tri_low(L_cov, dK');\n",
    "      cov_df_pred = ddK - v_pred' * v_pred;\n",
    "      L_df = cholesky_decompose(cov_df_pred);\n",
    "      \n",
    "      df = L_df * df_eta;\n",
    "  }\n",
    "}\n",
    "model {\n",
    "  length_scale ~ gamma(2, 2);\n",
    "  alpha ~ normal(0, 1);\n",
    "  sigma ~ normal(0, 1);\n",
    "  f_eta ~ normal(0, 1);\n",
    "  df_eta ~ normal(0, 1);\n",
    "  y ~ normal(f, sigma);\n",
    "}\n",
    "\"\"\"\n",
    "\n",
    "model_derivative_prior = pystan.StanModel(model_code=code)"
   ]
  },
  {
   "cell_type": "code",
   "execution_count": null,
   "metadata": {
    "collapsed": true
   },
   "outputs": [],
   "source": [
    "cfg = {\n",
    "    'N': n,\n",
    "    'y': y,\n",
    "    'x': x\n",
    "}\n",
    "\n",
    "samples = model_derivative_prior.sampling(data=cfg, iter=2000)\n",
    "samples"
   ]
  },
  {
   "cell_type": "code",
   "execution_count": null,
   "metadata": {
    "collapsed": true
   },
   "outputs": [],
   "source": [
    "samp = samples.extract()"
   ]
  },
  {
   "cell_type": "code",
   "execution_count": null,
   "metadata": {
    "collapsed": true
   },
   "outputs": [],
   "source": [
    "samp.keys()"
   ]
  },
  {
   "cell_type": "code",
   "execution_count": null,
   "metadata": {
    "collapsed": true
   },
   "outputs": [],
   "source": [
    "plotFunctionSamples(samp['f'])\n",
    "plt.plot(x, f, c='C1')\n",
    "\n",
    "plt.twinx()\n",
    "plotFunctionSamples(samp['df'], color='C1')"
   ]
  },
  {
   "cell_type": "markdown",
   "metadata": {
    "collapsed": true
   },
   "source": [
    "# Delorean Model "
   ]
  },
  {
   "cell_type": "code",
   "execution_count": 52,
   "metadata": {},
   "outputs": [
    {
     "name": "stderr",
     "output_type": "stream",
     "text": [
      "INFO:pystan:COMPILING THE C++ CODE FOR MODEL anon_model_2d076b8f826bca8c4fe13aba5c721868 NOW.\n"
     ]
    }
   ],
   "source": [
    "delorean = pystan.StanModel(file='stan-models/delorean/exact.stan')"
   ]
  },
  {
   "cell_type": "code",
   "execution_count": 75,
   "metadata": {
    "collapsed": true
   },
   "outputs": [],
   "source": [
    "ds = 'windram'\n",
    "\n",
    "meta = pd.read_csv('data/delorean/%s.cell.meta.csv'%ds, index_col=0)\n",
    "expr = pd.read_csv('data/delorean/%s.expr.csv'%ds, index_col=0)\n",
    "genemeta = pd.read_csv('data/delorean/%s.gene.meta.csv'%ds, index_col=0)"
   ]
  },
  {
   "cell_type": "code",
   "execution_count": 76,
   "metadata": {},
   "outputs": [
    {
     "data": {
      "text/plain": [
       "((48, 4), (150, 48), (150, 2))"
      ]
     },
     "execution_count": 76,
     "metadata": {},
     "output_type": "execute_result"
    }
   ],
   "source": [
    "meta.shape, expr.shape, genemeta.shape"
   ]
  },
  {
   "cell_type": "code",
   "execution_count": 115,
   "metadata": {},
   "outputs": [
    {
     "data": {
      "text/html": [
       "<div>\n",
       "<style>\n",
       "    .dataframe thead tr:only-child th {\n",
       "        text-align: right;\n",
       "    }\n",
       "\n",
       "    .dataframe thead th {\n",
       "        text-align: left;\n",
       "    }\n",
       "\n",
       "    .dataframe tbody tr th {\n",
       "        vertical-align: top;\n",
       "    }\n",
       "</style>\n",
       "<table border=\"1\" class=\"dataframe\">\n",
       "  <thead>\n",
       "    <tr style=\"text-align: right;\">\n",
       "      <th></th>\n",
       "      <th>cell</th>\n",
       "      <th>obstime</th>\n",
       "      <th>condition</th>\n",
       "      <th>capture</th>\n",
       "    </tr>\n",
       "  </thead>\n",
       "  <tbody>\n",
       "    <tr>\n",
       "      <th>1</th>\n",
       "      <td>GSM734540</td>\n",
       "      <td>2</td>\n",
       "      <td>Botrytis</td>\n",
       "      <td>2</td>\n",
       "    </tr>\n",
       "    <tr>\n",
       "      <th>2</th>\n",
       "      <td>GSM734541</td>\n",
       "      <td>4</td>\n",
       "      <td>Botrytis</td>\n",
       "      <td>4</td>\n",
       "    </tr>\n",
       "    <tr>\n",
       "      <th>3</th>\n",
       "      <td>GSM734542</td>\n",
       "      <td>6</td>\n",
       "      <td>Botrytis</td>\n",
       "      <td>6</td>\n",
       "    </tr>\n",
       "    <tr>\n",
       "      <th>4</th>\n",
       "      <td>GSM734543</td>\n",
       "      <td>8</td>\n",
       "      <td>Botrytis</td>\n",
       "      <td>8</td>\n",
       "    </tr>\n",
       "    <tr>\n",
       "      <th>5</th>\n",
       "      <td>GSM734544</td>\n",
       "      <td>10</td>\n",
       "      <td>Botrytis</td>\n",
       "      <td>10</td>\n",
       "    </tr>\n",
       "  </tbody>\n",
       "</table>\n",
       "</div>"
      ],
      "text/plain": [
       "        cell  obstime condition  capture\n",
       "1  GSM734540        2  Botrytis        2\n",
       "2  GSM734541        4  Botrytis        4\n",
       "3  GSM734542        6  Botrytis        6\n",
       "4  GSM734543        8  Botrytis        8\n",
       "5  GSM734544       10  Botrytis       10"
      ]
     },
     "execution_count": 115,
     "metadata": {},
     "output_type": "execute_result"
    }
   ],
   "source": [
    "meta.head()"
   ]
  },
  {
   "cell_type": "code",
   "execution_count": 78,
   "metadata": {},
   "outputs": [
    {
     "data": {
      "text/plain": [
       "(array([ 6.,  4.,  4.,  6.,  4.,  4.,  6.,  4.,  4.,  6.]),\n",
       " array([  2. ,   6.6,  11.2,  15.8,  20.4,  25. ,  29.6,  34.2,  38.8,\n",
       "         43.4,  48. ]),\n",
       " <a list of 10 Patch objects>)"
      ]
     },
     "execution_count": 78,
     "metadata": {},
     "output_type": "execute_result"
    },
    {
     "data": {
      "image/png": "[encoded data removed]",
      "text/plain": [
       "<matplotlib.figure.Figure at 0x7fd3a426d6d0>"
      ]
     },
     "metadata": {},
     "output_type": "display_data"
    }
   ],
   "source": [
    "plt.hist(meta.obstime)"
   ]
  },
  {
   "cell_type": "code",
   "execution_count": 79,
   "metadata": {},
   "outputs": [
    {
     "data": {
      "text/html": [
       "<div>\n",
       "<style>\n",
       "    .dataframe thead tr:only-child th {\n",
       "        text-align: right;\n",
       "    }\n",
       "\n",
       "    .dataframe thead th {\n",
       "        text-align: left;\n",
       "    }\n",
       "\n",
       "    .dataframe tbody tr th {\n",
       "        vertical-align: top;\n",
       "    }\n",
       "</style>\n",
       "<table border=\"1\" class=\"dataframe\">\n",
       "  <thead>\n",
       "    <tr style=\"text-align: right;\">\n",
       "      <th></th>\n",
       "      <th>GSM734540</th>\n",
       "      <th>GSM734541</th>\n",
       "      <th>GSM734542</th>\n",
       "      <th>GSM734543</th>\n",
       "      <th>GSM734544</th>\n",
       "      <th>GSM734545</th>\n",
       "      <th>GSM734546</th>\n",
       "      <th>GSM734547</th>\n",
       "      <th>GSM734548</th>\n",
       "      <th>GSM734549</th>\n",
       "      <th>...</th>\n",
       "      <th>GSM734578</th>\n",
       "      <th>GSM734579</th>\n",
       "      <th>GSM734580</th>\n",
       "      <th>GSM734581</th>\n",
       "      <th>GSM734582</th>\n",
       "      <th>GSM734583</th>\n",
       "      <th>GSM734584</th>\n",
       "      <th>GSM734585</th>\n",
       "      <th>GSM734586</th>\n",
       "      <th>GSM734587</th>\n",
       "    </tr>\n",
       "  </thead>\n",
       "  <tbody>\n",
       "    <tr>\n",
       "      <th>CATMA1a00350</th>\n",
       "      <td>9.710897</td>\n",
       "      <td>9.832590</td>\n",
       "      <td>9.884595</td>\n",
       "      <td>9.945775</td>\n",
       "      <td>9.877853</td>\n",
       "      <td>10.202463</td>\n",
       "      <td>9.840159</td>\n",
       "      <td>10.088847</td>\n",
       "      <td>9.810455</td>\n",
       "      <td>9.180298</td>\n",
       "      <td>...</td>\n",
       "      <td>10.117931</td>\n",
       "      <td>10.066953</td>\n",
       "      <td>10.021325</td>\n",
       "      <td>10.377542</td>\n",
       "      <td>9.791147</td>\n",
       "      <td>10.411251</td>\n",
       "      <td>10.198705</td>\n",
       "      <td>10.018750</td>\n",
       "      <td>10.034907</td>\n",
       "      <td>9.884397</td>\n",
       "    </tr>\n",
       "    <tr>\n",
       "      <th>CATMA1a00725</th>\n",
       "      <td>12.088297</td>\n",
       "      <td>12.452569</td>\n",
       "      <td>12.808097</td>\n",
       "      <td>12.905720</td>\n",
       "      <td>12.749294</td>\n",
       "      <td>12.902973</td>\n",
       "      <td>12.976291</td>\n",
       "      <td>12.694036</td>\n",
       "      <td>13.259558</td>\n",
       "      <td>12.801453</td>\n",
       "      <td>...</td>\n",
       "      <td>12.436501</td>\n",
       "      <td>12.670511</td>\n",
       "      <td>12.383517</td>\n",
       "      <td>12.084563</td>\n",
       "      <td>12.544240</td>\n",
       "      <td>12.711120</td>\n",
       "      <td>12.803843</td>\n",
       "      <td>12.613040</td>\n",
       "      <td>12.277474</td>\n",
       "      <td>12.115316</td>\n",
       "    </tr>\n",
       "    <tr>\n",
       "      <th>CATMA1a00790</th>\n",
       "      <td>6.852164</td>\n",
       "      <td>6.556423</td>\n",
       "      <td>5.563841</td>\n",
       "      <td>5.361028</td>\n",
       "      <td>5.634317</td>\n",
       "      <td>7.145824</td>\n",
       "      <td>5.293819</td>\n",
       "      <td>6.482773</td>\n",
       "      <td>6.372674</td>\n",
       "      <td>5.784951</td>\n",
       "      <td>...</td>\n",
       "      <td>5.716546</td>\n",
       "      <td>6.410615</td>\n",
       "      <td>6.574702</td>\n",
       "      <td>6.308654</td>\n",
       "      <td>6.397054</td>\n",
       "      <td>6.673808</td>\n",
       "      <td>4.963005</td>\n",
       "      <td>5.639637</td>\n",
       "      <td>5.738830</td>\n",
       "      <td>5.041594</td>\n",
       "    </tr>\n",
       "    <tr>\n",
       "      <th>CATMA1a02710</th>\n",
       "      <td>9.362607</td>\n",
       "      <td>9.646485</td>\n",
       "      <td>8.855508</td>\n",
       "      <td>8.812352</td>\n",
       "      <td>8.742348</td>\n",
       "      <td>9.077515</td>\n",
       "      <td>9.166195</td>\n",
       "      <td>9.859782</td>\n",
       "      <td>9.956077</td>\n",
       "      <td>9.171175</td>\n",
       "      <td>...</td>\n",
       "      <td>9.053681</td>\n",
       "      <td>8.886858</td>\n",
       "      <td>9.312501</td>\n",
       "      <td>9.417784</td>\n",
       "      <td>10.187124</td>\n",
       "      <td>9.768930</td>\n",
       "      <td>9.970470</td>\n",
       "      <td>9.063829</td>\n",
       "      <td>9.036554</td>\n",
       "      <td>9.740412</td>\n",
       "    </tr>\n",
       "    <tr>\n",
       "      <th>CATMA1a05095</th>\n",
       "      <td>7.895253</td>\n",
       "      <td>8.104990</td>\n",
       "      <td>7.441710</td>\n",
       "      <td>7.813741</td>\n",
       "      <td>7.869875</td>\n",
       "      <td>7.599806</td>\n",
       "      <td>7.838487</td>\n",
       "      <td>7.913710</td>\n",
       "      <td>7.438730</td>\n",
       "      <td>7.879663</td>\n",
       "      <td>...</td>\n",
       "      <td>7.999981</td>\n",
       "      <td>7.979035</td>\n",
       "      <td>8.282805</td>\n",
       "      <td>8.069738</td>\n",
       "      <td>8.147884</td>\n",
       "      <td>7.997745</td>\n",
       "      <td>8.299933</td>\n",
       "      <td>8.232949</td>\n",
       "      <td>8.108524</td>\n",
       "      <td>8.110180</td>\n",
       "    </tr>\n",
       "  </tbody>\n",
       "</table>\n",
       "<p>5 rows × 48 columns</p>\n",
       "</div>"
      ],
      "text/plain": [
       "              GSM734540  GSM734541  GSM734542  GSM734543  GSM734544  \\\n",
       "CATMA1a00350   9.710897   9.832590   9.884595   9.945775   9.877853   \n",
       "CATMA1a00725  12.088297  12.452569  12.808097  12.905720  12.749294   \n",
       "CATMA1a00790   6.852164   6.556423   5.563841   5.361028   5.634317   \n",
       "CATMA1a02710   9.362607   9.646485   8.855508   8.812352   8.742348   \n",
       "CATMA1a05095   7.895253   8.104990   7.441710   7.813741   7.869875   \n",
       "\n",
       "              GSM734545  GSM734546  GSM734547  GSM734548  GSM734549  \\\n",
       "CATMA1a00350  10.202463   9.840159  10.088847   9.810455   9.180298   \n",
       "CATMA1a00725  12.902973  12.976291  12.694036  13.259558  12.801453   \n",
       "CATMA1a00790   7.145824   5.293819   6.482773   6.372674   5.784951   \n",
       "CATMA1a02710   9.077515   9.166195   9.859782   9.956077   9.171175   \n",
       "CATMA1a05095   7.599806   7.838487   7.913710   7.438730   7.879663   \n",
       "\n",
       "                ...      GSM734578  GSM734579  GSM734580  GSM734581  \\\n",
       "CATMA1a00350    ...      10.117931  10.066953  10.021325  10.377542   \n",
       "CATMA1a00725    ...      12.436501  12.670511  12.383517  12.084563   \n",
       "CATMA1a00790    ...       5.716546   6.410615   6.574702   6.308654   \n",
       "CATMA1a02710    ...       9.053681   8.886858   9.312501   9.417784   \n",
       "CATMA1a05095    ...       7.999981   7.979035   8.282805   8.069738   \n",
       "\n",
       "              GSM734582  GSM734583  GSM734584  GSM734585  GSM734586  GSM734587  \n",
       "CATMA1a00350   9.791147  10.411251  10.198705  10.018750  10.034907   9.884397  \n",
       "CATMA1a00725  12.544240  12.711120  12.803843  12.613040  12.277474  12.115316  \n",
       "CATMA1a00790   6.397054   6.673808   4.963005   5.639637   5.738830   5.041594  \n",
       "CATMA1a02710  10.187124   9.768930   9.970470   9.063829   9.036554   9.740412  \n",
       "CATMA1a05095   8.147884   7.997745   8.299933   8.232949   8.108524   8.110180  \n",
       "\n",
       "[5 rows x 48 columns]"
      ]
     },
     "execution_count": 79,
     "metadata": {},
     "output_type": "execute_result"
    }
   ],
   "source": [
    "expr.head()"
   ]
  },
  {
   "cell_type": "code",
   "execution_count": 80,
   "metadata": {},
   "outputs": [
    {
     "data": {
      "text/html": [
       "<div>\n",
       "<style>\n",
       "    .dataframe thead tr:only-child th {\n",
       "        text-align: right;\n",
       "    }\n",
       "\n",
       "    .dataframe thead th {\n",
       "        text-align: left;\n",
       "    }\n",
       "\n",
       "    .dataframe tbody tr th {\n",
       "        vertical-align: top;\n",
       "    }\n",
       "</style>\n",
       "<table border=\"1\" class=\"dataframe\">\n",
       "  <thead>\n",
       "    <tr style=\"text-align: right;\">\n",
       "      <th></th>\n",
       "      <th>gene</th>\n",
       "      <th>TAIR9</th>\n",
       "    </tr>\n",
       "  </thead>\n",
       "  <tbody>\n",
       "    <tr>\n",
       "      <th>1</th>\n",
       "      <td>CATMA1a00350</td>\n",
       "      <td>AT1G01360</td>\n",
       "    </tr>\n",
       "    <tr>\n",
       "      <th>2</th>\n",
       "      <td>CATMA1a00725</td>\n",
       "      <td>AT1G01720</td>\n",
       "    </tr>\n",
       "    <tr>\n",
       "      <th>3</th>\n",
       "      <td>CATMA1a00790</td>\n",
       "      <td>AT1G01780</td>\n",
       "    </tr>\n",
       "    <tr>\n",
       "      <th>4</th>\n",
       "      <td>CATMA1a02710</td>\n",
       "      <td>AT1G03850</td>\n",
       "    </tr>\n",
       "    <tr>\n",
       "      <th>5</th>\n",
       "      <td>CATMA1a05095</td>\n",
       "      <td>AT1G06080</td>\n",
       "    </tr>\n",
       "  </tbody>\n",
       "</table>\n",
       "</div>"
      ],
      "text/plain": [
       "           gene      TAIR9\n",
       "1  CATMA1a00350  AT1G01360\n",
       "2  CATMA1a00725  AT1G01720\n",
       "3  CATMA1a00790  AT1G01780\n",
       "4  CATMA1a02710  AT1G03850\n",
       "5  CATMA1a05095  AT1G06080"
      ]
     },
     "execution_count": 80,
     "metadata": {},
     "output_type": "execute_result"
    }
   ],
   "source": [
    "genemeta.head()"
   ]
  },
  {
   "cell_type": "code",
   "execution_count": 125,
   "metadata": {},
   "outputs": [
    {
     "data": {
      "image/png": "[encoded data removed]",
      "text/plain": [
       "<matplotlib.figure.Figure at 0x7fd3a4624390>"
      ]
     },
     "metadata": {},
     "output_type": "display_data"
    }
   ],
   "source": [
    "tind = range(0,expr.shape[1],1)\n",
    "\n",
    "gind = range(2)\n",
    "gind = [0, 6]\n",
    "\n",
    "time = meta.obstime.values[tind]\n",
    "exp = expr.values[gind,:][:, tind]\n",
    "\n",
    "time = 1.*(time-time.min())/(time.max()-time.min())\n",
    "\n",
    "timeTrain = np.tile(np.repeat(range(4), 6), 2)\n",
    "timeTrain = 1.*(timeTrain-timeTrain.min())/(timeTrain.max()-timeTrain.min())\n",
    "\n",
    "plt.figure(figsize=(10, 4))\n",
    "plt.subplot(121)\n",
    "for i in range(exp.shape[0]):\n",
    "    plt.scatter(time, exp[i,:])\n",
    "    \n",
    "plt.subplot(122)\n",
    "for i in range(exp.shape[0]):\n",
    "    plt.scatter(timeTrain, exp[i,:])"
   ]
  },
  {
   "cell_type": "code",
   "execution_count": 155,
   "metadata": {},
   "outputs": [],
   "source": [
    "config = dict(\n",
    "    C = time.shape[0], #meta.shape[0], # number of cells\n",
    "    G = 2, # number of genes\n",
    "    H = 0, # number of held-out genes\n",
    "    \n",
    "    periodic = 0, # non-periodic fxn\n",
    "    period = 0,\n",
    "    \n",
    "#     time = meta.obstime.values[:10], # observation time\n",
    "#     expr = expr.values[:2,:10], # expression data\n",
    "#     phi = expr.mean(1).values[:2,], # gene mean\n",
    "    \n",
    "    time = timeTrain,\n",
    "    expr= exp,\n",
    "    phi = exp.mean(1),\n",
    "    \n",
    "    # hyperparameters\n",
    "    mu_psi = 1.,\n",
    "    sigma_psi = 1.,\n",
    "    mu_omega = 1.,\n",
    "    sigma_omega = 1.,\n",
    "    sigma_tau=0.5,\n",
    "    l=1.5,\n",
    "    \n",
    "    heldout_psi=[],\n",
    "    heldout_omega=[],\n",
    "    \n",
    "    numtest=30,\n",
    "    testinput = np.linspace(-.5, 1.5, 30),\n",
    ")"
   ]
  },
  {
   "cell_type": "code",
   "execution_count": 156,
   "metadata": {},
   "outputs": [
    {
     "data": {
      "text/plain": [
       "Inference for Stan model: anon_model_2d076b8f826bca8c4fe13aba5c721868.\n",
       "4 chains, each with iter=2000; warmup=1000; thin=1; \n",
       "post-warmup draws per chain=1000, total post-warmup draws=4000.\n",
       "\n",
       "                      mean se_mean     sd   2.5%    25%    50%    75%  97.5%  n_eff   Rhat\n",
       "tau[0]                -0.3  6.6e-3   0.31  -0.95   -0.5  -0.28  -0.07   0.24 2263.0    1.0\n",
       "tau[1]               -0.27  5.1e-3   0.32  -0.96  -0.47  -0.25  -0.04    0.3 4000.0    1.0\n",
       "tau[2]               -0.16  5.4e-3   0.34  -0.88  -0.38  -0.13   0.08   0.45 4000.0    1.0\n",
       "tau[3]               -0.03  8.4e-3   0.38  -0.89  -0.26   0.03   0.23   0.58 2003.0    1.0\n",
       "tau[4]               -0.16  5.2e-3   0.33  -0.86  -0.38  -0.13   0.07    0.4 4000.0    1.0\n",
       "tau[5]               -0.17  6.7e-3   0.33  -0.88  -0.39  -0.14   0.06   0.39 2386.0    1.0\n",
       "tau[6]              9.4e-4  5.0e-3   0.32  -0.68   -0.2   0.04   0.22   0.55 4000.0    1.0\n",
       "tau[7]                0.02  5.8e-3   0.31  -0.68  -0.16   0.06   0.24   0.55 2854.0    1.0\n",
       "tau[8]                0.09  6.1e-3   0.33  -0.64   -0.1   0.14   0.32   0.65 2909.0    1.0\n",
       "tau[9]                0.37    0.02   0.44   -0.8   0.18    0.4   0.72   1.01  820.0    1.0\n",
       "tau[10]                1.0    0.01   0.27   0.42   0.86   1.01   1.14   1.63  675.0    1.0\n",
       "tau[11]               0.94    0.02    0.3   0.36   0.84   0.97   1.08   1.42  390.0   1.01\n",
       "tau[12]               1.35  5.4e-3   0.22   0.97    1.2   1.33   1.49   1.83 1647.0   1.01\n",
       "tau[13]                1.4  6.9e-3   0.22   1.02   1.25   1.39   1.54   1.88 1028.0   1.01\n",
       "tau[14]               1.35  6.9e-3   0.26   0.92   1.16   1.32    1.5   1.94 1414.0    1.0\n",
       "tau[15]               1.31  6.3e-3   0.24   0.91   1.14   1.29   1.46   1.85 1416.0    1.0\n",
       "tau[16]               1.38  5.5e-3   0.22   0.99   1.22   1.36   1.51   1.84 1587.0   1.01\n",
       "tau[17]               1.16  6.3e-3   0.24   0.79   1.01   1.13   1.28   1.74 1429.0    1.0\n",
       "tau[18]               1.42  5.8e-3   0.24    1.0   1.25   1.39   1.56   1.96 1732.0   1.01\n",
       "tau[19]               1.07    0.01   0.27   0.69   0.91   1.02   1.16   1.82  528.0   1.01\n",
       "tau[20]               1.44    0.02   0.32   0.94   1.21   1.39   1.65   2.14  449.0   1.02\n",
       "tau[21]               1.28  6.1e-3   0.27   0.87   1.09   1.24   1.43    1.9 1911.0    1.0\n",
       "tau[22]               1.23  8.8e-3   0.29   0.81   1.04   1.17   1.37   1.92 1074.0    1.0\n",
       "tau[23]               1.48    0.01   0.34   0.94   1.22   1.43   1.72   2.22  593.0   1.02\n",
       "tau[24]              -0.32  6.6e-3   0.33  -0.99  -0.53  -0.29  -0.08   0.26 2485.0    1.0\n",
       "tau[25]              -0.19  5.2e-3   0.33  -0.91  -0.38  -0.16   0.04   0.38 4000.0    1.0\n",
       "tau[26]              -0.23  5.0e-3   0.32  -0.91  -0.43   -0.2 4.6e-3   0.33 4000.0    1.0\n",
       "tau[27]              -0.17  5.1e-3   0.32  -0.85  -0.38  -0.14   0.05   0.37 4000.0    1.0\n",
       "tau[28]              -0.13  6.7e-3   0.33  -0.84  -0.33  -0.09    0.1   0.43 2407.0    1.0\n",
       "tau[29]              -0.17  6.7e-3   0.33   -0.9  -0.38  -0.14   0.07    0.4 2471.0    1.0\n",
       "tau[30]              -0.02  4.7e-3    0.3  -0.67   -0.2 8.0e-3   0.18   0.51 4000.0    1.0\n",
       "tau[31]              -0.04  6.6e-3   0.32  -0.78  -0.23  -0.01   0.18   0.48 2298.0    1.0\n",
       "tau[32]              -0.04  6.5e-3   0.31  -0.73  -0.24-5.5e-3   0.17   0.49 2256.0    1.0\n",
       "tau[33]              -0.05  4.7e-3    0.3   -0.7  -0.24  -0.03   0.15   0.48 4000.0    1.0\n",
       "tau[34]               0.26  8.9e-3   0.37  -0.62   0.09   0.31    0.5   0.86 1680.0    1.0\n",
       "tau[35]               0.41    0.01   0.37  -0.63   0.25   0.46   0.67   0.95  886.0    1.0\n",
       "tau[36]               0.61  4.8e-3    0.2   0.17   0.49   0.62   0.74   0.96 1681.0    1.0\n",
       "tau[37]               0.79    0.01   0.22   0.39   0.67   0.79   0.91   1.18  419.0    1.0\n",
       "tau[38]               0.53  4.5e-3   0.21   0.11   0.42   0.55   0.66   0.88 2069.0    1.0\n",
       "tau[39]               0.59  9.1e-3   0.23   0.15   0.47   0.59   0.72   0.95  634.0   1.01\n",
       "tau[40]               0.62  5.2e-3    0.2   0.19   0.51   0.63   0.75   0.96 1430.0    1.0\n",
       "tau[41]               0.57  5.5e-3   0.19   0.17   0.46   0.58    0.7    0.9 1201.0    1.0\n",
       "tau[42]               0.74    0.04   0.29   0.33    0.6   0.72   0.84   1.67   68.0   1.03\n",
       "tau[43]               0.57  5.0e-3   0.18   0.18   0.45   0.58   0.69    0.9 1300.0    1.0\n",
       "tau[44]               0.57  4.4e-3   0.18   0.18   0.46   0.58   0.69    0.9 1780.0    1.0\n",
       "tau[45]               0.76     0.1   0.41   0.28   0.56   0.68   0.82   2.17   17.0   1.31\n",
       "tau[46]                0.5  5.3e-3   0.22   0.04   0.38   0.51   0.64   0.87 1717.0    1.0\n",
       "tau[47]               0.68  8.4e-3   0.21   0.31   0.56   0.67   0.79   1.03  598.0    1.0\n",
       "psi[0]                2.87    0.08   2.18   0.64   1.46   2.26   3.58   8.49  829.0   1.01\n",
       "psi[1]                2.24    0.04   1.95   0.48   1.09   1.67   2.71   7.39 2007.0    1.0\n",
       "omega[0]              0.14  2.1e-3   0.06   0.05   0.09   0.12   0.17    0.3  888.0    1.0\n",
       "omega[1]              0.15  2.6e-3   0.07   0.05    0.1   0.14   0.19   0.32  755.0    1.0\n",
       "predictedmean[0,0]    0.47  4.5e-3   0.14   0.18   0.39   0.48   0.55   0.73  973.0    1.0\n",
       "predictedmean[1,0]   -0.94  3.8e-3   0.12  -1.15  -1.01  -0.94  -0.88  -0.67  959.0    1.0\n",
       "predictedmean[0,1]    0.48  3.9e-3   0.12   0.21   0.41   0.49   0.55   0.71 1013.0    1.0\n",
       "predictedmean[1,1]   -0.93  3.1e-3    0.1  -1.11   -1.0  -0.94  -0.88  -0.71 1086.0    1.0\n",
       "predictedmean[0,2]    0.49  3.4e-3   0.11   0.24   0.43    0.5   0.55   0.69 1053.0    1.0\n",
       "predictedmean[1,2]   -0.93  2.6e-3   0.09  -1.09  -0.99  -0.94  -0.88  -0.73 1234.0    1.0\n",
       "predictedmean[0,3]     0.5  3.0e-3    0.1   0.27   0.45    0.5   0.56   0.68 1104.0    1.0\n",
       "predictedmean[1,3]   -0.92  2.3e-3   0.08  -1.07  -0.97  -0.93  -0.88  -0.75 1322.0    1.0\n",
       "predictedmean[0,4]     0.5  2.6e-3   0.09   0.29   0.45   0.51   0.56   0.67 1193.0    1.0\n",
       "predictedmean[1,4]   -0.91  2.3e-3   0.08  -1.06  -0.96  -0.91  -0.86  -0.74 1300.0    1.0\n",
       "predictedmean[0,5]    0.51  2.3e-3   0.09   0.31   0.46   0.51   0.56   0.66 1427.0    1.0\n",
       "predictedmean[1,5]   -0.88  2.4e-3   0.08  -1.04  -0.94  -0.89  -0.84   -0.7 1221.0    1.0\n",
       "predictedmean[0,6]    0.51  2.1e-3   0.08   0.32   0.46   0.51   0.56   0.66 1592.0    1.0\n",
       "predictedmean[1,6]   -0.85  2.7e-3   0.09  -1.02  -0.92  -0.86   -0.8  -0.65 1167.0    1.0\n",
       "predictedmean[0,7]     0.5  2.1e-3   0.09   0.32   0.46   0.51   0.56   0.66 1612.0    1.0\n",
       "predictedmean[1,7]   -0.81  3.2e-3   0.11  -0.99  -0.88  -0.82  -0.74  -0.57 1134.0    1.0\n",
       "predictedmean[0,8]     0.5  2.5e-3   0.09   0.29   0.44   0.51   0.56   0.67 1415.0    1.0\n",
       "predictedmean[1,8]   -0.74  3.8e-3   0.13  -0.96  -0.83  -0.75  -0.66  -0.47 1106.0    1.0\n",
       "predictedmean[0,9]    0.49  3.3e-3   0.11   0.26   0.43    0.5   0.56   0.67 1018.0    1.0\n",
       "predictedmean[1,9]   -0.66  4.5e-3   0.15  -0.91  -0.77  -0.67  -0.57  -0.35 1082.0    1.0\n",
       "predictedmean[0,10]   0.48  4.3e-3   0.12   0.22   0.41   0.49   0.56   0.68  787.0    1.0\n",
       "predictedmean[1,10]  -0.56  5.1e-3   0.17  -0.86  -0.68  -0.57  -0.45  -0.22 1067.0    1.0\n",
       "predictedmean[0,11]   0.47  5.2e-3   0.13   0.19    0.4   0.48   0.56   0.69  649.0    1.0\n",
       "predictedmean[1,11]  -0.44  5.6e-3   0.18  -0.79  -0.56  -0.45  -0.32  -0.08 1063.0    1.0\n",
       "predictedmean[0,12]   0.46  5.8e-3   0.14   0.17   0.39   0.48   0.55   0.69  564.0    1.0\n",
       "predictedmean[1,12]  -0.31  5.9e-3   0.19  -0.69  -0.44  -0.31  -0.18   0.06 1074.0    1.0\n",
       "predictedmean[0,13]   0.46  5.9e-3   0.13   0.17   0.39   0.47   0.55   0.68  516.0    1.0\n",
       "predictedmean[1,13]  -0.17  5.8e-3   0.19  -0.56   -0.3  -0.17  -0.04   0.18 1099.0    1.0\n",
       "predictedmean[0,14]   0.44  5.7e-3   0.13   0.16   0.37   0.46   0.53   0.66  521.0    1.0\n",
       "predictedmean[1,14]  -0.04  5.4e-3   0.18  -0.41  -0.16  -0.03   0.09   0.29 1130.0    1.0\n",
       "predictedmean[0,15]   0.41  5.3e-3   0.13   0.12   0.34   0.43   0.51   0.64  633.0    1.0\n",
       "predictedmean[1,15]   0.08  4.9e-3   0.16  -0.27  -0.02   0.09    0.2   0.36 1149.0    1.0\n",
       "predictedmean[0,16]   0.36  5.4e-3   0.16 2.1e-3   0.26   0.38   0.47   0.61  863.0   1.01\n",
       "predictedmean[1,16]   0.19  4.2e-3   0.15  -0.13    0.1    0.2   0.29   0.43 1173.0    1.0\n",
       "predictedmean[0,17]   0.27  6.7e-3    0.2   -0.2   0.15   0.29   0.42   0.58  915.0   1.01\n",
       "predictedmean[1,17]   0.28  3.8e-3   0.13 3.2e-3    0.2   0.29   0.36   0.52 1195.0   1.01\n",
       "predictedmean[0,18]   0.14  8.5e-3   0.25  -0.43  -0.02   0.16   0.32   0.54  859.0   1.01\n",
       "predictedmean[1,18]   0.36  3.8e-3   0.13   0.11   0.28   0.36   0.44   0.64 1169.0   1.01\n",
       "predictedmean[0,19]  -0.03    0.01   0.29  -0.65  -0.23-9.7e-3   0.18   0.46  789.0   1.01\n",
       "predictedmean[1,19]   0.45  4.3e-3   0.14   0.19   0.36   0.44   0.53   0.76 1059.0   1.01\n",
       "predictedmean[0,20]  -0.23    0.01   0.31  -0.86  -0.45  -0.21 3.2e-3   0.34  733.0   1.02\n",
       "predictedmean[1,20]   0.53  5.1e-3   0.16   0.26   0.43   0.52   0.63   0.88  951.0   1.01\n",
       "predictedmean[0,21]  -0.43    0.01   0.32  -1.04  -0.65  -0.42   -0.2   0.17  688.0   1.02\n",
       "predictedmean[1,21]   0.62  5.8e-3   0.17   0.32   0.51   0.62   0.73   0.98  870.0   1.01\n",
       "predictedmean[0,22]  -0.62    0.01    0.3  -1.17  -0.84  -0.63  -0.41  -0.03  647.0   1.02\n",
       "predictedmean[1,22]   0.72  6.3e-3   0.18   0.38   0.59   0.71   0.83   1.09  821.0   1.01\n",
       "predictedmean[0,23]   -0.8    0.01   0.27  -1.27   -1.0  -0.81  -0.62  -0.23  637.0   1.02\n",
       "predictedmean[1,23]   0.81  6.6e-3   0.18   0.46   0.69   0.81   0.93   1.19  773.0   1.01\n",
       "predictedmean[0,24]  -0.94  9.0e-3   0.23  -1.32  -1.12  -0.97  -0.79  -0.43  654.0   1.02\n",
       "predictedmean[1,24]    0.9  6.6e-3   0.18   0.55   0.79    0.9   1.01   1.27  747.0   1.01\n",
       "predictedmean[0,25]  -1.06  7.2e-3   0.19  -1.36   -1.2  -1.08  -0.94  -0.62  723.0   1.01\n",
       "predictedmean[1,25]   0.98  6.1e-3   0.17   0.65   0.88   0.98   1.08   1.34  754.0   1.01\n",
       "predictedmean[0,26]  -1.14  5.4e-3   0.16   -1.4  -1.25  -1.16  -1.05  -0.78  870.0   1.01\n",
       "predictedmean[1,26]   1.05  5.4e-3   0.16   0.75   0.95   1.04   1.13   1.39  825.0   1.01\n",
       "predictedmean[0,27]   -1.2  4.2e-3   0.14  -1.44  -1.28  -1.21  -1.12  -0.89 1071.0    1.0\n",
       "predictedmean[1,27]   1.09  4.8e-3   0.15   0.83   0.99   1.08   1.17   1.43  972.0    1.0\n",
       "predictedmean[0,28]  -1.23  4.9e-3   0.13  -1.47  -1.31  -1.24  -1.16  -0.94  754.0   1.01\n",
       "predictedmean[1,28]   1.12  4.7e-3   0.15   0.85   1.02    1.1    1.2   1.46 1089.0    1.0\n",
       "predictedmean[0,29]  -1.25    0.02   0.15  -1.51  -1.34  -1.26  -1.18   -0.9   92.0   1.05\n",
       "predictedmean[1,29]   1.13  5.4e-3   0.17   0.78   1.02   1.11   1.23   1.47 1021.0    1.0\n",
       "predictedvar[0,0]     0.17  2.4e-3   0.08   0.07   0.12   0.16   0.21   0.36  987.0    1.0\n",
       "predictedvar[1,0]     0.19  2.9e-3   0.08   0.06   0.13   0.18   0.23   0.39  812.0    1.0\n",
       "predictedvar[0,1]     0.16  2.3e-3   0.07   0.07   0.11   0.15    0.2   0.35  945.0    1.0\n",
       "predictedvar[1,1]     0.18  2.9e-3   0.08   0.06   0.12   0.17   0.23   0.37  782.0    1.0\n",
       "predictedvar[0,2]     0.16  2.3e-3   0.07   0.07   0.11   0.15   0.19   0.34  924.0    1.0\n",
       "predictedvar[1,2]     0.18  2.8e-3   0.08   0.06   0.12   0.17   0.22   0.37  767.0    1.0\n",
       "predictedvar[0,3]     0.16  2.3e-3   0.07   0.06   0.11   0.14   0.19   0.33  914.0    1.0\n",
       "predictedvar[1,3]     0.17  2.8e-3   0.08   0.06   0.12   0.16   0.22   0.36  760.0    1.0\n",
       "predictedvar[0,4]     0.16  2.3e-3   0.07   0.06   0.11   0.14   0.19   0.33  907.0    1.0\n",
       "predictedvar[1,4]     0.17  2.8e-3   0.08   0.05   0.12   0.16   0.22   0.35  756.0    1.0\n",
       "predictedvar[0,5]     0.15  2.3e-3   0.07   0.06   0.11   0.14   0.19   0.33  899.0    1.0\n",
       "predictedvar[1,5]     0.17  2.8e-3   0.08   0.05   0.12   0.16   0.21   0.35  755.0    1.0\n",
       "predictedvar[0,6]     0.15  2.3e-3   0.07   0.06   0.11   0.14   0.18   0.33  892.0    1.0\n",
       "predictedvar[1,6]     0.17  2.8e-3   0.08   0.05   0.12   0.16   0.21   0.35  753.0    1.0\n",
       "predictedvar[0,7]     0.15  2.3e-3   0.07   0.06   0.11   0.14   0.18   0.33  886.0    1.0\n",
       "predictedvar[1,7]     0.17  2.8e-3   0.08   0.05   0.12   0.16   0.21   0.35  752.0    1.0\n",
       "predictedvar[0,8]     0.15  2.3e-3   0.07   0.06   0.11   0.14   0.18   0.33  884.0    1.0\n",
       "predictedvar[1,8]     0.17  2.7e-3   0.08   0.05   0.12   0.16   0.21   0.35  752.0    1.0\n",
       "predictedvar[0,9]     0.15  2.3e-3   0.07   0.06   0.11   0.14   0.18   0.33  884.0    1.0\n",
       "predictedvar[1,9]     0.17  2.7e-3   0.07   0.05   0.12   0.16   0.21   0.35  753.0    1.0\n",
       "predictedvar[0,10]    0.15  2.3e-3   0.07   0.06   0.11   0.14   0.18   0.32  888.0    1.0\n",
       "predictedvar[1,10]    0.17  2.7e-3   0.07   0.05   0.12   0.16   0.21   0.35  755.0    1.0\n",
       "predictedvar[0,11]    0.15  2.3e-3   0.07   0.06   0.11   0.14   0.18   0.32  892.0    1.0\n",
       "predictedvar[1,11]    0.17  2.7e-3   0.07   0.05   0.12   0.16   0.21   0.35  755.0    1.0\n",
       "predictedvar[0,12]    0.15  2.3e-3   0.07   0.06   0.11   0.14   0.18   0.32  893.0    1.0\n",
       "predictedvar[1,12]    0.17  2.7e-3   0.07   0.05   0.12   0.16   0.21   0.34  755.0    1.0\n",
       "predictedvar[0,13]    0.15  2.3e-3   0.07   0.06   0.11   0.14   0.18   0.32  889.0    1.0\n",
       "predictedvar[1,13]    0.17  2.7e-3   0.07   0.05   0.12   0.16   0.21   0.35  752.0    1.0\n",
       "predictedvar[0,14]    0.15  2.3e-3   0.07   0.06   0.11   0.14   0.18   0.32  882.0    1.0\n",
       "predictedvar[1,14]    0.17  2.7e-3   0.07   0.05   0.12   0.16   0.21   0.34  750.0    1.0\n",
       "predictedvar[0,15]    0.15  2.3e-3   0.07   0.06    0.1   0.14   0.18   0.32  875.0    1.0\n",
       "predictedvar[1,15]    0.17  2.7e-3   0.07   0.05   0.11   0.16   0.21   0.34  750.0    1.0\n",
       "predictedvar[0,16]    0.15  2.3e-3   0.07   0.06    0.1   0.14   0.18   0.32  871.0    1.0\n",
       "predictedvar[1,16]    0.17  2.7e-3   0.07   0.05   0.11   0.16   0.21   0.34  751.0    1.0\n",
       "predictedvar[0,17]    0.15  2.3e-3   0.07   0.06    0.1   0.14   0.18   0.32  870.0    1.0\n",
       "predictedvar[1,17]    0.17  2.7e-3   0.07   0.05   0.11   0.16   0.21   0.35  751.0    1.0\n",
       "predictedvar[0,18]    0.15  2.3e-3   0.07   0.06   0.11   0.14   0.18   0.32  870.0    1.0\n",
       "predictedvar[1,18]    0.17  2.7e-3   0.07   0.05   0.11   0.16   0.21   0.35  753.0    1.0\n",
       "predictedvar[0,19]    0.15  2.3e-3   0.07   0.06   0.11   0.14   0.18   0.32  869.0    1.0\n",
       "predictedvar[1,19]    0.17  2.7e-3   0.08   0.05   0.12   0.16   0.21   0.35  755.0    1.0\n",
       "predictedvar[0,20]    0.15  2.3e-3   0.07   0.06   0.11   0.14   0.18   0.32  868.0    1.0\n",
       "predictedvar[1,20]    0.17  2.7e-3   0.08   0.05   0.12   0.16   0.21   0.35  758.0    1.0\n",
       "predictedvar[0,21]    0.15  2.3e-3   0.07   0.06   0.11   0.14   0.18   0.32  868.0    1.0\n",
       "predictedvar[1,21]    0.17  2.7e-3   0.08   0.06   0.12   0.16   0.21   0.35  760.0    1.0\n",
       "predictedvar[0,22]    0.15  2.3e-3   0.07   0.06   0.11   0.14   0.19   0.33  870.0    1.0\n",
       "predictedvar[1,22]    0.17  2.7e-3   0.08   0.06   0.12   0.16   0.21   0.35  760.0    1.0\n",
       "predictedvar[0,23]    0.15  2.3e-3   0.07   0.06   0.11   0.14   0.19   0.33  873.0    1.0\n",
       "predictedvar[1,23]    0.17  2.7e-3   0.08   0.06   0.12   0.16   0.21   0.35  759.0    1.0\n",
       "predictedvar[0,24]    0.15  2.3e-3   0.07   0.06   0.11   0.14   0.19   0.33  877.0    1.0\n",
       "predictedvar[1,24]    0.17  2.8e-3   0.08   0.06   0.12   0.16   0.21   0.35  757.0    1.0\n",
       "predictedvar[0,25]    0.16  2.3e-3   0.07   0.06   0.11   0.14   0.19   0.33  882.0    1.0\n",
       "predictedvar[1,25]    0.17  2.8e-3   0.08   0.06   0.12   0.16   0.22   0.35  754.0    1.0\n",
       "predictedvar[0,26]    0.16  2.3e-3   0.07   0.06   0.11   0.14   0.19   0.33  889.0    1.0\n",
       "predictedvar[1,26]    0.17  2.8e-3   0.08   0.06   0.12   0.16   0.22   0.36  749.0    1.0\n",
       "predictedvar[0,27]    0.16  2.3e-3   0.07   0.06   0.11   0.15   0.19   0.34  903.0    1.0\n",
       "predictedvar[1,27]    0.18  2.9e-3   0.08   0.06   0.12   0.17   0.22   0.36  746.0    1.0\n",
       "predictedvar[0,28]    0.16  2.3e-3   0.07   0.07   0.11   0.15    0.2   0.34  935.0    1.0\n",
       "predictedvar[1,28]    0.18  2.9e-3   0.08   0.06   0.12   0.17   0.22   0.37  744.0    1.0\n",
       "predictedvar[0,29]    0.17  2.3e-3   0.07   0.07   0.12   0.15    0.2   0.35 1057.0    1.0\n",
       "predictedvar[1,29]    0.19  3.0e-3   0.08   0.06   0.13   0.17   0.23   0.38  744.0    1.0\n",
       "logmarglike[0]      -24.99    0.34    7.6 -40.48 -29.85 -24.86  -20.1  -9.91  502.0   1.01\n",
       "logmarglike[1]      -27.29    0.41   8.78 -41.73 -33.39 -28.44 -22.33  -6.74  466.0   1.01\n",
       "lp__                -99.07    0.36   8.15 -115.8 -104.3 -98.83 -93.42  -83.8  502.0   1.02\n",
       "\n",
       "Samples were drawn using NUTS at Thu Oct 12 15:43:17 2017.\n",
       "For each parameter, n_eff is a crude measure of effective sample size,\n",
       "and Rhat is the potential scale reduction factor on split chains (at \n",
       "convergence, Rhat=1)."
      ]
     },
     "execution_count": 156,
     "metadata": {},
     "output_type": "execute_result"
    }
   ],
   "source": [
    "samples = delorean.sampling(data=config)\n",
    "samp = samples.extract()\n",
    "samples"
   ]
  },
  {
   "cell_type": "code",
   "execution_count": 150,
   "metadata": {},
   "outputs": [
    {
     "data": {
      "image/png": "[encoded data removed]",
      "text/plain": [
       "<matplotlib.figure.Figure at 0x7fd3a4695790>"
      ]
     },
     "metadata": {},
     "output_type": "display_data"
    }
   ],
   "source": [
    "samples.plot(['psi', 'omega']);\n",
    "plt.tight_layout()"
   ]
  },
  {
   "cell_type": "code",
   "execution_count": 151,
   "metadata": {},
   "outputs": [
    {
     "data": {
      "image/png": "[encoded data removed]",
      "text/plain": [
       "<matplotlib.figure.Figure at 0x7fd3a7dd8310>"
      ]
     },
     "metadata": {},
     "output_type": "display_data"
    }
   ],
   "source": [
    "plt.boxplot([[samp['tau'][:, j] for j in range(i*6, (i+1)*6)] for i in range(4)]);"
   ]
  },
  {
   "cell_type": "code",
   "execution_count": 152,
   "metadata": {},
   "outputs": [
    {
     "data": {
      "text/plain": [
       "[<matplotlib.lines.Line2D at 0x7fd3c7669990>]"
      ]
     },
     "execution_count": 152,
     "metadata": {},
     "output_type": "execute_result"
    },
    {
     "data": {
      "image/png": "[encoded data removed]",
      "text/plain": [
       "<matplotlib.figure.Figure at 0x7fd3aaf845d0>"
      ]
     },
     "metadata": {},
     "output_type": "display_data"
    }
   ],
   "source": [
    "plt.errorbar(time[:24], samp['tau'].mean(0)[:24], yerr = 1.98*samp['tau'].std(0)[:24])\n",
    "plt.plot([time.min(), time.max()], [time.min(), time.max()], c='k')"
   ]
  },
  {
   "cell_type": "code",
   "execution_count": 153,
   "metadata": {},
   "outputs": [
    {
     "data": {
      "text/plain": [
       "[u'tau',\n",
       " u'psi',\n",
       " u'omega',\n",
       " u'predictedmean',\n",
       " u'predictedvar',\n",
       " u'logmarglike',\n",
       " u'lp__']"
      ]
     },
     "execution_count": 153,
     "metadata": {},
     "output_type": "execute_result"
    }
   ],
   "source": [
    "samp.keys()"
   ]
  },
  {
   "cell_type": "code",
   "execution_count": 154,
   "metadata": {},
   "outputs": [
    {
     "data": {
      "image/png": "[encoded data removed]",
      "text/plain": [
       "<matplotlib.figure.Figure at 0x7fd3a80e8550>"
      ]
     },
     "metadata": {},
     "output_type": "display_data"
    }
   ],
   "source": [
    "for i in range(exp.shape[0]):\n",
    "    mu = samp['predictedmean'][:,i,:].mean(0)\n",
    "    var = samp['predictedvar'][:,i,:].mean(0)\n",
    "    std = np.sqrt(var)\n",
    "    \n",
    "    plt.plot(config['testinput'], mu)\n",
    "    plt.fill_between(config['testinput'], mu-1.98*std, mu+1.98*std,alpha=.1)\n",
    "\n",
    "    plt.scatter(samp['tau'].mean(0), exp[i,:]-exp[i,:].mean(), color='C%d'%i)"
   ]
  },
  {
   "cell_type": "code",
   "execution_count": null,
   "metadata": {
    "collapsed": true
   },
   "outputs": [],
   "source": []
  }
 ],
 "metadata": {
  "kernelspec": {
   "display_name": "Python 2",
   "language": "python",
   "name": "python2"
  },
  "language_info": {
   "codemirror_mode": {
    "name": "ipython",
    "version": 2
   },
   "file_extension": ".py",
   "mimetype": "text/x-python",
   "name": "python",
   "nbconvert_exporter": "python",
   "pygments_lexer": "ipython2",
   "version": "2.7.6"
  }
 },
 "nbformat": 4,
 "nbformat_minor": 2
}
