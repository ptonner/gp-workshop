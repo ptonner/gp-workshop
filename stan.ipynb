{
 "cells": [
  {
   "cell_type": "code",
   "execution_count": 1,
   "metadata": {},
   "outputs": [
    {
     "name": "stdout",
     "output_type": "stream",
     "text": [
      "Using matplotlib backend: TkAgg\n",
      "Populating the interactive namespace from numpy and matplotlib\n"
     ]
    }
   ],
   "source": [
    "%pylab"
   ]
  },
  {
   "cell_type": "code",
   "execution_count": 2,
   "metadata": {
    "collapsed": true
   },
   "outputs": [],
   "source": [
    "%matplotlib inline"
   ]
  },
  {
   "cell_type": "code",
   "execution_count": 59,
   "metadata": {
    "collapsed": true
   },
   "outputs": [],
   "source": [
    "import pystan, GPy, scipy, stan_utility"
   ]
  },
  {
   "cell_type": "markdown",
   "metadata": {},
   "source": [
    "# Example: one-way hierarchical model "
   ]
  },
  {
   "cell_type": "markdown",
   "metadata": {},
   "source": [
    "## centered model "
   ]
  },
  {
   "cell_type": "code",
   "execution_count": 219,
   "metadata": {},
   "outputs": [
    {
     "name": "stderr",
     "output_type": "stream",
     "text": [
      "INFO:pystan:COMPILING THE C++ CODE FOR MODEL anon_model_1b3c4120f866dbd0960a54c06cecc68f NOW.\n"
     ]
    }
   ],
   "source": [
    "code = \"\"\"\n",
    "data {\n",
    "    int<lower=0> J;\n",
    "    real y[J];\n",
    "    real<lower=0> sigma;\n",
    "}\n",
    "parameters {\n",
    "    real mu;\n",
    "    real<lower=0> tau;\n",
    "    real theta[J];\n",
    "}\n",
    "model {\n",
    "    mu ~ normal(0, 5);\n",
    "    tau ~ cauchy(0, 2.5);\n",
    "    theta ~ normal(mu, tau);\n",
    "    y ~ normal(theta, sigma);\n",
    "}\n",
    "\"\"\"\n",
    "\n",
    "code = \"\"\"\n",
    "data {\n",
    "    int<lower=0> N;\n",
    "    int<lower=1> G;\n",
    "    real y[N];\n",
    "    int<lower=1, upper=G> group[N];\n",
    "    real<lower=0> sigma;\n",
    "}\n",
    "parameters {\n",
    "    real mu;\n",
    "    real<lower=0> tau;\n",
    "    real theta[G];\n",
    "}\n",
    "transformed parameters{\n",
    "    real yhat[N];\n",
    "    \n",
    "    for(i in 1:N)\n",
    "        yhat[i] = theta[group[i]];\n",
    "}\n",
    "model {\n",
    "    mu ~ normal(0, 5);\n",
    "    tau ~ cauchy(0, 2.5);\n",
    "    theta ~ normal(mu, tau);\n",
    "    y ~ normal(yhat, sigma);        \n",
    "}\n",
    "\"\"\"\n",
    "\n",
    "model = pystan.StanModel(model_code=code)"
   ]
  },
  {
   "cell_type": "code",
   "execution_count": 232,
   "metadata": {},
   "outputs": [
    {
     "data": {
      "text/plain": [
       "[<matplotlib.lines.Line2D at 0x7f2b4e4d5f90>]"
      ]
     },
     "execution_count": 232,
     "metadata": {},
     "output_type": "execute_result"
    },
    {
     "data": {
      "image/png": "[encoded data removed]",
      "text/plain": [
       "<matplotlib.figure.Figure at 0x7f2b4e718250>"
      ]
     },
     "metadata": {},
     "output_type": "display_data"
    }
   ],
   "source": [
    "mu = 8.\n",
    "tau = 3.\n",
    "ysigma=10\n",
    "n = 10\n",
    "g = 30\n",
    "nrep = 3\n",
    "\n",
    "# theta = scipy.stats.norm.rvs(mu, scale=tau, size=n)\n",
    "# y = scipy.stats.norm.rvs(theta, scale=ysigma)\n",
    "\n",
    "theta = scipy.stats.norm.rvs(mu, scale=tau, size=g)\n",
    "y = scipy.stats.norm.rvs(np.repeat(theta, nrep), scale=ysigma)\n",
    "\n",
    "\n",
    "plt.axhline(mu, c='k')\n",
    "\n",
    "#plt.plot(theta)\n",
    "# plt.plot(np.repeat(theta, nrep))\n",
    "# plt.plot(y)\n",
    "\n",
    "plt.boxplot([y[i*nrep:(i+1)*nrep] for i in range(g)])\n",
    "plt.plot(range(1, g+1), theta)"
   ]
  },
  {
   "cell_type": "code",
   "execution_count": 233,
   "metadata": {},
   "outputs": [
    {
     "data": {
      "text/plain": [
       "Inference for Stan model: anon_model_1b3c4120f866dbd0960a54c06cecc68f.\n",
       "4 chains, each with iter=2000; warmup=1000; thin=1; \n",
       "post-warmup draws per chain=1000, total post-warmup draws=4000.\n",
       "\n",
       "            mean se_mean     sd   2.5%    25%    50%    75%  97.5%  n_eff   Rhat\n",
       "mu          5.71    0.09   1.11   3.65   4.99   5.69   6.45   7.99  159.0   1.03\n",
       "tau         1.99    0.18   1.29   0.29   0.96   1.72   2.81   4.99   50.0   1.07\n",
       "theta[0]    6.92    0.17   2.57   2.89   5.17   6.49   8.22  13.19  222.0   1.02\n",
       "theta[1]    4.92    0.09   2.27  -0.46   3.85   5.08    6.3   8.98  659.0   1.01\n",
       "theta[2]    4.44    0.11    2.5  -1.61   3.36   4.77   5.97   8.36  475.0   1.01\n",
       "theta[3]    5.77    0.07   2.19   1.28   4.48   5.67   7.03  10.34  946.0   1.01\n",
       "theta[4]    5.91    0.04   2.28   1.47   4.53   5.75   7.22  10.97 4000.0   1.01\n",
       "theta[5]    6.63    0.14    2.4   2.74   4.98   6.33   7.89  12.38  290.0   1.02\n",
       "theta[6]    7.31    0.23    2.9   3.19   5.34   6.77   8.63  14.73  164.0   1.02\n",
       "theta[7]    6.25    0.12   2.38   1.89   4.76    6.0    7.5  11.74  401.0   1.01\n",
       "theta[8]    4.81    0.09    2.3  -0.77   3.72   4.97   6.23    8.8  688.0    1.0\n",
       "theta[9]    5.74    0.04   2.32   0.95    4.4   5.65   7.02  10.77 4000.0    1.0\n",
       "theta[10]   4.98    0.07   2.33  -0.53   3.85   5.17   6.34   9.23 1048.0    1.0\n",
       "theta[11]   6.73    0.15    2.5   2.76   5.06   6.34   7.95  12.85  269.0   1.02\n",
       "theta[12]   5.24    0.07   2.25   0.26   4.07   5.28    6.6   9.68 1028.0    1.0\n",
       "theta[13]   6.25    0.12   2.36   2.04   4.73    6.0   7.52  11.59  375.0   1.01\n",
       "theta[14]    5.1    0.07   2.23   0.04   3.97   5.17   6.43   9.41  912.0    1.0\n",
       "theta[15]   6.36    0.13   2.34   2.43   4.83   6.06   7.55  12.04  335.0   1.01\n",
       "theta[16]   6.73    0.16   2.47   2.75    5.0   6.38   8.02   12.6  234.0   1.02\n",
       "theta[17]   5.94    0.07   2.21   1.67   4.63   5.78   7.17  10.68  955.0   1.01\n",
       "theta[18]   6.47    0.13   2.41   2.33   4.92   6.17   7.76  12.17  334.0   1.01\n",
       "theta[19]   6.77    0.17   2.46   3.02    5.1   6.39   8.03  12.79  211.0   1.02\n",
       "theta[20]   5.75    0.04   2.22   1.36   4.37   5.61   7.03  10.66 4000.0   1.01\n",
       "theta[21]   4.76    0.09   2.41  -1.17   3.66    5.0   6.19   8.89  681.0   1.01\n",
       "theta[22]   5.78    0.07   2.26   1.13   4.44   5.68   7.05  10.64  995.0   1.01\n",
       "theta[23]   5.35    0.04   2.29   0.25   4.12    5.4    6.7   9.85 4000.0   1.01\n",
       "theta[24]   5.99    0.07   2.26   1.76   4.58   5.83   7.26  10.99  917.0   1.01\n",
       "theta[25]    5.3    0.04   2.36   0.23   4.12   5.32    6.7    9.8 4000.0    1.0\n",
       "theta[26]   5.69    0.08   2.22   1.35   4.35   5.61   6.97  10.35  863.0   1.01\n",
       "theta[27]    5.7    0.03    2.2    1.0   4.41   5.65   6.96  10.24 4000.0   1.01\n",
       "theta[28]   4.58    0.11   2.42  -1.22   3.55    4.8   6.04   8.79  524.0   1.01\n",
       "theta[29]   4.58     0.1   2.44  -1.16   3.47   4.89   6.11   8.67  592.0    1.0\n",
       "yhat[0]     6.92    0.17   2.57   2.89   5.17   6.49   8.22  13.19  222.0   1.02\n",
       "yhat[1]     6.92    0.17   2.57   2.89   5.17   6.49   8.22  13.19  222.0   1.02\n",
       "yhat[2]     6.92    0.17   2.57   2.89   5.17   6.49   8.22  13.19  222.0   1.02\n",
       "yhat[3]     4.92    0.09   2.27  -0.46   3.85   5.08    6.3   8.98  659.0   1.01\n",
       "yhat[4]     4.92    0.09   2.27  -0.46   3.85   5.08    6.3   8.98  659.0   1.01\n",
       "yhat[5]     4.92    0.09   2.27  -0.46   3.85   5.08    6.3   8.98  659.0   1.01\n",
       "yhat[6]     4.44    0.11    2.5  -1.61   3.36   4.77   5.97   8.36  475.0   1.01\n",
       "yhat[7]     4.44    0.11    2.5  -1.61   3.36   4.77   5.97   8.36  475.0   1.01\n",
       "yhat[8]     4.44    0.11    2.5  -1.61   3.36   4.77   5.97   8.36  475.0   1.01\n",
       "yhat[9]     5.77    0.07   2.19   1.28   4.48   5.67   7.03  10.34  946.0   1.01\n",
       "yhat[10]    5.77    0.07   2.19   1.28   4.48   5.67   7.03  10.34  946.0   1.01\n",
       "yhat[11]    5.77    0.07   2.19   1.28   4.48   5.67   7.03  10.34  946.0   1.01\n",
       "yhat[12]    5.91    0.04   2.28   1.47   4.53   5.75   7.22  10.97 4000.0   1.01\n",
       "yhat[13]    5.91    0.04   2.28   1.47   4.53   5.75   7.22  10.97 4000.0   1.01\n",
       "yhat[14]    5.91    0.04   2.28   1.47   4.53   5.75   7.22  10.97 4000.0   1.01\n",
       "yhat[15]    6.63    0.14    2.4   2.74   4.98   6.33   7.89  12.38  290.0   1.02\n",
       "yhat[16]    6.63    0.14    2.4   2.74   4.98   6.33   7.89  12.38  290.0   1.02\n",
       "yhat[17]    6.63    0.14    2.4   2.74   4.98   6.33   7.89  12.38  290.0   1.02\n",
       "yhat[18]    7.31    0.23    2.9   3.19   5.34   6.77   8.63  14.73  164.0   1.02\n",
       "yhat[19]    7.31    0.23    2.9   3.19   5.34   6.77   8.63  14.73  164.0   1.02\n",
       "yhat[20]    7.31    0.23    2.9   3.19   5.34   6.77   8.63  14.73  164.0   1.02\n",
       "yhat[21]    6.25    0.12   2.38   1.89   4.76    6.0    7.5  11.74  401.0   1.01\n",
       "yhat[22]    6.25    0.12   2.38   1.89   4.76    6.0    7.5  11.74  401.0   1.01\n",
       "yhat[23]    6.25    0.12   2.38   1.89   4.76    6.0    7.5  11.74  401.0   1.01\n",
       "yhat[24]    4.81    0.09    2.3  -0.77   3.72   4.97   6.23    8.8  688.0    1.0\n",
       "yhat[25]    4.81    0.09    2.3  -0.77   3.72   4.97   6.23    8.8  688.0    1.0\n",
       "yhat[26]    4.81    0.09    2.3  -0.77   3.72   4.97   6.23    8.8  688.0    1.0\n",
       "yhat[27]    5.74    0.04   2.32   0.95    4.4   5.65   7.02  10.77 4000.0    1.0\n",
       "yhat[28]    5.74    0.04   2.32   0.95    4.4   5.65   7.02  10.77 4000.0    1.0\n",
       "yhat[29]    5.74    0.04   2.32   0.95    4.4   5.65   7.02  10.77 4000.0    1.0\n",
       "yhat[30]    4.98    0.07   2.33  -0.53   3.85   5.17   6.34   9.23 1048.0    1.0\n",
       "yhat[31]    4.98    0.07   2.33  -0.53   3.85   5.17   6.34   9.23 1048.0    1.0\n",
       "yhat[32]    4.98    0.07   2.33  -0.53   3.85   5.17   6.34   9.23 1048.0    1.0\n",
       "yhat[33]    6.73    0.15    2.5   2.76   5.06   6.34   7.95  12.85  269.0   1.02\n",
       "yhat[34]    6.73    0.15    2.5   2.76   5.06   6.34   7.95  12.85  269.0   1.02\n",
       "yhat[35]    6.73    0.15    2.5   2.76   5.06   6.34   7.95  12.85  269.0   1.02\n",
       "yhat[36]    5.24    0.07   2.25   0.26   4.07   5.28    6.6   9.68 1028.0    1.0\n",
       "yhat[37]    5.24    0.07   2.25   0.26   4.07   5.28    6.6   9.68 1028.0    1.0\n",
       "yhat[38]    5.24    0.07   2.25   0.26   4.07   5.28    6.6   9.68 1028.0    1.0\n",
       "yhat[39]    6.25    0.12   2.36   2.04   4.73    6.0   7.52  11.59  375.0   1.01\n",
       "yhat[40]    6.25    0.12   2.36   2.04   4.73    6.0   7.52  11.59  375.0   1.01\n",
       "yhat[41]    6.25    0.12   2.36   2.04   4.73    6.0   7.52  11.59  375.0   1.01\n",
       "yhat[42]     5.1    0.07   2.23   0.04   3.97   5.17   6.43   9.41  912.0    1.0\n",
       "yhat[43]     5.1    0.07   2.23   0.04   3.97   5.17   6.43   9.41  912.0    1.0\n",
       "yhat[44]     5.1    0.07   2.23   0.04   3.97   5.17   6.43   9.41  912.0    1.0\n",
       "yhat[45]    6.36    0.13   2.34   2.43   4.83   6.06   7.55  12.04  335.0   1.01\n",
       "yhat[46]    6.36    0.13   2.34   2.43   4.83   6.06   7.55  12.04  335.0   1.01\n",
       "yhat[47]    6.36    0.13   2.34   2.43   4.83   6.06   7.55  12.04  335.0   1.01\n",
       "yhat[48]    6.73    0.16   2.47   2.75    5.0   6.38   8.02   12.6  234.0   1.02\n",
       "yhat[49]    6.73    0.16   2.47   2.75    5.0   6.38   8.02   12.6  234.0   1.02\n",
       "yhat[50]    6.73    0.16   2.47   2.75    5.0   6.38   8.02   12.6  234.0   1.02\n",
       "yhat[51]    5.94    0.07   2.21   1.67   4.63   5.78   7.17  10.68  955.0   1.01\n",
       "yhat[52]    5.94    0.07   2.21   1.67   4.63   5.78   7.17  10.68  955.0   1.01\n",
       "yhat[53]    5.94    0.07   2.21   1.67   4.63   5.78   7.17  10.68  955.0   1.01\n",
       "yhat[54]    6.47    0.13   2.41   2.33   4.92   6.17   7.76  12.17  334.0   1.01\n",
       "yhat[55]    6.47    0.13   2.41   2.33   4.92   6.17   7.76  12.17  334.0   1.01\n",
       "yhat[56]    6.47    0.13   2.41   2.33   4.92   6.17   7.76  12.17  334.0   1.01\n",
       "yhat[57]    6.77    0.17   2.46   3.02    5.1   6.39   8.03  12.79  211.0   1.02\n",
       "yhat[58]    6.77    0.17   2.46   3.02    5.1   6.39   8.03  12.79  211.0   1.02\n",
       "yhat[59]    6.77    0.17   2.46   3.02    5.1   6.39   8.03  12.79  211.0   1.02\n",
       "yhat[60]    5.75    0.04   2.22   1.36   4.37   5.61   7.03  10.66 4000.0   1.01\n",
       "yhat[61]    5.75    0.04   2.22   1.36   4.37   5.61   7.03  10.66 4000.0   1.01\n",
       "yhat[62]    5.75    0.04   2.22   1.36   4.37   5.61   7.03  10.66 4000.0   1.01\n",
       "yhat[63]    4.76    0.09   2.41  -1.17   3.66    5.0   6.19   8.89  681.0   1.01\n",
       "yhat[64]    4.76    0.09   2.41  -1.17   3.66    5.0   6.19   8.89  681.0   1.01\n",
       "yhat[65]    4.76    0.09   2.41  -1.17   3.66    5.0   6.19   8.89  681.0   1.01\n",
       "yhat[66]    5.78    0.07   2.26   1.13   4.44   5.68   7.05  10.64  995.0   1.01\n",
       "yhat[67]    5.78    0.07   2.26   1.13   4.44   5.68   7.05  10.64  995.0   1.01\n",
       "yhat[68]    5.78    0.07   2.26   1.13   4.44   5.68   7.05  10.64  995.0   1.01\n",
       "yhat[69]    5.35    0.04   2.29   0.25   4.12    5.4    6.7   9.85 4000.0   1.01\n",
       "yhat[70]    5.35    0.04   2.29   0.25   4.12    5.4    6.7   9.85 4000.0   1.01\n",
       "yhat[71]    5.35    0.04   2.29   0.25   4.12    5.4    6.7   9.85 4000.0   1.01\n",
       "yhat[72]    5.99    0.07   2.26   1.76   4.58   5.83   7.26  10.99  917.0   1.01\n",
       "yhat[73]    5.99    0.07   2.26   1.76   4.58   5.83   7.26  10.99  917.0   1.01\n",
       "yhat[74]    5.99    0.07   2.26   1.76   4.58   5.83   7.26  10.99  917.0   1.01\n",
       "yhat[75]     5.3    0.04   2.36   0.23   4.12   5.32    6.7    9.8 4000.0    1.0\n",
       "yhat[76]     5.3    0.04   2.36   0.23   4.12   5.32    6.7    9.8 4000.0    1.0\n",
       "yhat[77]     5.3    0.04   2.36   0.23   4.12   5.32    6.7    9.8 4000.0    1.0\n",
       "yhat[78]    5.69    0.08   2.22   1.35   4.35   5.61   6.97  10.35  863.0   1.01\n",
       "yhat[79]    5.69    0.08   2.22   1.35   4.35   5.61   6.97  10.35  863.0   1.01\n",
       "yhat[80]    5.69    0.08   2.22   1.35   4.35   5.61   6.97  10.35  863.0   1.01\n",
       "yhat[81]     5.7    0.03    2.2    1.0   4.41   5.65   6.96  10.24 4000.0   1.01\n",
       "yhat[82]     5.7    0.03    2.2    1.0   4.41   5.65   6.96  10.24 4000.0   1.01\n",
       "yhat[83]     5.7    0.03    2.2    1.0   4.41   5.65   6.96  10.24 4000.0   1.01\n",
       "yhat[84]    4.58    0.11   2.42  -1.22   3.55    4.8   6.04   8.79  524.0   1.01\n",
       "yhat[85]    4.58    0.11   2.42  -1.22   3.55    4.8   6.04   8.79  524.0   1.01\n",
       "yhat[86]    4.58    0.11   2.42  -1.22   3.55    4.8   6.04   8.79  524.0   1.01\n",
       "yhat[87]    4.58     0.1   2.44  -1.16   3.47   4.89   6.11   8.67  592.0    1.0\n",
       "yhat[88]    4.58     0.1   2.44  -1.16   3.47   4.89   6.11   8.67  592.0    1.0\n",
       "yhat[89]    4.58     0.1   2.44  -1.16   3.47   4.89   6.11   8.67  592.0    1.0\n",
       "lp__      -72.17    5.31  20.55 -102.5  -88.5 -75.15 -58.94 -24.56   15.0   1.17\n",
       "\n",
       "Samples were drawn using NUTS at Wed Oct 11 14:56:29 2017.\n",
       "For each parameter, n_eff is a crude measure of effective sample size,\n",
       "and Rhat is the potential scale reduction factor on split chains (at \n",
       "convergence, Rhat=1)."
      ]
     },
     "execution_count": 233,
     "metadata": {},
     "output_type": "execute_result"
    }
   ],
   "source": [
    "# config = {\n",
    "#     'J': n,\n",
    "#     'y': y,\n",
    "#     'sigma': ysigma\n",
    "# }\n",
    "\n",
    "config = {\n",
    "    'N': g*nrep,\n",
    "    'G': g,\n",
    "    'group': np.repeat(1+np.arange(g), nrep),\n",
    "    'y': y,\n",
    "    'sigma': ysigma\n",
    "}\n",
    "\n",
    "samples = model.sampling(data=config, chains=4, iter=2000)\n",
    "samples"
   ]
  },
  {
   "cell_type": "code",
   "execution_count": 234,
   "metadata": {},
   "outputs": [
    {
     "data": {
      "image/png": "[encoded data removed]",
      "text/plain": [
       "<matplotlib.figure.Figure at 0x7f2b735bd410>"
      ]
     },
     "metadata": {},
     "output_type": "display_data"
    }
   ],
   "source": [
    "samples.plot(['mu', 'tau']);\n",
    "plt.tight_layout()"
   ]
  },
  {
   "cell_type": "code",
   "execution_count": 235,
   "metadata": {},
   "outputs": [
    {
     "name": "stdout",
     "output_type": "stream",
     "text": [
      "0 of 4000 iterations saturated the maximum tree depth of 10 (0%)\n"
     ]
    }
   ],
   "source": [
    "stan_utility.check_treedepth(samples)"
   ]
  },
  {
   "cell_type": "code",
   "execution_count": 236,
   "metadata": {},
   "outputs": [
    {
     "name": "stdout",
     "output_type": "stream",
     "text": [
      "116.0 of 4000 iterations ended with a divergence (2.9%)\n",
      "Try running with larger adapt_delta to remove the divergences\n"
     ]
    }
   ],
   "source": [
    "stan_utility.check_div(samples)"
   ]
  },
  {
   "cell_type": "code",
   "execution_count": 237,
   "metadata": {},
   "outputs": [
    {
     "name": "stderr",
     "output_type": "stream",
     "text": [
      "WARNING:root:`dtypes` ignored when `permuted` is False.\n"
     ]
    },
    {
     "data": {
      "text/plain": [
       "<matplotlib.text.Text at 0x7f2b41b2cc10>"
      ]
     },
     "execution_count": 237,
     "metadata": {},
     "output_type": "execute_result"
    },
    {
     "data": {
      "image/png": "[encoded data removed]",
      "text/plain": [
       "<matplotlib.figure.Figure at 0x7f2b4e7189d0>"
      ]
     },
     "metadata": {},
     "output_type": "display_data"
    }
   ],
   "source": [
    "nondiv_params, div_params = stan_utility.partition_div(samples)\n",
    "\n",
    "light=\"#DCBCBC\"\n",
    "light_highlight=\"#C79999\"\n",
    "mid=\"#B97C7C\"\n",
    "mid_highlight=\"#A25050\"\n",
    "dark=\"#8F2727\"\n",
    "dark_highlight=\"#7C0000\"\n",
    "green=\"#00FF00\"\n",
    "\n",
    "plt.scatter([x[0] for x in nondiv_params['theta']], nondiv_params['tau'], \\\n",
    "             color = mid_highlight, alpha=0.05)\n",
    "plt.scatter([x[0] for x in div_params['theta']], div_params['tau'], \\\n",
    "             color = green, alpha=0.5)\n",
    "\n",
    "plt.semilogy()\n",
    "\n",
    "plt.xlabel('theta_1')\n",
    "plt.ylabel('tau')"
   ]
  },
  {
   "cell_type": "code",
   "execution_count": 238,
   "metadata": {},
   "outputs": [
    {
     "data": {
      "text/plain": [
       "OrderedDict([(u'mu',\n",
       "              array([ 6.42795734,  3.44685943,  6.41218909, ...,  5.27414174,\n",
       "                      5.70672168,  5.77495939])),\n",
       "             (u'tau',\n",
       "              array([ 2.18294646,  1.54437189,  1.87700009, ...,  2.68359684,\n",
       "                      2.80186867,  2.74533077])),\n",
       "             (u'theta',\n",
       "              array([[ 8.61927488,  5.2194834 ,  5.74261099, ...,  7.56547561,\n",
       "                       6.63129543,  1.6281565 ],\n",
       "                     [ 7.56314754,  1.7429455 ,  2.94655848, ...,  5.54023328,\n",
       "                       5.96540487,  3.22052467],\n",
       "                     [ 8.28611477,  7.67794047,  3.31516833, ...,  9.83003984,\n",
       "                       6.51666499,  5.32665828],\n",
       "                     ..., \n",
       "                     [ 6.78369439,  5.31756261,  6.45144817, ...,  7.05294434,\n",
       "                       3.52547998,  0.57703281],\n",
       "                     [ 9.30095371,  5.15067529,  7.19401749, ...,  3.15475581,\n",
       "                       3.77796842,  7.82040363],\n",
       "                     [ 6.71746908,  4.39136838,  5.39326671, ...,  3.65005792,\n",
       "                      -0.10051021,  1.03690245]])),\n",
       "             (u'yhat',\n",
       "              array([[ 8.61927488,  8.61927488,  8.61927488, ...,  1.6281565 ,\n",
       "                       1.6281565 ,  1.6281565 ],\n",
       "                     [ 7.56314754,  7.56314754,  7.56314754, ...,  3.22052467,\n",
       "                       3.22052467,  3.22052467],\n",
       "                     [ 8.28611477,  8.28611477,  8.28611477, ...,  5.32665828,\n",
       "                       5.32665828,  5.32665828],\n",
       "                     ..., \n",
       "                     [ 6.78369439,  6.78369439,  6.78369439, ...,  0.57703281,\n",
       "                       0.57703281,  0.57703281],\n",
       "                     [ 9.30095371,  9.30095371,  9.30095371, ...,  7.82040363,\n",
       "                       7.82040363,  7.82040363],\n",
       "                     [ 6.71746908,  6.71746908,  6.71746908, ...,  1.03690245,\n",
       "                       1.03690245,  1.03690245]])),\n",
       "             (u'lp__',\n",
       "              array([-76.25790557, -78.29626262, -76.66388884, ..., -91.8464761 ,\n",
       "                     -84.76304885, -87.60969838]))])"
      ]
     },
     "execution_count": 238,
     "metadata": {},
     "output_type": "execute_result"
    }
   ],
   "source": [
    "samp = samples.extract()\n",
    "samp"
   ]
  },
  {
   "cell_type": "code",
   "execution_count": 239,
   "metadata": {},
   "outputs": [
    {
     "data": {
      "text/plain": [
       "(4000,)"
      ]
     },
     "execution_count": 239,
     "metadata": {},
     "output_type": "execute_result"
    }
   ],
   "source": [
    "samp['mu'].shape"
   ]
  },
  {
   "cell_type": "code",
   "execution_count": 240,
   "metadata": {},
   "outputs": [
    {
     "data": {
      "text/plain": [
       "(4000,)"
      ]
     },
     "execution_count": 240,
     "metadata": {},
     "output_type": "execute_result"
    }
   ],
   "source": [
    "samp['tau'].shape"
   ]
  },
  {
   "cell_type": "code",
   "execution_count": 241,
   "metadata": {},
   "outputs": [
    {
     "data": {
      "text/plain": [
       "(4000, 30)"
      ]
     },
     "execution_count": 241,
     "metadata": {},
     "output_type": "execute_result"
    }
   ],
   "source": [
    "samp['theta'].shape"
   ]
  },
  {
   "cell_type": "code",
   "execution_count": 242,
   "metadata": {},
   "outputs": [
    {
     "data": {
      "text/plain": [
       "[<matplotlib.lines.Line2D at 0x7f2b41928c10>]"
      ]
     },
     "execution_count": 242,
     "metadata": {},
     "output_type": "execute_result"
    },
    {
     "data": {
      "image/png": "[encoded data removed]",
      "text/plain": [
       "<matplotlib.figure.Figure at 0x7f2b41a19510>"
      ]
     },
     "metadata": {},
     "output_type": "display_data"
    }
   ],
   "source": [
    "plt.plot(samp['theta'].mean(0))\n",
    "plt.fill_between(range(g), \n",
    "                 samp['theta'].mean(0) - 1.98*samp['theta'].std(0), \n",
    "                 samp['theta'].mean(0) + 1.98*samp['theta'].std(0),\n",
    "                alpha=.1)\n",
    "\n",
    "plt.plot(theta)"
   ]
  },
  {
   "cell_type": "code",
   "execution_count": 243,
   "metadata": {},
   "outputs": [
    {
     "data": {
      "text/plain": [
       "<matplotlib.lines.Line2D at 0x7f2b40bd1c90>"
      ]
     },
     "execution_count": 243,
     "metadata": {},
     "output_type": "execute_result"
    },
    {
     "data": {
      "image/png": "[encoded data removed]",
      "text/plain": [
       "<matplotlib.figure.Figure at 0x7f2b41a19a90>"
      ]
     },
     "metadata": {},
     "output_type": "display_data"
    }
   ],
   "source": [
    "plt.plot(np.cumsum(samp['mu'])/(1.+np.arange(4000)))\n",
    "plt.axhline(mu, color='k')"
   ]
  },
  {
   "cell_type": "markdown",
   "metadata": {},
   "source": [
    "## non-centered model "
   ]
  },
  {
   "cell_type": "code",
   "execution_count": 245,
   "metadata": {},
   "outputs": [
    {
     "name": "stderr",
     "output_type": "stream",
     "text": [
      "INFO:pystan:COMPILING THE C++ CODE FOR MODEL anon_model_1d7c07a87ea244c8ae619107d225a4c6 NOW.\n"
     ]
    }
   ],
   "source": [
    "code = \"\"\"\n",
    "data {\n",
    "    int<lower=0> J;\n",
    "    real y[J];\n",
    "    real<lower=0> sigma;\n",
    "}\n",
    "parameters {\n",
    "    real mu;\n",
    "    real<lower=0> tau;\n",
    "    real theta_tilde[J];\n",
    "}\n",
    "transformed parameters {\n",
    "  real theta[J];\n",
    "  for (j in 1:J)\n",
    "    theta[j] = mu + tau * theta_tilde[j];\n",
    "}\n",
    "\n",
    "model {\n",
    "  mu ~ normal(0, 5);\n",
    "  tau ~ cauchy(0, 5);\n",
    "  theta_tilde ~ normal(0, 1);\n",
    "  y ~ normal(theta, sigma);\n",
    "}\n",
    "\"\"\"\n",
    "\n",
    "code = \"\"\"\n",
    "data {\n",
    "    int<lower=0> N;\n",
    "    int<lower=1> G;\n",
    "    real y[N];\n",
    "    int<lower=1, upper=G> group[N];\n",
    "    real<lower=0> sigma;\n",
    "}\n",
    "parameters {\n",
    "    real mu;\n",
    "    real<lower=0> tau;\n",
    "    real theta_tilde[G];\n",
    "}\n",
    "transformed parameters{\n",
    "    real yhat[N];\n",
    "    real theta[G];\n",
    "    \n",
    "    for (j in 1:G)\n",
    "        theta[j] = mu + tau * theta_tilde[j];\n",
    "    \n",
    "    for(i in 1:N)\n",
    "        yhat[i] = theta[group[i]];\n",
    "}\n",
    "model {\n",
    "    mu ~ normal(0, 5);\n",
    "    tau ~ cauchy(0, 2.5);\n",
    "    theta_tilde ~ normal(0, 1);\n",
    "    y ~ normal(yhat, sigma);        \n",
    "}\n",
    "\"\"\"\n",
    "\n",
    "model_nc = pystan.StanModel(model_code=code)"
   ]
  },
  {
   "cell_type": "code",
   "execution_count": 247,
   "metadata": {},
   "outputs": [],
   "source": [
    "# config = {\n",
    "#     'J': n,\n",
    "#     'y': y,\n",
    "#     'sigma': ysigma\n",
    "# }\n",
    "\n",
    "config = {\n",
    "    'N': g*nrep,\n",
    "    'G': g,\n",
    "    'group': np.repeat(1+np.arange(g), nrep),\n",
    "    'y': y,\n",
    "    'sigma': ysigma\n",
    "}\n",
    "\n",
    "samples = model_nc.sampling(data=config, chains=4, iter=2000)\n",
    "samp = samples.extract()"
   ]
  },
  {
   "cell_type": "code",
   "execution_count": 248,
   "metadata": {},
   "outputs": [
    {
     "data": {
      "text/plain": [
       "Inference for Stan model: anon_model_1d7c07a87ea244c8ae619107d225a4c6.\n",
       "4 chains, each with iter=2000; warmup=1000; thin=1; \n",
       "post-warmup draws per chain=1000, total post-warmup draws=4000.\n",
       "\n",
       "                  mean se_mean     sd   2.5%    25%    50%    75%  97.5%  n_eff   Rhat\n",
       "mu                5.85    0.02   1.11   3.63   5.09   5.88   6.61   8.02 4000.0    1.0\n",
       "tau               1.86    0.03   1.33   0.09   0.78   1.63    2.7   4.94 1907.0    1.0\n",
       "theta_tilde[0]    0.43    0.02   0.98  -1.49  -0.25   0.43   1.11   2.29 4000.0    1.0\n",
       "theta_tilde[1]   -0.29    0.02   0.97  -2.17  -0.94   -0.3   0.36   1.66 4000.0    1.0\n",
       "theta_tilde[2]   -0.46    0.01   0.94  -2.27  -1.09  -0.49   0.19   1.46 4000.0    1.0\n",
       "theta_tilde[3]  9.7e-4    0.01   0.92  -1.78  -0.62-1.4e-3   0.63   1.75 4000.0    1.0\n",
       "theta_tilde[4]    0.03    0.02   0.98  -1.91  -0.63   0.03   0.68   1.97 4000.0    1.0\n",
       "theta_tilde[5]    0.35    0.02   0.95  -1.54   -0.3   0.36   1.01   2.15 4000.0    1.0\n",
       "theta_tilde[6]    0.59    0.02   0.99   -1.4  -0.09   0.58   1.27   2.51 4000.0    1.0\n",
       "theta_tilde[7]    0.18    0.01   0.95  -1.69  -0.46   0.18   0.81   2.01 4000.0    1.0\n",
       "theta_tilde[8]   -0.34    0.02   0.98  -2.23  -1.01  -0.35    0.3   1.68 4000.0    1.0\n",
       "theta_tilde[9]  2.6e-3    0.01   0.93  -1.82   -0.6 3.5e-4   0.59   1.83 4000.0    1.0\n",
       "theta_tilde[10]  -0.31    0.01   0.94  -2.08  -0.97  -0.34   0.34   1.57 4000.0    1.0\n",
       "theta_tilde[11]   0.38    0.02   0.97  -1.56  -0.27   0.39   1.03   2.21 4000.0    1.0\n",
       "theta_tilde[12]  -0.18    0.01   0.92  -1.96   -0.8  -0.18   0.44   1.62 4000.0    1.0\n",
       "theta_tilde[13]    0.2    0.02   0.96  -1.72  -0.46   0.21   0.86   2.04 4000.0    1.0\n",
       "theta_tilde[14]  -0.21    0.01   0.93  -2.06  -0.84  -0.22   0.42   1.62 4000.0    1.0\n",
       "theta_tilde[15]   0.23    0.02   0.96  -1.67  -0.41   0.23   0.85    2.1 4000.0    1.0\n",
       "theta_tilde[16]   0.35    0.02   0.96  -1.53  -0.27   0.36   1.01   2.15 4000.0    1.0\n",
       "theta_tilde[17]   0.07    0.01   0.94  -1.73  -0.58   0.07    0.7   1.93 4000.0    1.0\n",
       "theta_tilde[18]   0.26    0.02   0.96  -1.65  -0.36   0.28   0.87   2.17 4000.0    1.0\n",
       "theta_tilde[19]    0.4    0.02   0.97  -1.55  -0.27   0.42   1.08   2.26 4000.0    1.0\n",
       "theta_tilde[20]   0.03    0.02   0.95  -1.87   -0.6   0.02   0.66   1.91 4000.0    1.0\n",
       "theta_tilde[21]  -0.32    0.02   0.95  -2.13  -0.97  -0.32    0.3   1.58 4000.0    1.0\n",
       "theta_tilde[22]   0.02    0.01   0.94  -1.89  -0.61   0.03   0.66   1.89 4000.0    1.0\n",
       "theta_tilde[23]  -0.13    0.02   0.98  -2.07  -0.78  -0.14   0.52   1.83 4000.0    1.0\n",
       "theta_tilde[24]   0.08    0.01   0.92  -1.75  -0.54   0.11   0.69   1.86 4000.0    1.0\n",
       "theta_tilde[25]  -0.13    0.01   0.95  -2.05  -0.77  -0.13   0.51   1.74 4000.0    1.0\n",
       "theta_tilde[26]-6.9e-3    0.02   0.96   -1.9  -0.65  -0.01   0.63   1.86 4000.0    1.0\n",
       "theta_tilde[27] 2.2e-3    0.02   0.96  -1.88  -0.64-5.8e-3   0.64   1.87 4000.0    1.0\n",
       "theta_tilde[28]   -0.4    0.02   0.98  -2.22  -1.09  -0.43   0.23    1.6 4000.0    1.0\n",
       "theta_tilde[29]  -0.43    0.02    1.0  -2.35  -1.13  -0.46   0.23   1.63 4000.0    1.0\n",
       "yhat[0]           6.96    0.04   2.47   3.05   5.43   6.55   8.09  13.18 4000.0    1.0\n",
       "yhat[1]           6.96    0.04   2.47   3.05   5.43   6.55   8.09  13.18 4000.0    1.0\n",
       "yhat[2]           6.96    0.04   2.47   3.05   5.43   6.55   8.09  13.18 4000.0    1.0\n",
       "yhat[3]           5.09    0.04   2.31  -0.32   3.93   5.36    6.5    9.1 4000.0    1.0\n",
       "yhat[4]           5.09    0.04   2.31  -0.32   3.93   5.36    6.5    9.1 4000.0    1.0\n",
       "yhat[5]           5.09    0.04   2.31  -0.32   3.93   5.36    6.5    9.1 4000.0    1.0\n",
       "yhat[6]           4.72    0.04   2.44  -1.31   3.55   5.12   6.28   8.54 4000.0    1.0\n",
       "yhat[7]           4.72    0.04   2.44  -1.31   3.55   5.12   6.28   8.54 4000.0    1.0\n",
       "yhat[8]           4.72    0.04   2.44  -1.31   3.55   5.12   6.28   8.54 4000.0    1.0\n",
       "yhat[9]           5.88    0.03   2.13   1.36   4.71   5.88   7.08  10.22 4000.0    1.0\n",
       "yhat[10]          5.88    0.03   2.13   1.36   4.71   5.88   7.08  10.22 4000.0    1.0\n",
       "yhat[11]          5.88    0.03   2.13   1.36   4.71   5.88   7.08  10.22 4000.0    1.0\n",
       "yhat[12]          5.98    0.04   2.31   1.18   4.74   5.93   7.18  11.01 4000.0    1.0\n",
       "yhat[13]          5.98    0.04   2.31   1.18   4.74   5.93   7.18  11.01 4000.0    1.0\n",
       "yhat[14]          5.98    0.04   2.31   1.18   4.74   5.93   7.18  11.01 4000.0    1.0\n",
       "yhat[15]          6.77    0.04   2.37   2.78    5.3   6.48   7.92  12.39 4000.0    1.0\n",
       "yhat[16]          6.77    0.04   2.37   2.78    5.3   6.48   7.92  12.39 4000.0    1.0\n",
       "yhat[17]          6.77    0.04   2.37   2.78    5.3   6.48   7.92  12.39 4000.0    1.0\n",
       "yhat[18]          7.38    0.05   2.71   3.46   5.61   6.81   8.54  14.08 2612.0    1.0\n",
       "yhat[19]          7.38    0.05   2.71   3.46   5.61   6.81   8.54  14.08 2612.0    1.0\n",
       "yhat[20]          7.38    0.05   2.71   3.46   5.61   6.81   8.54  14.08 2612.0    1.0\n",
       "yhat[21]          6.31    0.04   2.22   1.99   5.01   6.19   7.46   11.3 4000.0    1.0\n",
       "yhat[22]          6.31    0.04   2.22   1.99   5.01   6.19   7.46   11.3 4000.0    1.0\n",
       "yhat[23]          6.31    0.04   2.22   1.99   5.01   6.19   7.46   11.3 4000.0    1.0\n",
       "yhat[24]          4.98    0.04   2.38  -0.89   3.82   5.32   6.48   8.93 4000.0    1.0\n",
       "yhat[25]          4.98    0.04   2.38  -0.89   3.82   5.32   6.48   8.93 4000.0    1.0\n",
       "yhat[26]          4.98    0.04   2.38  -0.89   3.82   5.32   6.48   8.93 4000.0    1.0\n",
       "yhat[27]          5.88    0.03    2.2    1.2   4.69   5.88   7.09  10.45 4000.0    1.0\n",
       "yhat[28]          5.88    0.03    2.2    1.2   4.69   5.88   7.09  10.45 4000.0    1.0\n",
       "yhat[29]          5.88    0.03    2.2    1.2   4.69   5.88   7.09  10.45 4000.0    1.0\n",
       "yhat[30]          5.09    0.04   2.36  -0.59    3.9   5.35   6.57   9.15 4000.0    1.0\n",
       "yhat[31]          5.09    0.04   2.36  -0.59    3.9   5.35   6.57   9.15 4000.0    1.0\n",
       "yhat[32]          5.09    0.04   2.36  -0.59    3.9   5.35   6.57   9.15 4000.0    1.0\n",
       "yhat[33]          6.83    0.04   2.41   2.89   5.34   6.52   7.94  12.63 4000.0    1.0\n",
       "yhat[34]          6.83    0.04   2.41   2.89   5.34   6.52   7.94  12.63 4000.0    1.0\n",
       "yhat[35]          6.83    0.04   2.41   2.89   5.34   6.52   7.94  12.63 4000.0    1.0\n",
       "yhat[36]          5.39    0.03   2.17   0.39   4.29   5.57   6.71   9.27 4000.0    1.0\n",
       "yhat[37]          5.39    0.03   2.17   0.39   4.29   5.57   6.71   9.27 4000.0    1.0\n",
       "yhat[38]          5.39    0.03   2.17   0.39   4.29   5.57   6.71   9.27 4000.0    1.0\n",
       "yhat[39]          6.33    0.03   2.19   2.04   5.05   6.21   7.53  11.15 4000.0    1.0\n",
       "yhat[40]          6.33    0.03   2.19   2.04   5.05   6.21   7.53  11.15 4000.0    1.0\n",
       "yhat[41]          6.33    0.03   2.19   2.04   5.05   6.21   7.53  11.15 4000.0    1.0\n",
       "yhat[42]          5.28    0.04   2.31  -0.19    4.2    5.5   6.65    9.2 4000.0    1.0\n",
       "yhat[43]          5.28    0.04   2.31  -0.19    4.2    5.5   6.65    9.2 4000.0    1.0\n",
       "yhat[44]          5.28    0.04   2.31  -0.19    4.2    5.5   6.65    9.2 4000.0    1.0\n",
       "yhat[45]          6.44    0.04   2.28   2.33   5.08   6.27   7.61  11.57 4000.0    1.0\n",
       "yhat[46]          6.44    0.04   2.28   2.33   5.08   6.27   7.61  11.57 4000.0    1.0\n",
       "yhat[47]          6.44    0.04   2.28   2.33   5.08   6.27   7.61  11.57 4000.0    1.0\n",
       "yhat[48]          6.78    0.04   2.34   2.89   5.26    6.5   7.95  12.35 4000.0    1.0\n",
       "yhat[49]          6.78    0.04   2.34   2.89   5.26    6.5   7.95  12.35 4000.0    1.0\n",
       "yhat[50]          6.78    0.04   2.34   2.89   5.26    6.5   7.95  12.35 4000.0    1.0\n",
       "yhat[51]          6.04    0.03   2.15   1.77   4.83   5.96   7.17  10.77 4000.0    1.0\n",
       "yhat[52]          6.04    0.03   2.15   1.77   4.83   5.96   7.17  10.77 4000.0    1.0\n",
       "yhat[53]          6.04    0.03   2.15   1.77   4.83   5.96   7.17  10.77 4000.0    1.0\n",
       "yhat[54]          6.56    0.04   2.31   2.57   5.14   6.33   7.66  12.09 4000.0    1.0\n",
       "yhat[55]          6.56    0.04   2.31   2.57   5.14   6.33   7.66  12.09 4000.0    1.0\n",
       "yhat[56]          6.56    0.04   2.31   2.57   5.14   6.33   7.66  12.09 4000.0    1.0\n",
       "yhat[57]          6.86    0.04   2.44   2.65   5.36   6.54   8.02  12.58 4000.0    1.0\n",
       "yhat[58]          6.86    0.04   2.44   2.65   5.36   6.54   8.02  12.58 4000.0    1.0\n",
       "yhat[59]          6.86    0.04   2.44   2.65   5.36   6.54   8.02  12.58 4000.0    1.0\n",
       "yhat[60]          5.92    0.04   2.24   1.24   4.67    5.9   7.18  10.52 4000.0    1.0\n",
       "yhat[61]          5.92    0.04   2.24   1.24   4.67    5.9   7.18  10.52 4000.0    1.0\n",
       "yhat[62]          5.92    0.04   2.24   1.24   4.67    5.9   7.18  10.52 4000.0    1.0\n",
       "yhat[63]          5.02    0.04   2.37  -0.85   3.86   5.36   6.48    8.9 4000.0    1.0\n",
       "yhat[64]          5.02    0.04   2.37  -0.85   3.86   5.36   6.48    8.9 4000.0    1.0\n",
       "yhat[65]          5.02    0.04   2.37  -0.85   3.86   5.36   6.48    8.9 4000.0    1.0\n",
       "yhat[66]          5.89    0.03   2.18   1.36    4.7   5.91   7.09  10.31 4000.0    1.0\n",
       "yhat[67]          5.89    0.03   2.18   1.36    4.7   5.91   7.09  10.31 4000.0    1.0\n",
       "yhat[68]          5.89    0.03   2.18   1.36    4.7   5.91   7.09  10.31 4000.0    1.0\n",
       "yhat[69]          5.51    0.04   2.28   0.46   4.36   5.68   6.83    9.7 4000.0    1.0\n",
       "yhat[70]          5.51    0.04   2.28   0.46   4.36   5.68   6.83    9.7 4000.0    1.0\n",
       "yhat[71]          5.51    0.04   2.28   0.46   4.36   5.68   6.83    9.7 4000.0    1.0\n",
       "yhat[72]          6.05    0.03   2.18    1.7   4.84   6.02   7.24   10.6 4000.0    1.0\n",
       "yhat[73]          6.05    0.03   2.18    1.7   4.84   6.02   7.24   10.6 4000.0    1.0\n",
       "yhat[74]          6.05    0.03   2.18    1.7   4.84   6.02   7.24   10.6 4000.0    1.0\n",
       "yhat[75]          5.51    0.04   2.25   0.39   4.39   5.68   6.82   9.74 4000.0    1.0\n",
       "yhat[76]          5.51    0.04   2.25   0.39   4.39   5.68   6.82   9.74 4000.0    1.0\n",
       "yhat[77]          5.51    0.04   2.25   0.39   4.39   5.68   6.82   9.74 4000.0    1.0\n",
       "yhat[78]          5.86    0.03    2.2    1.4   4.63   5.87   7.01  10.49 4000.0    1.0\n",
       "yhat[79]          5.86    0.03    2.2    1.4   4.63   5.87   7.01  10.49 4000.0    1.0\n",
       "yhat[80]          5.86    0.03    2.2    1.4   4.63   5.87   7.01  10.49 4000.0    1.0\n",
       "yhat[81]          5.88    0.04   2.28   1.12   4.61   5.85   7.08  10.62 4000.0    1.0\n",
       "yhat[82]          5.88    0.04   2.28   1.12   4.61   5.85   7.08  10.62 4000.0    1.0\n",
       "yhat[83]          5.88    0.04   2.28   1.12   4.61   5.85   7.08  10.62 4000.0    1.0\n",
       "yhat[84]          4.81    0.04   2.47  -1.16   3.64   5.22   6.38   8.81 4000.0    1.0\n",
       "yhat[85]          4.81    0.04   2.47  -1.16   3.64   5.22   6.38   8.81 4000.0    1.0\n",
       "yhat[86]          4.81    0.04   2.47  -1.16   3.64   5.22   6.38   8.81 4000.0    1.0\n",
       "yhat[87]          4.76    0.04   2.55  -1.46   3.53   5.13    6.4   8.86 4000.0    1.0\n",
       "yhat[88]          4.76    0.04   2.55  -1.46   3.53   5.13    6.4   8.86 4000.0    1.0\n",
       "yhat[89]          4.76    0.04   2.55  -1.46   3.53   5.13    6.4   8.86 4000.0    1.0\n",
       "theta[0]          6.96    0.04   2.47   3.05   5.43   6.55   8.09  13.18 4000.0    1.0\n",
       "theta[1]          5.09    0.04   2.31  -0.32   3.93   5.36    6.5    9.1 4000.0    1.0\n",
       "theta[2]          4.72    0.04   2.44  -1.31   3.55   5.12   6.28   8.54 4000.0    1.0\n",
       "theta[3]          5.88    0.03   2.13   1.36   4.71   5.88   7.08  10.22 4000.0    1.0\n",
       "theta[4]          5.98    0.04   2.31   1.18   4.74   5.93   7.18  11.01 4000.0    1.0\n",
       "theta[5]          6.77    0.04   2.37   2.78    5.3   6.48   7.92  12.39 4000.0    1.0\n",
       "theta[6]          7.38    0.05   2.71   3.46   5.61   6.81   8.54  14.08 2612.0    1.0\n",
       "theta[7]          6.31    0.04   2.22   1.99   5.01   6.19   7.46   11.3 4000.0    1.0\n",
       "theta[8]          4.98    0.04   2.38  -0.89   3.82   5.32   6.48   8.93 4000.0    1.0\n",
       "theta[9]          5.88    0.03    2.2    1.2   4.69   5.88   7.09  10.45 4000.0    1.0\n",
       "theta[10]         5.09    0.04   2.36  -0.59    3.9   5.35   6.57   9.15 4000.0    1.0\n",
       "theta[11]         6.83    0.04   2.41   2.89   5.34   6.52   7.94  12.63 4000.0    1.0\n",
       "theta[12]         5.39    0.03   2.17   0.39   4.29   5.57   6.71   9.27 4000.0    1.0\n",
       "theta[13]         6.33    0.03   2.19   2.04   5.05   6.21   7.53  11.15 4000.0    1.0\n",
       "theta[14]         5.28    0.04   2.31  -0.19    4.2    5.5   6.65    9.2 4000.0    1.0\n",
       "theta[15]         6.44    0.04   2.28   2.33   5.08   6.27   7.61  11.57 4000.0    1.0\n",
       "theta[16]         6.78    0.04   2.34   2.89   5.26    6.5   7.95  12.35 4000.0    1.0\n",
       "theta[17]         6.04    0.03   2.15   1.77   4.83   5.96   7.17  10.77 4000.0    1.0\n",
       "theta[18]         6.56    0.04   2.31   2.57   5.14   6.33   7.66  12.09 4000.0    1.0\n",
       "theta[19]         6.86    0.04   2.44   2.65   5.36   6.54   8.02  12.58 4000.0    1.0\n",
       "theta[20]         5.92    0.04   2.24   1.24   4.67    5.9   7.18  10.52 4000.0    1.0\n",
       "theta[21]         5.02    0.04   2.37  -0.85   3.86   5.36   6.48    8.9 4000.0    1.0\n",
       "theta[22]         5.89    0.03   2.18   1.36    4.7   5.91   7.09  10.31 4000.0    1.0\n",
       "theta[23]         5.51    0.04   2.28   0.46   4.36   5.68   6.83    9.7 4000.0    1.0\n",
       "theta[24]         6.05    0.03   2.18    1.7   4.84   6.02   7.24   10.6 4000.0    1.0\n",
       "theta[25]         5.51    0.04   2.25   0.39   4.39   5.68   6.82   9.74 4000.0    1.0\n",
       "theta[26]         5.86    0.03    2.2    1.4   4.63   5.87   7.01  10.49 4000.0    1.0\n",
       "theta[27]         5.88    0.04   2.28   1.12   4.61   5.85   7.08  10.62 4000.0    1.0\n",
       "theta[28]         4.81    0.04   2.47  -1.16   3.64   5.22   6.38   8.81 4000.0    1.0\n",
       "theta[29]         4.76    0.04   2.55  -1.46   3.53   5.13    6.4   8.86 4000.0    1.0\n",
       "lp__             -59.2    0.13   4.64 -68.65 -62.13 -59.03 -56.08 -50.47 1218.0   1.01\n",
       "\n",
       "Samples were drawn using NUTS at Wed Oct 11 16:58:06 2017.\n",
       "For each parameter, n_eff is a crude measure of effective sample size,\n",
       "and Rhat is the potential scale reduction factor on split chains (at \n",
       "convergence, Rhat=1)."
      ]
     },
     "execution_count": 248,
     "metadata": {},
     "output_type": "execute_result"
    }
   ],
   "source": [
    "samples"
   ]
  },
  {
   "cell_type": "code",
   "execution_count": 249,
   "metadata": {},
   "outputs": [
    {
     "data": {
      "image/png": "[encoded data removed]",
      "text/plain": [
       "<matplotlib.figure.Figure at 0x7f2b2cf78d10>"
      ]
     },
     "metadata": {},
     "output_type": "display_data"
    }
   ],
   "source": [
    "samples.plot(['mu', 'tau']);\n",
    "plt.tight_layout()"
   ]
  },
  {
   "cell_type": "code",
   "execution_count": 250,
   "metadata": {},
   "outputs": [
    {
     "name": "stdout",
     "output_type": "stream",
     "text": [
      "0 of 4000 iterations saturated the maximum tree depth of 10 (0%)\n"
     ]
    }
   ],
   "source": [
    "stan_utility.check_treedepth(samples)"
   ]
  },
  {
   "cell_type": "code",
   "execution_count": 251,
   "metadata": {},
   "outputs": [
    {
     "name": "stdout",
     "output_type": "stream",
     "text": [
      "0.0 of 4000 iterations ended with a divergence (0.0%)\n"
     ]
    }
   ],
   "source": [
    "stan_utility.check_div(samples)"
   ]
  },
  {
   "cell_type": "code",
   "execution_count": 258,
   "metadata": {},
   "outputs": [
    {
     "name": "stderr",
     "output_type": "stream",
     "text": [
      "WARNING:root:`dtypes` ignored when `permuted` is False.\n"
     ]
    },
    {
     "data": {
      "text/plain": [
       "<matplotlib.text.Text at 0x7f2b2aa2c150>"
      ]
     },
     "execution_count": 258,
     "metadata": {},
     "output_type": "execute_result"
    },
    {
     "data": {
      "image/png": "[encoded data removed]",
      "text/plain": [
       "<matplotlib.figure.Figure at 0x7f2b2ab6a050>"
      ]
     },
     "metadata": {},
     "output_type": "display_data"
    }
   ],
   "source": [
    "nondiv_params, div_params = stan_utility.partition_div(samples)\n",
    "\n",
    "light=\"#DCBCBC\"\n",
    "light_highlight=\"#C79999\"\n",
    "mid=\"#B97C7C\"\n",
    "mid_highlight=\"#A25050\"\n",
    "dark=\"#8F2727\"\n",
    "dark_highlight=\"#7C0000\"\n",
    "green=\"#00FF00\"\n",
    "\n",
    "plt.scatter([x[0] for x in div_params['theta']], div_params['tau'], \\\n",
    "             color = green, alpha=0.5)\n",
    "\n",
    "plt.scatter([x[0] for x in nondiv_params['theta']], nondiv_params['tau'], \\\n",
    "             color = mid_highlight, alpha=0.1)\n",
    "\n",
    "\n",
    "plt.semilogy()\n",
    "\n",
    "plt.scatter(theta[0], tau)\n",
    "\n",
    "plt.xlabel('theta_1')\n",
    "plt.ylabel('tau')\n"
   ]
  },
  {
   "cell_type": "code",
   "execution_count": 253,
   "metadata": {},
   "outputs": [
    {
     "data": {
      "text/plain": [
       "<matplotlib.lines.Line2D at 0x7f2b35b153d0>"
      ]
     },
     "execution_count": 253,
     "metadata": {},
     "output_type": "execute_result"
    },
    {
     "data": {
      "image/png": "[encoded data removed]",
      "text/plain": [
       "<matplotlib.figure.Figure at 0x7f2b35b15250>"
      ]
     },
     "metadata": {},
     "output_type": "display_data"
    }
   ],
   "source": [
    "plt.plot(np.cumsum(samp['mu'])/(1.+np.arange(4000)))\n",
    "plt.axhline(mu, color='k')"
   ]
  },
  {
   "cell_type": "code",
   "execution_count": null,
   "metadata": {
    "collapsed": true
   },
   "outputs": [],
   "source": []
  },
  {
   "cell_type": "markdown",
   "metadata": {},
   "source": [
    "# GP model "
   ]
  },
  {
   "cell_type": "code",
   "execution_count": null,
   "metadata": {
    "collapsed": true
   },
   "outputs": [],
   "source": [
    "def plotFunctionSamples(param, plotKwargs={}, fillKwargs={}, **kwargs):\n",
    "    plotKwargs.update(kwargs)\n",
    "    fillKwargs.update(kwargs)\n",
    "    \n",
    "    plt.plot(x, param.mean(0), **plotKwargs)\n",
    "    plt.fill_between(x, param.mean(0)-1.98*param.std(0), param.mean(0)+1.98*param.std(0), alpha=.1, **fillKwargs)"
   ]
  },
  {
   "cell_type": "code",
   "execution_count": null,
   "metadata": {
    "collapsed": true
   },
   "outputs": [],
   "source": [
    "code = \"\"\"\n",
    "data {\n",
    "  int<lower=1> N;\n",
    "  vector[N] y;\n",
    "  real x[N];\n",
    "}\n",
    "parameters {\n",
    "  //constrain hyperparameters to be positive\n",
    "  real<lower=0> length_scale;\n",
    "  real<lower=0> alpha;\n",
    "  real<lower=0> sigma;\n",
    "  vector[N] f_eta;\n",
    "}\n",
    "transformed parameters {\n",
    "  vector[N] f;\n",
    "  {\n",
    "    // define unneeded variables inside brackets \n",
    "    // to prevent storage by sampler\n",
    "    matrix[N, N] L_cov;\n",
    "    matrix[N, N] cov;\n",
    "    cov = cov_exp_quad(x, alpha, length_scale);\n",
    "    for (n in 1:N)\n",
    "      cov[n, n] = cov[n, n] + 1e-12;\n",
    "    L_cov = cholesky_decompose(cov);\n",
    "    f = L_cov * f_eta;\n",
    "  }\n",
    "}\n",
    "model {\n",
    "  length_scale ~ gamma(2, 2);\n",
    "  alpha ~ normal(0, 1);\n",
    "  sigma ~ normal(0, 1);\n",
    "  f_eta ~ normal(0, 1);\n",
    "  y ~ normal(f, sigma);\n",
    "}\n",
    "\"\"\"\n",
    "\n",
    "model = pystan.StanModel(model_code=code)"
   ]
  },
  {
   "cell_type": "code",
   "execution_count": null,
   "metadata": {
    "collapsed": true
   },
   "outputs": [],
   "source": [
    "n = 20\n",
    "x = np.linspace(-1,1,n)\n",
    "k = GPy.kern.RBF(1)\n",
    "\n",
    "cov = np.tile(k.K(x[:,None]), (2,2))\n",
    "cov[:n, :n] += .1 * np.eye(n)\n",
    "\n",
    "s = scipy.stats.multivariate_normal.rvs(np.zeros(2*n), cov)\n",
    "y, f = s[:n], s[n:]\n",
    "\n",
    "plt.plot(x, f)\n",
    "plt.scatter(x, y)"
   ]
  },
  {
   "cell_type": "code",
   "execution_count": null,
   "metadata": {
    "collapsed": true
   },
   "outputs": [],
   "source": [
    "cfg = {\n",
    "    'N': n,\n",
    "    'y': y,\n",
    "    'x': x\n",
    "}\n",
    "\n",
    "samples = model.sampling(data=cfg, iter=2000)\n",
    "samples"
   ]
  },
  {
   "cell_type": "code",
   "execution_count": null,
   "metadata": {
    "collapsed": true
   },
   "outputs": [],
   "source": [
    "samp = samples.extract()"
   ]
  },
  {
   "cell_type": "code",
   "execution_count": null,
   "metadata": {
    "collapsed": true
   },
   "outputs": [],
   "source": [
    "samp.keys()"
   ]
  },
  {
   "cell_type": "code",
   "execution_count": null,
   "metadata": {
    "collapsed": true
   },
   "outputs": [],
   "source": [
    "plt.plot(x, samp['f'].mean(0))\n",
    "plt.fill_between(x, samp['f'].mean(0)-1.98*samp['f'].std(0), samp['f'].mean(0)+1.98*samp['f'].std(0), alpha=.1)\n",
    "\n",
    "plt.plot(x, f, c='C1')"
   ]
  },
  {
   "cell_type": "markdown",
   "metadata": {},
   "source": [
    "# Add derivative sampling "
   ]
  },
  {
   "cell_type": "markdown",
   "metadata": {},
   "source": [
    "## Allow derivate prior"
   ]
  },
  {
   "cell_type": "code",
   "execution_count": null,
   "metadata": {
    "collapsed": true
   },
   "outputs": [],
   "source": [
    "code = \"\"\"\n",
    "data {\n",
    "  int<lower=1> N;\n",
    "  vector[N] y;\n",
    "  real x[N];\n",
    "}\n",
    "parameters {\n",
    "  //constrain hyperparameters to be positive\n",
    "  real<lower=0> length_scale;\n",
    "  real<lower=0> alpha;\n",
    "  real<lower=0> sigma;\n",
    "  vector[2*N] eta;\n",
    "}\n",
    "transformed parameters {\n",
    "  vector[N] f;\n",
    "  vector[N] df;\n",
    "  \n",
    "  {\n",
    "    matrix[2*N,2*N] L_cov;\n",
    "    matrix[N, N] cov;\n",
    "    vector[N] K_div_f;\n",
    "      matrix[N, N] dK;\n",
    "      matrix[N, N] ddK;\n",
    "      matrix[N, N] v_pred;\n",
    "      vector[N] df_pred_mu;\n",
    "      matrix[N, N] cov_df_pred;\n",
    "      matrix[N, N] nug_pred;\n",
    "      real diff;\n",
    "      real lsInv = 1./length_scale/length_scale;\n",
    "\n",
    "      nug_pred = diag_matrix(rep_vector(1e-12,N));\n",
    "    cov = cov_exp_quad(x, alpha, length_scale);\n",
    "    for (n in 1:N)\n",
    "      cov[n, n] = cov[n, n] + 1e-12;\n",
    "    L_cov = cholesky_decompose(cov);\n",
    "    f = L_cov[1:N,1:N] * f_eta[1:N];\n",
    "    \n",
    "    //derivative\n",
    "    K_div_f = mdivide_left_tri_low(L_cov, f);\n",
    "      K_div_f = mdivide_right_tri_low(K_div_f',L_cov)';\n",
    "\n",
    "      // compute dK: cov(df, f), and ddK: cov(df, df)\n",
    "      dK = cov_exp_quad(x, alpha, length_scale);\n",
    "      ddK = cov_exp_quad(x, alpha, length_scale);\n",
    "      for (i in 1:N){\n",
    "        for (j in 1:N){\n",
    "          diff = x[i] - x[j];\n",
    "\n",
    "          dK[i,j] = dK[i,j] * (-lsInv * diff);\n",
    "          ddK[i,j] = ddK[i,j] * (1.-lsInv*diff*diff) * lsInv;\n",
    "        }\n",
    "      }\n",
    "      \n",
    "      df_pred_mu = (dK * K_div_f);\n",
    "\n",
    "      v_pred = mdivide_left_tri_low(L_cov, dK');\n",
    "      cov_df_pred = ddK - v_pred' * v_pred;\n",
    "      L_df = cholesky_decompose(cov_df_pred);\n",
    "      \n",
    "      df = L_df * df_eta;\n",
    "  }\n",
    "}\n",
    "model {\n",
    "  length_scale ~ gamma(2, 2);\n",
    "  alpha ~ normal(0, 1);\n",
    "  sigma ~ normal(0, 1);\n",
    "  f_eta ~ normal(0, 1);\n",
    "  df_eta ~ normal(0, 1);\n",
    "  y ~ normal(f, sigma);\n",
    "}\n",
    "\"\"\"\n",
    "\n",
    "model_derivative_prior = pystan.StanModel(model_code=code)"
   ]
  },
  {
   "cell_type": "code",
   "execution_count": null,
   "metadata": {
    "collapsed": true
   },
   "outputs": [],
   "source": [
    "cfg = {\n",
    "    'N': n,\n",
    "    'y': y,\n",
    "    'x': x\n",
    "}\n",
    "\n",
    "samples = model_derivative_prior.sampling(data=cfg, iter=2000)\n",
    "samples"
   ]
  },
  {
   "cell_type": "code",
   "execution_count": null,
   "metadata": {
    "collapsed": true
   },
   "outputs": [],
   "source": [
    "samp = samples.extract()"
   ]
  },
  {
   "cell_type": "code",
   "execution_count": null,
   "metadata": {
    "collapsed": true
   },
   "outputs": [],
   "source": [
    "samp.keys()"
   ]
  },
  {
   "cell_type": "code",
   "execution_count": null,
   "metadata": {
    "collapsed": true
   },
   "outputs": [],
   "source": [
    "plotFunctionSamples(samp['f'])\n",
    "plt.plot(x, f, c='C1')\n",
    "\n",
    "plt.twinx()\n",
    "plotFunctionSamples(samp['df'], color='C1')"
   ]
  },
  {
   "cell_type": "code",
   "execution_count": null,
   "metadata": {
    "collapsed": true
   },
   "outputs": [],
   "source": []
  }
 ],
 "metadata": {
  "kernelspec": {
   "display_name": "Python 2",
   "language": "python",
   "name": "python2"
  },
  "language_info": {
   "codemirror_mode": {
    "name": "ipython",
    "version": 2
   },
   "file_extension": ".py",
   "mimetype": "text/x-python",
   "name": "python",
   "nbconvert_exporter": "python",
   "pygments_lexer": "ipython2",
   "version": "2.7.12"
  }
 },
 "nbformat": 4,
 "nbformat_minor": 2
}
