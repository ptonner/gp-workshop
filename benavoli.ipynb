{
 "cells": [
  {
   "cell_type": "code",
   "execution_count": null,
   "metadata": {},
   "outputs": [],
   "source": [
    "%pylab"
   ]
  },
  {
   "cell_type": "code",
   "execution_count": null,
   "metadata": {
    "collapsed": true
   },
   "outputs": [],
   "source": [
    "%matplotlib inline"
   ]
  },
  {
   "cell_type": "code",
   "execution_count": null,
   "metadata": {
    "collapsed": true
   },
   "outputs": [],
   "source": [
    "import GPy, scipy"
   ]
  },
  {
   "cell_type": "markdown",
   "metadata": {},
   "source": [
    "# Basics"
   ]
  },
  {
   "cell_type": "code",
   "execution_count": null,
   "metadata": {
    "collapsed": true
   },
   "outputs": [],
   "source": [
    "GPy.models.GPRegression?"
   ]
  },
  {
   "cell_type": "code",
   "execution_count": null,
   "metadata": {
    "collapsed": true
   },
   "outputs": [],
   "source": [
    "GPy.kern.RBF?"
   ]
  },
  {
   "cell_type": "markdown",
   "metadata": {},
   "source": [
    "# Gaussian Processes for Bayesian hypothesis tests on regression functions\n",
    "\n",
    "## Benavoli et al., 2015"
   ]
  },
  {
   "cell_type": "code",
   "execution_count": null,
   "metadata": {
    "collapsed": true
   },
   "outputs": [],
   "source": [
    "def equalityTest(x,y1,y2):\n",
    "\n",
    "    n = x.shape[0]\n",
    "\n",
    "    xgp = np.zeros((n*2, 2))\n",
    "    xgp[:,0] = np.tile(x,2)\n",
    "    xgp[n:,1] = 1\n",
    "\n",
    "    # input must be 2 dimensional\n",
    "    ygp = np.concatenate((y1,y2))[:,None]\n",
    "\n",
    "    kern = GPy.kern.IndependentOutputs(GPy.kern.RBF(1))\n",
    "    m = GPy.models.GPRegression(xgp,ygp, kern)\n",
    "    m.randomize()\n",
    "    m.optimize()\n",
    "\n",
    "    xpred = np.zeros((n*2,2))\n",
    "    xpred[:,0] = np.tile(np.sort(x),2)\n",
    "    xpred[n:,1] = 1\n",
    "\n",
    "    mu,cov = m.predict_noiseless(xpred,full_cov=True)\n",
    "\n",
    "    op = np.zeros((n,n*2))\n",
    "    for i in range(n):\n",
    "        op[i,i] = 1\n",
    "        op[i,i+n] = -1\n",
    "\n",
    "    mu = np.dot(op,mu)\n",
    "    cov = np.dot(op, np.dot(cov, op.T))\n",
    "\n",
    "    evals = np.linalg.eigvals(cov)\n",
    "    nu = sum(evals > 1e-3)\n",
    "\n",
    "    alpha = scipy.stats.chi2.cdf(np.dot(mu[:,0], np.dot(cov, mu[:,0])), nu)\n",
    "\n",
    "    return alpha"
   ]
  },
  {
   "cell_type": "code",
   "execution_count": null,
   "metadata": {
    "collapsed": true
   },
   "outputs": [],
   "source": [
    "# list of function comparisons as described in the manuscript\n",
    "# functions = [[f1, f2], ...]\n",
    "# f2 = None implies f2=f1\n",
    "\n",
    "functions = \\\n",
    "    [[lambda x: 1, None],\n",
    "     [lambda x: np.exp(x), None],\n",
    "     [lambda x: np.sin(2*np.pi*x), None],\n",
    "     [lambda x: 1, lambda x: 1+x],\n",
    "     [lambda x: np.exp(x), lambda x: np.exp(x) + x],\n",
    "     [lambda x: np.sin(2*np.pi*x), lambda x: np.sin(2*np.pi*x) + x],\n",
    "     [lambda x: 1, lambda x: 1 + np.sin(2*np.pi*x)],\n",
    "     [lambda x: np.exp(x), lambda x: np.exp(x) + np.sin(2*np.pi*x)],\n",
    "     [lambda x: np.sin(2*np.pi*x), lambda x: 2*np.sin(2*np.pi*x)]\n",
    "    ]"
   ]
  },
  {
   "cell_type": "code",
   "execution_count": null,
   "metadata": {},
   "outputs": [],
   "source": [
    "# examples of function outputs\n",
    "\n",
    "n = 50\n",
    "x = np.random.uniform(size=n)\n",
    "sigma1 = .01\n",
    "sigma2 = .01\n",
    "\n",
    "plt.figure(figsize=(12,12))\n",
    "\n",
    "for i, funcs in enumerate(functions):\n",
    "    f1,f2 = funcs\n",
    "    \n",
    "    if f2 is None:\n",
    "        f2 = f1\n",
    "    \n",
    "    plt.subplot(3,3,i+1)\n",
    "    plt.title(\"test %d\" % (i+1))\n",
    "    plt.scatter(x, f1(x)+np.random.normal(scale=np.sqrt(sigma1),size=n))\n",
    "    plt.scatter(x, f2(x)+np.random.normal(scale=np.sqrt(sigma2),size=n))"
   ]
  },
  {
   "cell_type": "markdown",
   "metadata": {},
   "source": [
    "### Test for equality "
   ]
  },
  {
   "cell_type": "code",
   "execution_count": null,
   "metadata": {},
   "outputs": [],
   "source": [
    "xgp = np.zeros((n*2, 2))\n",
    "xgp[:,0] = np.tile(x,2)\n",
    "xgp[n:,1] = 1\n",
    "\n",
    "plt.plot(xgp)"
   ]
  },
  {
   "cell_type": "code",
   "execution_count": null,
   "metadata": {},
   "outputs": [],
   "source": [
    "# independent outputs kernel allows for different functions \n",
    "# to be modeled with a shared background kernel.\n",
    "#\n",
    "# input is assumed to be of the form [x, index] where index\n",
    "# specifies which function each observation belongs to\n",
    "\n",
    "kern = GPy.kern.IndependentOutputs(GPy.kern.RBF(1))\n",
    "\n",
    "plt.imshow(kern.K(xgp))"
   ]
  },
  {
   "cell_type": "code",
   "execution_count": null,
   "metadata": {},
   "outputs": [],
   "source": [
    "i = 6\n",
    "\n",
    "f1,f2 = functions[i]\n",
    "\n",
    "if f2 is None:\n",
    "    f2 = f1\n",
    "\n",
    "y1 = f1(x)+np.random.normal(scale=np.sqrt(sigma1),size=n)\n",
    "y2 = f2(x)+np.random.normal(scale=np.sqrt(sigma2),size=n)\n",
    "\n",
    "# input must be 2 dimensional\n",
    "ygp = np.concatenate((y1,y2))[:,None]\n",
    "\n",
    "# plt.plot(ygp)\n",
    "plt.scatter(x,y1)\n",
    "plt.scatter(x,y2)"
   ]
  },
  {
   "cell_type": "code",
   "execution_count": null,
   "metadata": {},
   "outputs": [],
   "source": [
    "kern = GPy.kern.IndependentOutputs(GPy.kern.RBF(1))\n",
    "m = GPy.models.GPRegression(xgp,ygp, kern)\n",
    "m.randomize()\n",
    "m.optimize()\n",
    "\n",
    "mnull = GPy.models.GPRegression(xgp,ygp, GPy.kern.RBF(1))\n",
    "mnull.randomize()\n",
    "mnull.optimize()\n",
    "\n",
    "m.log_likelihood() - mnull.log_likelihood()"
   ]
  },
  {
   "cell_type": "code",
   "execution_count": null,
   "metadata": {},
   "outputs": [],
   "source": [
    "m = GPy.models.GPRegression(xgp,ygp, kern)\n",
    "m.randomize()\n",
    "m"
   ]
  },
  {
   "cell_type": "code",
   "execution_count": null,
   "metadata": {},
   "outputs": [],
   "source": [
    "m.optimize()\n",
    "m"
   ]
  },
  {
   "cell_type": "code",
   "execution_count": null,
   "metadata": {},
   "outputs": [],
   "source": [
    "xpred = np.zeros((n*2,2))\n",
    "xpred[:,0] = np.tile(np.sort(x),2)\n",
    "xpred[n:,1] = 1\n",
    "\n",
    "# predict noiseless to get function (not observation) intervals\n",
    "mu,cov = m.predict_noiseless(xpred,full_cov=True)\n",
    "cov[cov<1e-9] = 1e-9\n",
    "\n",
    "std = np.sqrt(np.diagonal(cov))\n",
    "\n",
    "plt.plot(xpred[:n,0],mu[:n,0])\n",
    "plt.fill_between(xpred[:n,0],mu[:n,0]-1.98*std[:n],mu[:n,0]+1.98*std[:n],alpha=.1)\n",
    "\n",
    "plt.plot(xpred[:n,0],mu[n:,0])\n",
    "plt.fill_between(xpred[:n,0],mu[n:,0]-1.98*std[n:],mu[n:,0]+1.98*std[n:],alpha=.1)\n",
    "\n",
    "# plt.plot(xpred[:,0],mu[:,0])"
   ]
  },
  {
   "cell_type": "code",
   "execution_count": null,
   "metadata": {},
   "outputs": [],
   "source": [
    "# we build an operation to compute the difference between f1 and f2 at each timepoint t\n",
    "\n",
    "op = np.zeros((n,n*2))\n",
    "for i in range(n):\n",
    "    op[i,i] = 1\n",
    "    op[i,i+n] = -1\n",
    "    \n",
    "plt.imshow(op)"
   ]
  },
  {
   "cell_type": "code",
   "execution_count": null,
   "metadata": {},
   "outputs": [],
   "source": [
    "plt.imshow(cov)"
   ]
  },
  {
   "cell_type": "code",
   "execution_count": null,
   "metadata": {
    "collapsed": true
   },
   "outputs": [],
   "source": [
    "mu = np.dot(op,mu)\n",
    "cov = np.dot(op, np.dot(cov, op.T))"
   ]
  },
  {
   "cell_type": "code",
   "execution_count": null,
   "metadata": {},
   "outputs": [],
   "source": [
    "# compute the degrees of freedom based off \n",
    "# the number of positive eigenvalues\n",
    "\n",
    "evals = np.linalg.eigvals(cov + 1e-10*np.eye(cov.shape[0]))\n",
    "# nu = sum(evals > 1e-9)\n",
    "nu = sum(evals/sum(evals) > 1e-2)\n",
    "nu"
   ]
  },
  {
   "cell_type": "code",
   "execution_count": null,
   "metadata": {},
   "outputs": [],
   "source": [
    "std = np.sqrt(np.diagonal(cov))\n",
    "\n",
    "plt.plot(xpred[:n,0],mu[:n,0])\n",
    "plt.fill_between(xpred[:n,0],mu[:n,0]-1.98*std[:n],mu[:n,0]+1.98*std[:n],alpha=.1)\n",
    "plt.axhline(0, color='k')"
   ]
  },
  {
   "cell_type": "code",
   "execution_count": null,
   "metadata": {},
   "outputs": [],
   "source": [
    "plt.imshow(cov)\n",
    "plt.colorbar()"
   ]
  },
  {
   "cell_type": "code",
   "execution_count": null,
   "metadata": {},
   "outputs": [],
   "source": [
    "cov"
   ]
  },
  {
   "cell_type": "code",
   "execution_count": null,
   "metadata": {},
   "outputs": [],
   "source": [
    "np.dot(mu[:,0], np.dot(cov, mu[:,0]))"
   ]
  },
  {
   "cell_type": "code",
   "execution_count": null,
   "metadata": {},
   "outputs": [],
   "source": [
    "scipy.stats.chi2.cdf(np.dot(mu[:,0], np.dot(cov, mu[:,0])), df=nu)"
   ]
  },
  {
   "cell_type": "code",
   "execution_count": null,
   "metadata": {},
   "outputs": [],
   "source": [
    "i = 6\n",
    "lls = []\n",
    "\n",
    "f1,f2 = functions[i]\n",
    "if f2 is None:\n",
    "    f2 = f1\n",
    "\n",
    "for _ in range(100):\n",
    "    \n",
    "    y1 = f1(x)+np.random.normal(scale=np.sqrt(sigma1),size=n)\n",
    "    y2 = f2(x)+np.random.normal(scale=np.sqrt(sigma2),size=n)\n",
    "    \n",
    "    ygp = np.concatenate((y1,y2))[:,None]\n",
    "    \n",
    "    kern = GPy.kern.IndependentOutputs(GPy.kern.RBF(1))\n",
    "    m = GPy.models.GPRegression(xgp,ygp, kern)\n",
    "    m.randomize()\n",
    "    m.optimize()\n",
    "\n",
    "    mnull = GPy.models.GPRegression(xgp,ygp, GPy.kern.RBF(1))\n",
    "    mnull.randomize()\n",
    "    mnull.optimize()\n",
    "\n",
    "    lls.append(m.log_likelihood() - mnull.log_likelihood())"
   ]
  },
  {
   "cell_type": "code",
   "execution_count": null,
   "metadata": {},
   "outputs": [],
   "source": [
    "plt.hist(lls)"
   ]
  },
  {
   "cell_type": "code",
   "execution_count": null,
   "metadata": {},
   "outputs": [],
   "source": [
    "for i, funcs in enumerate(functions):\n",
    "    f1,f2 = funcs\n",
    "    \n",
    "    if f2 is None:\n",
    "        f2 = f1\n",
    "    \n",
    "    lls = []\n",
    "    for _ in range(100):\n",
    "    \n",
    "        y1 = f1(x)+np.random.normal(scale=np.sqrt(sigma1),size=n)\n",
    "        y2 = f2(x)+np.random.normal(scale=np.sqrt(sigma2),size=n)\n",
    "\n",
    "        ygp = np.concatenate((y1,y2))[:,None]\n",
    "\n",
    "        kern = GPy.kern.IndependentOutputs(GPy.kern.RBF(1))\n",
    "        m = GPy.models.GPRegression(xgp,ygp, kern)\n",
    "        m.randomize()\n",
    "        m.optimize()\n",
    "\n",
    "        mnull = GPy.models.GPRegression(xgp,ygp, GPy.kern.RBF(1))\n",
    "        mnull.randomize()\n",
    "        mnull.optimize()\n",
    "\n",
    "        lls.append(m.log_likelihood() - mnull.log_likelihood())\n",
    "    \n",
    "    plt.subplot(3,3,i+1)\n",
    "    plt.title(\"test %d\" % (i+1))\n",
    "    plt.hist(lls)\n",
    "    \n",
    "plt.tight_layout()"
   ]
  }
 ],
 "metadata": {
  "kernelspec": {
   "display_name": "Python 2",
   "language": "python",
   "name": "python2"
  },
  "language_info": {
   "codemirror_mode": {
    "name": "ipython",
    "version": 2
   },
   "file_extension": ".py",
   "mimetype": "text/x-python",
   "name": "python",
   "nbconvert_exporter": "python",
   "pygments_lexer": "ipython2",
   "version": "2.7.12"
  }
 },
 "nbformat": 4,
 "nbformat_minor": 2
}