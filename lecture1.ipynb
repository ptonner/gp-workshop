{
 "cells": [
  {
   "cell_type": "code",
   "execution_count": null,
   "metadata": {},
   "outputs": [],
   "source": [
    "%pylab"
   ]
  },
  {
   "cell_type": "code",
   "execution_count": null,
   "metadata": {
    "collapsed": true
   },
   "outputs": [],
   "source": [
    "%matplotlib inline"
   ]
  },
  {
   "cell_type": "code",
   "execution_count": null,
   "metadata": {
    "collapsed": true
   },
   "outputs": [],
   "source": [
    "import GPy, scipy"
   ]
  },
  {
   "cell_type": "markdown",
   "metadata": {},
   "source": [
    "## Bayesian Linear Regression "
   ]
  },
  {
   "cell_type": "code",
   "execution_count": null,
   "metadata": {
    "collapsed": true
   },
   "outputs": [],
   "source": [
    "def phi_gen(p):\n",
    "    return lambda x: np.array([x**i for i in range(p+1)]).T\n",
    "\n",
    "phi3 = phi_gen(3)"
   ]
  },
  {
   "cell_type": "code",
   "execution_count": null,
   "metadata": {},
   "outputs": [],
   "source": [
    "x = np.linspace(-1,1)\n",
    "\n",
    "plt.plot(x, phi3(x));\n",
    "\n",
    "plt.axhline(0, color='black')\n",
    "plt.axvline(0, color='black')"
   ]
  },
  {
   "cell_type": "code",
   "execution_count": null,
   "metadata": {},
   "outputs": [],
   "source": [
    "beta_cov = np.eye(4)\n",
    "# beta_cov[]\n",
    "\n",
    "f_cov = np.dot(phi3(x), np.dot(beta_cov, phi3(x).T))\n",
    "\n",
    "plt.imshow(f_cov)\n",
    "plt.colorbar()"
   ]
  },
  {
   "cell_type": "code",
   "execution_count": null,
   "metadata": {},
   "outputs": [],
   "source": [
    "f = scipy.stats.multivariate_normal.rvs(np.zeros(50), f_cov)\n",
    "\n",
    "plt.plot(x,f)"
   ]
  },
  {
   "cell_type": "code",
   "execution_count": null,
   "metadata": {},
   "outputs": [],
   "source": [
    "def fdist(x, phi, beta_cov, sigma = 0.0):\n",
    "    f_cov = np.dot(phi(x), np.dot(beta_cov, phi(x).T)) + np.eye(x.shape[0])*sigma\n",
    "    \n",
    "    jit = 1e-6\n",
    "    excp = None\n",
    "    #return scipy.stats.multivariate_normal(np.zeros(x.shape[0]), f_cov+jit*np.eye(x.shape[0]))\n",
    "    while jit<1e1:\n",
    "        try:\n",
    "            #return scipy.stats.multivariate_normal(np.zeros(x.shape[0]), f_cov)\n",
    "            return scipy.stats.multivariate_normal(np.zeros(x.shape[0]), f_cov+jit*np.eye(x.shape[0]))\n",
    "        except np.linalg.LinAlgError as e:\n",
    "            jit = jit*10\n",
    "            excp = e\n",
    "    \n",
    "    raise excp"
   ]
  },
  {
   "cell_type": "markdown",
   "metadata": {},
   "source": []
  },
  {
   "cell_type": "code",
   "execution_count": null,
   "metadata": {},
   "outputs": [],
   "source": [
    "p = 10\n",
    "xsamp = np.random.choice(x, size=3, replace=False)\n",
    "fsamp = fdist(xsamp, phi_gen(p), np.eye(p+1)).rvs()\n",
    "\n",
    "plt.scatter(xsamp, fsamp)\n",
    "plt.axhline(0, color='black')\n",
    "plt.axvline(0, color='black')"
   ]
  },
  {
   "cell_type": "code",
   "execution_count": null,
   "metadata": {},
   "outputs": [],
   "source": [
    "kzx = np.dot(phi_gen(p)(x), np.dot(np.eye(p+1), phi_gen(p)(xsamp).T))\n",
    "kzz = np.dot(phi_gen(p)(x), np.dot(np.eye(p+1), phi_gen(p)(x).T))\n",
    "kxx = np.dot(phi_gen(p)(xsamp), np.dot(np.eye(p+1), phi_gen(p)(xsamp).T))\n",
    "\n",
    "mu_pred = np.dot(kzx, np.dot(np.linalg.inv(kxx), fsamp))\n",
    "cov_pred = kzz - np.dot(kzx, np.dot(np.linalg.inv(kxx), kzx.T))\n",
    "cov_pred[cov_pred<0] = 0\n",
    "std_pred = np.sqrt(np.diag(cov_pred))\n",
    "\n",
    "# plt.subplot(121)\n",
    "plt.plot(x, mu_pred)\n",
    "plt.fill_between(x, mu_pred-2*std_pred, mu_pred+2*std_pred, alpha=.1)\n",
    "plt.scatter(xsamp, fsamp)"
   ]
  },
  {
   "cell_type": "markdown",
   "metadata": {},
   "source": [
    "Add observation noise"
   ]
  },
  {
   "cell_type": "code",
   "execution_count": null,
   "metadata": {},
   "outputs": [],
   "source": [
    "x = np.linspace(-.3,.3)\n",
    "\n",
    "sigma = 5e-1\n",
    "p = 10\n",
    "xsamp = np.random.choice(x, size=3, replace=False)\n",
    "fsamp = fdist(xsamp, phi_gen(p), np.eye(p+1), sigma=sigma).rvs()\n",
    "\n",
    "plt.scatter(xsamp, fsamp)\n",
    "plt.axhline(0, color='black')\n",
    "plt.axvline(0, color='black')"
   ]
  },
  {
   "cell_type": "code",
   "execution_count": null,
   "metadata": {},
   "outputs": [],
   "source": [
    "kzx = np.dot(phi_gen(p)(x), np.dot(np.eye(p+1), phi_gen(p)(xsamp).T))\n",
    "kzz = np.dot(phi_gen(p)(x), np.dot(np.eye(p+1), phi_gen(p)(x).T))\n",
    "kxx = np.dot(phi_gen(p)(xsamp), np.dot(np.eye(p+1), phi_gen(p)(xsamp).T)) + sigma*np.eye(xsamp.shape[0])\n",
    "\n",
    "mu_pred = np.dot(kzx, np.dot(np.linalg.inv(kxx), fsamp))\n",
    "cov_pred = kzz - np.dot(kzx, np.dot(np.linalg.inv(kxx), kzx.T))\n",
    "cov_pred[cov_pred<0] = 0\n",
    "std_pred = np.sqrt(np.diag(cov_pred))\n",
    "\n",
    "# plt.subplot(121)\n",
    "plt.plot(x, mu_pred)\n",
    "plt.fill_between(x, mu_pred-2*std_pred, mu_pred+2*std_pred, alpha=.1)\n",
    "plt.scatter(xsamp, fsamp)"
   ]
  },
  {
   "cell_type": "code",
   "execution_count": null,
   "metadata": {},
   "outputs": [],
   "source": [
    "plt.plot(x, mu_pred)\n",
    "plt.fill_between(x, mu_pred-2*std_pred, mu_pred+2*std_pred, alpha=.1)\n",
    "plt.plot(x, scipy.stats.multivariate_normal.rvs(mu_pred, cov_pred, size=10).T,alpha=.5);"
   ]
  },
  {
   "cell_type": "markdown",
   "metadata": {},
   "source": [
    "## GP basics"
   ]
  },
  {
   "cell_type": "code",
   "execution_count": null,
   "metadata": {},
   "outputs": [],
   "source": [
    "x = np.linspace(-3,3, 101)[:,None]\n",
    "kern = GPy.kern.RBF(1)\n",
    "\n",
    "plt.plot(x[x.shape[0]/2,0] - x, kern.K(x)[x.shape[0]/2,:])\n",
    "plt.xlabel(\"x-x'\", fontsize=20)\n",
    "\n",
    "plt.figure()\n",
    "plt.imshow(kern.K(x))\n",
    "plt.colorbar()"
   ]
  },
  {
   "cell_type": "code",
   "execution_count": null,
   "metadata": {},
   "outputs": [],
   "source": [
    "s1 = scipy.stats.multivariate_normal.rvs(np.zeros(x.shape[0]), kern.K(x), size=3).T\n",
    "\n",
    "plt.plot(x, s1, c='C0');"
   ]
  },
  {
   "cell_type": "code",
   "execution_count": null,
   "metadata": {},
   "outputs": [],
   "source": [
    "# kern2 = GPy.kern.RBF(1, variance=1e0, lengthscale=1e0)\n",
    "kern2 = GPy.kern.RBF(1, variance=1e0, lengthscale=3e0)\n",
    "# kern2 = GPy.kern.RBF(1, variance=1e0, lengthscale=5e-1)\n",
    "# kern2 = GPy.kern.RBF(1, variance=1e-1, lengthscale=1e0)\n",
    "# kern2 = GPy.kern.RBF(1, variance=1e1, lengthscale=1e0)\n",
    "\n",
    "s2 = scipy.stats.multivariate_normal.rvs(np.zeros(x.shape[0]), kern2.K(x), size=3).T\n",
    "\n",
    "plt.figure(figsize=(10,6))\n",
    "\n",
    "plt.subplot(121)\n",
    "plt.plot(x[x.shape[0]/2,0] - x, kern.K(x)[x.shape[0]/2,:])\n",
    "plt.plot(x[x.shape[0]/2,0] - x, kern2.K(x)[x.shape[0]/2,:])\n",
    "plt.xlabel(\"x-x'\", fontsize=20)\n",
    "\n",
    "plt.subplot(122)\n",
    "plt.plot(x, s1, c='C0');\n",
    "plt.plot(x, s2, c='C1');"
   ]
  },
  {
   "cell_type": "code",
   "execution_count": null,
   "metadata": {
    "collapsed": true
   },
   "outputs": [],
   "source": []
  }
 ],
 "metadata": {
  "kernelspec": {
   "display_name": "Python 2",
   "language": "python",
   "name": "python2"
  },
  "language_info": {
   "codemirror_mode": {
    "name": "ipython",
    "version": 2
   },
   "file_extension": ".py",
   "mimetype": "text/x-python",
   "name": "python",
   "nbconvert_exporter": "python",
   "pygments_lexer": "ipython2",
   "version": "2.7.12"
  }
 },
 "nbformat": 4,
 "nbformat_minor": 2
}