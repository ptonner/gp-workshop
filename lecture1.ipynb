{
 "cells": [
  {
   "cell_type": "code",
   "execution_count": null,
   "metadata": {},
   "outputs": [],
   "source": [
    "%pylab"
   ]
  },
  {
   "cell_type": "code",
   "execution_count": null,
   "metadata": {
    "collapsed": true
   },
   "outputs": [],
   "source": [
    "%matplotlib inline"
   ]
  },
  {
   "cell_type": "code",
   "execution_count": null,
   "metadata": {
    "collapsed": true
   },
   "outputs": [],
   "source": [
    "import GPy, scipy"
   ]
  },
  {
   "cell_type": "markdown",
   "metadata": {},
   "source": [
    "## Bayesian Linear Regression "
   ]
  },
  {
   "cell_type": "code",
   "execution_count": null,
   "metadata": {},
   "outputs": [],
   "source": [
    "# build a basis function of degree p (0, 1, ..., p)\n",
    "def phiGen(p):\n",
    "    return lambda x: np.array([x**i for i in range(p+1)]).T\n",
    "\n",
    "p = 3\n",
    "phi = phiGen(p)"
   ]
  },
  {
   "cell_type": "code",
   "execution_count": null,
   "metadata": {},
   "outputs": [],
   "source": [
    "x = np.linspace(-1,1)\n",
    "\n",
    "plt.plot(x, phi(x));\n",
    "\n",
    "plt.axhline(0, color='black')\n",
    "plt.axvline(0, color='black')"
   ]
  },
  {
   "cell_type": "markdown",
   "metadata": {},
   "source": [
    "## Compute $Cov(f(x_1), f(x_2))$:"
   ]
  },
  {
   "cell_type": "code",
   "execution_count": null,
   "metadata": {},
   "outputs": [],
   "source": [
    "beta_cov = np.eye(p+1)\n",
    "f_cov = np.dot(phi(x), np.dot(beta_cov, phi(x).T))\n",
    "\n",
    "plt.imshow(f_cov)\n",
    "plt.colorbar()"
   ]
  },
  {
   "cell_type": "markdown",
   "metadata": {},
   "source": [
    "## Sample $f$:"
   ]
  },
  {
   "cell_type": "code",
   "execution_count": null,
   "metadata": {},
   "outputs": [],
   "source": [
    "f = scipy.stats.multivariate_normal.rvs(np.zeros(50), f_cov, size=10).T\n",
    "\n",
    "plt.plot(x,f);\n",
    "plt.savefig('figures/f_linreg_samples.pdf',bbox_inches='tight')"
   ]
  },
  {
   "cell_type": "code",
   "execution_count": null,
   "metadata": {
    "collapsed": true
   },
   "outputs": [],
   "source": [
    "# build a function distribution, with stability in covariance\n",
    "\n",
    "def fdist(x, phi, beta_cov, sigma = 0.0):\n",
    "    f_cov = np.dot(phi(x), np.dot(beta_cov, phi(x).T)) + np.eye(x.shape[0])*sigma\n",
    "    \n",
    "    jit = 1e-6\n",
    "    excp = None\n",
    "    while jit<1e1:\n",
    "        try:\n",
    "            return scipy.stats.multivariate_normal(np.zeros(x.shape[0]), f_cov+jit*np.eye(x.shape[0]))\n",
    "        except np.linalg.LinAlgError as e:\n",
    "            jit = jit*10\n",
    "            excp = e\n",
    "    \n",
    "    raise excp"
   ]
  },
  {
   "cell_type": "markdown",
   "metadata": {},
   "source": [
    "# Training model on data"
   ]
  },
  {
   "cell_type": "markdown",
   "metadata": {},
   "source": [
    "### sample data from prior:"
   ]
  },
  {
   "cell_type": "code",
   "execution_count": null,
   "metadata": {},
   "outputs": [],
   "source": [
    "p = 4\n",
    "phi = phiGen(p)\n",
    "\n",
    "xsamp = np.random.choice(x, size=3, replace=False)\n",
    "xsamp.sort()\n",
    "\n",
    "fsamp = fdist(xsamp, phiGen(p), np.eye(p+1)).rvs()\n",
    "\n",
    "plt.scatter(xsamp, fsamp)\n",
    "plt.axhline(0, color='black')\n",
    "plt.axvline(0, color='black')"
   ]
  },
  {
   "cell_type": "markdown",
   "metadata": {},
   "source": [
    "### compute conditional distribution:"
   ]
  },
  {
   "cell_type": "markdown",
   "metadata": {},
   "source": [
    "$cov(f(x_2), f(x_1))$:"
   ]
  },
  {
   "cell_type": "code",
   "execution_count": null,
   "metadata": {
    "collapsed": true
   },
   "outputs": [],
   "source": [
    "k21 = np.dot(phi(x), np.dot(np.eye(p+1), phi(xsamp).T))"
   ]
  },
  {
   "cell_type": "markdown",
   "metadata": {},
   "source": [
    "$cov(f(x_2), f(x_2))$:"
   ]
  },
  {
   "cell_type": "code",
   "execution_count": null,
   "metadata": {
    "collapsed": true
   },
   "outputs": [],
   "source": [
    "k22 = np.dot(phi(x), np.dot(np.eye(p+1), phi(x).T))"
   ]
  },
  {
   "cell_type": "markdown",
   "metadata": {},
   "source": [
    "$cov(f(x_1), f(x_1))$"
   ]
  },
  {
   "cell_type": "code",
   "execution_count": null,
   "metadata": {
    "collapsed": true
   },
   "outputs": [],
   "source": [
    "k11 = np.dot(phi(xsamp), np.dot(np.eye(p+1), phi(xsamp).T)) \n",
    "\n",
    "# stabilize matrix\n",
    "k11 += np.eye(xsamp.shape[0]) * 1e-9"
   ]
  },
  {
   "cell_type": "markdown",
   "metadata": {},
   "source": [
    "conditional:"
   ]
  },
  {
   "cell_type": "code",
   "execution_count": null,
   "metadata": {},
   "outputs": [],
   "source": [
    "mu_pred = np.dot(k21, np.dot(np.linalg.inv(k11), fsamp))\n",
    "cov_pred = k22 - np.dot(k21, np.dot(np.linalg.inv(k11), k21.T))\n",
    "# cov_pred[cov_pred<1e-9] = 1e-9\n",
    "std_pred = np.sqrt(np.diag(cov_pred))\n",
    "\n",
    "plt.plot(x, mu_pred)\n",
    "plt.fill_between(x, mu_pred-2*std_pred, mu_pred+2*std_pred, alpha=.1)\n",
    "plt.scatter(xsamp, fsamp)\n",
    "\n",
    "plt.savefig('figures/f_linreg_conditional_noiseless.pdf', bbox_inches='tight')"
   ]
  },
  {
   "cell_type": "markdown",
   "metadata": {},
   "source": [
    "### Add observation noise:"
   ]
  },
  {
   "cell_type": "code",
   "execution_count": null,
   "metadata": {},
   "outputs": [],
   "source": [
    "x = np.linspace(-1,1)\n",
    "\n",
    "sigma = 5e-1\n",
    "p = 4\n",
    "phi = phiGen(p)\n",
    "xsamp = np.random.uniform(x.min(), x.max(), size=10)\n",
    "fsamp = fdist(xsamp, phiGen(p), np.eye(p+1), sigma=sigma).rvs()\n",
    "\n",
    "plt.scatter(xsamp, fsamp)\n",
    "plt.axhline(0, color='black')\n",
    "plt.axvline(0, color='black')"
   ]
  },
  {
   "cell_type": "code",
   "execution_count": null,
   "metadata": {},
   "outputs": [],
   "source": [
    "k21 = np.dot(phiGen(p)(x), np.dot(np.eye(p+1), phiGen(p)(xsamp).T))\n",
    "k22 = np.dot(phiGen(p)(x), np.dot(np.eye(p+1), phiGen(p)(x).T))\n",
    "k11 = np.dot(phiGen(p)(xsamp), np.dot(np.eye(p+1), phiGen(p)(xsamp).T)) + sigma*np.eye(xsamp.shape[0])\n",
    "\n",
    "mu_pred = np.dot(k21, np.dot(np.linalg.inv(k11), fsamp))\n",
    "cov_pred = k22 - np.dot(k21, np.dot(np.linalg.inv(k11), k21.T))\n",
    "std_pred = np.sqrt(np.diag(cov_pred))\n",
    "\n",
    "plt.plot(x, mu_pred)\n",
    "plt.fill_between(x, mu_pred-2*std_pred, mu_pred+2*std_pred, alpha=.1)\n",
    "plt.scatter(xsamp, fsamp)\n",
    "\n",
    "plt.savefig('figures/f_linreg_conditional_noiseful.pdf', bbox_inches='tight')"
   ]
  },
  {
   "cell_type": "code",
   "execution_count": null,
   "metadata": {},
   "outputs": [],
   "source": [
    "plt.plot(x, mu_pred)\n",
    "plt.fill_between(x, mu_pred-2*std_pred, mu_pred+2*std_pred, alpha=.1)\n",
    "plt.plot(x, scipy.stats.multivariate_normal.rvs(mu_pred, cov_pred, size=10).T,alpha=.5);\n",
    "\n",
    "plt.savefig('figures/f_linreg_conditional_noiseful_samples.pdf', bbox_inches='tight')"
   ]
  },
  {
   "cell_type": "markdown",
   "metadata": {},
   "source": [
    "### what about predicting new observations?"
   ]
  },
  {
   "cell_type": "code",
   "execution_count": null,
   "metadata": {
    "collapsed": true
   },
   "outputs": [],
   "source": [
    "k22 += sigma*np.eye(x.shape[0])"
   ]
  },
  {
   "cell_type": "code",
   "execution_count": null,
   "metadata": {},
   "outputs": [],
   "source": [
    "mu_pred = np.dot(k21, np.dot(np.linalg.inv(k11), fsamp))\n",
    "cov_pred = k22 - np.dot(k21, np.dot(np.linalg.inv(k11), k21.T))\n",
    "std_pred = np.sqrt(np.diag(cov_pred))\n",
    "\n",
    "plt.plot(x, mu_pred)\n",
    "plt.fill_between(x, mu_pred-2*std_pred, mu_pred+2*std_pred, alpha=.1)\n",
    "plt.scatter(x, scipy.stats.multivariate_normal.rvs(mu_pred, cov_pred, size=1).T,alpha=.5);\n",
    "plt.scatter(xsamp, fsamp, c='k')\n",
    "\n",
    "plt.savefig('figures/f_linreg_conditional_predictive.pdf', bbox_inches='tight')"
   ]
  },
  {
   "cell_type": "markdown",
   "metadata": {},
   "source": [
    "## Kernels"
   ]
  },
  {
   "cell_type": "markdown",
   "metadata": {},
   "source": [
    "## Radial basis function kernel"
   ]
  },
  {
   "cell_type": "code",
   "execution_count": null,
   "metadata": {
    "collapsed": true
   },
   "outputs": [],
   "source": [
    "x = np.linspace(-1,1, 101)[:,None]"
   ]
  },
  {
   "cell_type": "code",
   "execution_count": null,
   "metadata": {
    "collapsed": true
   },
   "outputs": [],
   "source": [
    "kern = GPy.kern.RBF(1, variance=1., lengthscale=1.)"
   ]
  },
  {
   "cell_type": "code",
   "execution_count": null,
   "metadata": {},
   "outputs": [],
   "source": [
    "plt.figure(figsize=(12,6))\n",
    "\n",
    "c = 10\n",
    "\n",
    "plt.subplot2grid((c,c*2+2), (0,0), colspan=c, rowspan=c)\n",
    "plt.plot(x[x.shape[0]/2,0] - x, kern.K(x)[x.shape[0]/2,:])\n",
    "\n",
    "plt.subplot2grid((c,c*2+2), (0,c+1), colspan=c, rowspan=c)\n",
    "plt.imshow(kern.K(x))\n",
    "\n",
    "ax = plt.subplot2grid((c,c*2+2), (0,c*2+1), colspan=1, rowspan=c)\n",
    "plt.colorbar(cax=ax)"
   ]
  },
  {
   "cell_type": "code",
   "execution_count": null,
   "metadata": {},
   "outputs": [],
   "source": [
    "plt.figure(figsize=(10,6))\n",
    "for i, ls in enumerate(10**np.arange(-1, 2, 1.)):\n",
    "    k = GPy.kern.RBF(1, lengthscale=ls)\n",
    "    s = scipy.stats.multivariate_normal.rvs(np.zeros(x.shape[0]), k.K(x), size=3).T\n",
    "    \n",
    "    plt.subplot(121)\n",
    "    plt.plot(x[x.shape[0]/2,0] - x, k.K(x)[x.shape[0]/2,:], c='C%d'%i, label='$\\ell = %.1lf$'%ls)\n",
    "    \n",
    "    plt.subplot(122)\n",
    "    plt.plot(x, s, c='C%d'%i)\n",
    "    \n",
    "plt.subplot(121)\n",
    "plt.xlabel('$ || x_1 - x_2 ||$', fontsize=14)\n",
    "plt.legend(fontsize=12)\n",
    "\n",
    "plt.subplot(122)\n",
    "plt.xlabel('$x$', fontsize=14)\n",
    "\n",
    "plt.savefig('figures/lengthscale.pdf',bbox_inches='tight')"
   ]
  },
  {
   "cell_type": "code",
   "execution_count": null,
   "metadata": {},
   "outputs": [],
   "source": [
    "plt.figure(figsize=(10,6))\n",
    "for i, var in enumerate(10**np.arange(-.5, 1, .5)):\n",
    "    k = GPy.kern.RBF(1, variance=var)\n",
    "    s = scipy.stats.multivariate_normal.rvs(np.zeros(x.shape[0]), k.K(x), size=3).T\n",
    "    \n",
    "    plt.subplot(121)\n",
    "    plt.plot(x[x.shape[0]/2,0] - x, k.K(x)[x.shape[0]/2,:], c='C%d'%i, label='$\\sigma^2 = %.1lf$'%var)\n",
    "    \n",
    "    plt.subplot(122)\n",
    "    plt.plot(x, s, c='C%d'%i)\n",
    "    \n",
    "plt.subplot(121)\n",
    "plt.xlabel('$ || x_1 - x_2 ||$', fontsize=14)\n",
    "plt.legend(fontsize=12)\n",
    "\n",
    "plt.subplot(122)\n",
    "plt.xlabel('$x$', fontsize=14)\n",
    "\n",
    "plt.savefig('figures/variance.pdf',bbox_inches='tight')"
   ]
  },
  {
   "cell_type": "markdown",
   "metadata": {},
   "source": [
    "### what about our linear basis data?"
   ]
  },
  {
   "cell_type": "code",
   "execution_count": null,
   "metadata": {},
   "outputs": [],
   "source": [
    "# compute posterior using linear basis\n",
    "\n",
    "kzx = np.dot(phiGen(p)(x[:,0]), np.dot(np.eye(p+1), phiGen(p)(xsamp).T))\n",
    "kzz = np.dot(phiGen(p)(x[:,0]), np.dot(np.eye(p+1), phiGen(p)(x[:,0]).T))\n",
    "kxx = np.dot(phiGen(p)(xsamp), np.dot(np.eye(p+1), phiGen(p)(xsamp).T)) + sigma*np.eye(xsamp.shape[0])\n",
    "\n",
    "mu_pred = np.dot(kzx, np.dot(np.linalg.inv(kxx), fsamp))\n",
    "cov_pred = kzz - np.dot(kzx, np.dot(np.linalg.inv(kxx), kzx.T))\n",
    "std_pred = np.sqrt(np.diag(cov_pred))\n",
    "\n",
    "plt.plot(x, mu_pred, label='linear model')\n",
    "plt.fill_between(x[:,0], mu_pred-2*std_pred, mu_pred+2*std_pred, alpha=.1)\n",
    "\n",
    "# compute posterior using RBF kernel\n",
    "kern = GPy.kern.RBF(1, variance=1, lengthscale=1)\n",
    "kzx = kern.K(x, xsamp[:,None])\n",
    "kzz = kern.K(x)\n",
    "kxx = kern.K(xsamp[:,None]) + sigma*np.eye(xsamp.shape[0])\n",
    "\n",
    "mu_pred = np.dot(kzx, np.dot(np.linalg.inv(kxx), fsamp))\n",
    "cov_pred = kzz - np.dot(kzx, np.dot(np.linalg.inv(kxx), kzx.T))\n",
    "std_pred = np.sqrt(np.diag(cov_pred))\n",
    "\n",
    "plt.plot(x, mu_pred, color='C1', label='RBF kernel')\n",
    "plt.fill_between(x[:,0], mu_pred-2*std_pred, mu_pred+2*std_pred, alpha=.1, color='C1')\n",
    "\n",
    "plt.scatter(xsamp, fsamp, color='k')\n",
    "plt.legend()\n",
    "\n",
    "plt.savefig('figures/f_linreg_condition_rbf.pdf', bbox_inches='tight')"
   ]
  },
  {
   "cell_type": "code",
   "execution_count": null,
   "metadata": {},
   "outputs": [],
   "source": [
    "for i, ls in enumerate(10**np.arange(-1, 2, 1.)):\n",
    "    kern = GPy.kern.RBF(1, lengthscale=ls)\n",
    "\n",
    "    kzx = kern.K(x, xsamp[:,None])\n",
    "    kzz = kern.K(x)\n",
    "    kxx = kern.K(xsamp[:,None]) + sigma*np.eye(xsamp.shape[0])\n",
    "\n",
    "    mu_pred = np.dot(kzx, np.dot(np.linalg.inv(kxx), fsamp))\n",
    "    cov_pred = kzz - np.dot(kzx, np.dot(np.linalg.inv(kxx), kzx.T))\n",
    "    std_pred = np.sqrt(np.diag(cov_pred))\n",
    "\n",
    "    plt.plot(x, mu_pred, color='C%d'%i, label='$\\ell=%.1lf$'%ls)\n",
    "    plt.fill_between(x[:,0], mu_pred-2*std_pred, mu_pred+2*std_pred, alpha=.1, color='C%d'%i)\n",
    "\n",
    "plt.scatter(xsamp, fsamp, color='k')\n",
    "plt.legend()\n",
    "\n",
    "plt.savefig('figures/f_linreg_condition_rbf_ls-vary.pdf', bbox_inches='tight')"
   ]
  },
  {
   "cell_type": "markdown",
   "metadata": {},
   "source": [
    "### matern"
   ]
  },
  {
   "cell_type": "code",
   "execution_count": null,
   "metadata": {},
   "outputs": [],
   "source": [
    "plt.figure(figsize=(10,6))\n",
    "for i, ls in enumerate(10**np.arange(-1, 2, 1.)):\n",
    "    k = GPy.kern.Matern32(1, lengthscale=ls)\n",
    "    s = scipy.stats.multivariate_normal.rvs(np.zeros(x.shape[0]), k.K(x), size=3).T\n",
    "    \n",
    "    plt.subplot(121)\n",
    "    plt.plot(x[x.shape[0]/2,0] - x, k.K(x)[x.shape[0]/2,:], c='C%d'%i, label='$\\ell = %.1lf$'%ls)\n",
    "    \n",
    "    plt.subplot(122)\n",
    "    plt.plot(x, s, c='C%d'%i)\n",
    "    \n",
    "plt.subplot(121)\n",
    "plt.xlabel('$ || x_1 - x_2 ||$', fontsize=14)\n",
    "plt.legend(fontsize=12)\n",
    "\n",
    "plt.subplot(122)\n",
    "plt.xlabel('$x$', fontsize=14)\n",
    "\n",
    "plt.savefig('figures/lengthscale-matern32.pdf',bbox_inches='tight')"
   ]
  },
  {
   "cell_type": "code",
   "execution_count": null,
   "metadata": {},
   "outputs": [],
   "source": [
    "plt.figure(figsize=(10,6))\n",
    "for i, ls in enumerate(10**np.arange(-1, 2, 1.)):\n",
    "    k = GPy.kern.Matern52(1, lengthscale=ls)\n",
    "    s = scipy.stats.multivariate_normal.rvs(np.zeros(x.shape[0]), k.K(x), size=3).T\n",
    "    \n",
    "    plt.subplot(121)\n",
    "    plt.plot(x[x.shape[0]/2,0] - x, k.K(x)[x.shape[0]/2,:], c='C%d'%i, label='$\\ell = %.1lf$'%ls)\n",
    "    \n",
    "    plt.subplot(122)\n",
    "    plt.plot(x, s, c='C%d'%i)\n",
    "    \n",
    "plt.subplot(121)\n",
    "plt.xlabel('$ || x_1 - x_2 ||$', fontsize=14)\n",
    "plt.legend(fontsize=12)\n",
    "\n",
    "plt.subplot(122)\n",
    "plt.xlabel('$x$', fontsize=14)\n",
    "\n",
    "plt.savefig('figures/lengthscale-matern52.pdf',bbox_inches='tight')"
   ]
  },
  {
   "cell_type": "code",
   "execution_count": null,
   "metadata": {},
   "outputs": [],
   "source": [
    "# compute posterior using linear basis\n",
    "\n",
    "kzx = np.dot(phiGen(p)(x[:,0]), np.dot(np.eye(p+1), phiGen(p)(xsamp).T))\n",
    "kzz = np.dot(phiGen(p)(x[:,0]), np.dot(np.eye(p+1), phiGen(p)(x[:,0]).T))\n",
    "kxx = np.dot(phiGen(p)(xsamp), np.dot(np.eye(p+1), phiGen(p)(xsamp).T)) + sigma*np.eye(xsamp.shape[0])\n",
    "\n",
    "mu_pred = np.dot(kzx, np.dot(np.linalg.inv(kxx), fsamp))\n",
    "cov_pred = kzz - np.dot(kzx, np.dot(np.linalg.inv(kxx), kzx.T))\n",
    "std_pred = np.sqrt(np.diag(cov_pred))\n",
    "\n",
    "# plt.plot(x, mu_pred, label='linear model')\n",
    "# plt.fill_between(x[:,0], mu_pred-2*std_pred, mu_pred+2*std_pred, alpha=.1)\n",
    "\n",
    "# compute posterior using RBF kernel\n",
    "kern = GPy.kern.RBF(1, variance=1, lengthscale=.5)\n",
    "kzx = kern.K(x, xsamp[:,None])\n",
    "kzz = kern.K(x)\n",
    "kxx = kern.K(xsamp[:,None]) + sigma*np.eye(xsamp.shape[0])\n",
    "\n",
    "mu_pred = np.dot(kzx, np.dot(np.linalg.inv(kxx), fsamp))\n",
    "cov_pred = kzz - np.dot(kzx, np.dot(np.linalg.inv(kxx), kzx.T))\n",
    "std_pred = np.sqrt(np.diag(cov_pred))\n",
    "\n",
    "plt.plot(x, mu_pred, color='C1', label='RBF kernel')\n",
    "plt.fill_between(x[:,0], mu_pred-2*std_pred, mu_pred+2*std_pred, alpha=.1, color='C1')\n",
    "\n",
    "# compute posterior using Mat32 kernel\n",
    "kern = GPy.kern.Matern32(1, variance=1, lengthscale=.5)\n",
    "kzx = kern.K(x, xsamp[:,None])\n",
    "kzz = kern.K(x)\n",
    "kxx = kern.K(xsamp[:,None]) + sigma*np.eye(xsamp.shape[0])\n",
    "\n",
    "mu_pred = np.dot(kzx, np.dot(np.linalg.inv(kxx), fsamp))\n",
    "cov_pred = kzz - np.dot(kzx, np.dot(np.linalg.inv(kxx), kzx.T))\n",
    "std_pred = np.sqrt(np.diag(cov_pred))\n",
    "\n",
    "plt.plot(x, mu_pred, color='C2', label='Mat32 kernel')\n",
    "plt.fill_between(x[:,0], mu_pred-2*std_pred, mu_pred+2*std_pred, alpha=.1, color='C2')\n",
    "\n",
    "# compute posterior using Mat52 kernel\n",
    "# kern = GPy.kern.Matern52(1, variance=1, lengthscale=1)\n",
    "# kzx = kern.K(x, xsamp[:,None])\n",
    "# kzz = kern.K(x)\n",
    "# kxx = kern.K(xsamp[:,None]) + sigma*np.eye(xsamp.shape[0])\n",
    "\n",
    "# mu_pred = np.dot(kzx, np.dot(np.linalg.inv(kxx), fsamp))\n",
    "# cov_pred = kzz - np.dot(kzx, np.dot(np.linalg.inv(kxx), kzx.T))\n",
    "# std_pred = np.sqrt(np.diag(cov_pred))\n",
    "\n",
    "# plt.plot(x, mu_pred, color='C3', label='Mat52 kernel')\n",
    "# plt.fill_between(x[:,0], mu_pred-2*std_pred, mu_pred+2*std_pred, alpha=.1, color='C3')\n",
    "\n",
    "plt.scatter(xsamp, fsamp, color='k')\n",
    "plt.legend()\n",
    "\n",
    "plt.savefig('figures/f_linreg_condition_rbf_vs_mat.pdf', bbox_inches='tight')"
   ]
  },
  {
   "cell_type": "markdown",
   "metadata": {},
   "source": [
    "# Optimization"
   ]
  },
  {
   "cell_type": "code",
   "execution_count": null,
   "metadata": {},
   "outputs": [],
   "source": [
    "ls = 10**np.linspace(-1,2)\n",
    "\n",
    "\n",
    "for var in 10**np.arange(-1,2,.5):\n",
    "    loglike = []\n",
    "    \n",
    "    for i, l in enumerate(ls):\n",
    "        kern = GPy.kern.RBF(1, variance=var, lengthscale=l)\n",
    "        kxx = kern.K(xsamp[:,None]) + sigma*np.eye(xsamp.shape[0])\n",
    "\n",
    "        loglike.append(scipy.stats.multivariate_normal.logpdf(np.zeros(xsamp.shape[0]), fsamp, kxx))\n",
    "\n",
    "    plt.plot(ls, loglike, label='$\\sigma^2 = %.1lf$'%var)\n",
    "\n",
    "plt.semilogx()\n",
    "plt.legend()\n",
    "plt.title('$log(p(y))$',fontsize=20)\n",
    "plt.xlabel('$\\ell$', fontsize=20)\n",
    "\n",
    "plt.savefig('figures/logpdf_vs_hyperparams.pdf',bbox_inches='tight')"
   ]
  },
  {
   "cell_type": "code",
   "execution_count": null,
   "metadata": {
    "collapsed": true
   },
   "outputs": [],
   "source": []
  }
 ],
 "metadata": {
  "kernelspec": {
   "display_name": "Python 2",
   "language": "python",
   "name": "python2"
  },
  "language_info": {
   "codemirror_mode": {
    "name": "ipython",
    "version": 2
   },
   "file_extension": ".py",
   "mimetype": "text/x-python",
   "name": "python",
   "nbconvert_exporter": "python",
   "pygments_lexer": "ipython2",
   "version": "2.7.12"
  }
 },
 "nbformat": 4,
 "nbformat_minor": 2
}