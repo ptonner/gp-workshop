{
 "cells": [
  {
   "cell_type": "code",
   "execution_count": null,
   "metadata": {
    "collapsed": false,
    "deletable": true,
    "editable": true
   },
   "outputs": [],
   "source": [
    "%pylab"
   ]
  },
  {
   "cell_type": "code",
   "execution_count": null,
   "metadata": {
    "collapsed": true,
    "deletable": true,
    "editable": true
   },
   "outputs": [],
   "source": [
    "%matplotlib inline"
   ]
  },
  {
   "cell_type": "code",
   "execution_count": null,
   "metadata": {
    "collapsed": true,
    "deletable": true,
    "editable": true
   },
   "outputs": [],
   "source": [
    "import GPy, scipy"
   ]
  },
  {
   "cell_type": "markdown",
   "metadata": {
    "deletable": true,
    "editable": true
   },
   "source": [
    "## Bayesian Linear Regression "
   ]
  },
  {
   "cell_type": "code",
   "execution_count": null,
   "metadata": {
    "collapsed": true,
    "deletable": true,
    "editable": true
   },
   "outputs": [],
   "source": [
    "def phiGen(p):\n",
    "    return lambda x: np.array([x**i for i in range(p+1)]).T\n",
    "\n",
    "p = 3\n",
    "phi = phi_gen(p)"
   ]
  },
  {
   "cell_type": "code",
   "execution_count": null,
   "metadata": {
    "collapsed": false,
    "deletable": true,
    "editable": true
   },
   "outputs": [],
   "source": [
    "x = np.linspace(-1,1)\n",
    "\n",
    "plt.plot(x, phi(x));\n",
    "\n",
    "plt.axhline(0, color='black')\n",
    "plt.axvline(0, color='black')"
   ]
  },
  {
   "cell_type": "code",
   "execution_count": null,
   "metadata": {
    "collapsed": false,
    "deletable": true,
    "editable": true
   },
   "outputs": [],
   "source": [
    "beta_cov = np.eye(p+1)\n",
    "\n",
    "f_cov = np.dot(phi(x), np.dot(beta_cov, phi(x).T))\n",
    "\n",
    "plt.imshow(f_cov)\n",
    "plt.colorbar()"
   ]
  },
  {
   "cell_type": "code",
   "execution_count": null,
   "metadata": {
    "collapsed": false,
    "deletable": true,
    "editable": true
   },
   "outputs": [],
   "source": [
    "f = scipy.stats.multivariate_normal.rvs(np.zeros(50), f_cov, size=10).T\n",
    "\n",
    "plt.plot(x,f)"
   ]
  },
  {
   "cell_type": "code",
   "execution_count": null,
   "metadata": {
    "collapsed": true,
    "deletable": true,
    "editable": true
   },
   "outputs": [],
   "source": [
    "def fdist(x, phi, beta_cov, sigma = 0.0):\n",
    "    f_cov = np.dot(phi(x), np.dot(beta_cov, phi(x).T)) + np.eye(x.shape[0])*sigma\n",
    "    \n",
    "    jit = 1e-6\n",
    "    excp = None\n",
    "    #return scipy.stats.multivariate_normal(np.zeros(x.shape[0]), f_cov+jit*np.eye(x.shape[0]))\n",
    "    while jit<1e1:\n",
    "        try:\n",
    "            #return scipy.stats.multivariate_normal(np.zeros(x.shape[0]), f_cov)\n",
    "            return scipy.stats.multivariate_normal(np.zeros(x.shape[0]), f_cov+jit*np.eye(x.shape[0]))\n",
    "        except np.linalg.LinAlgError as e:\n",
    "            jit = jit*10\n",
    "            excp = e\n",
    "    \n",
    "    raise excp"
   ]
  },
  {
   "cell_type": "markdown",
   "metadata": {
    "deletable": true,
    "editable": true
   },
   "source": []
  },
  {
   "cell_type": "code",
   "execution_count": null,
   "metadata": {
    "collapsed": false,
    "deletable": true,
    "editable": true
   },
   "outputs": [],
   "source": [
    "p = 4\n",
    "xsamp = np.random.choice(x, size=3, replace=False)\n",
    "fsamp = fdist(xsamp, phi_gen(p), np.eye(p+1)).rvs()\n",
    "\n",
    "plt.scatter(xsamp, fsamp)\n",
    "plt.axhline(0, color='black')\n",
    "plt.axvline(0, color='black')"
   ]
  },
  {
   "cell_type": "code",
   "execution_count": null,
   "metadata": {
    "collapsed": false,
    "deletable": true,
    "editable": true
   },
   "outputs": [],
   "source": [
    "kzx = np.dot(phi_gen(p)(x), np.dot(np.eye(p+1), phi_gen(p)(xsamp).T))\n",
    "kzz = np.dot(phi_gen(p)(x), np.dot(np.eye(p+1), phi_gen(p)(x).T))\n",
    "kxx = np.dot(phi_gen(p)(xsamp), np.dot(np.eye(p+1), phi_gen(p)(xsamp).T))\n",
    "\n",
    "mu_pred = np.dot(kzx, np.dot(np.linalg.inv(kxx), fsamp))\n",
    "cov_pred = kzz - np.dot(kzx, np.dot(np.linalg.inv(kxx), kzx.T))\n",
    "cov_pred[cov_pred<0] = 0\n",
    "std_pred = np.sqrt(np.diag(cov_pred))\n",
    "\n",
    "# plt.subplot(121)\n",
    "plt.plot(x, mu_pred)\n",
    "plt.fill_between(x, mu_pred-2*std_pred, mu_pred+2*std_pred, alpha=.1)\n",
    "plt.scatter(xsamp, fsamp)"
   ]
  },
  {
   "cell_type": "markdown",
   "metadata": {
    "deletable": true,
    "editable": true
   },
   "source": [
    "Add observation noise"
   ]
  },
  {
   "cell_type": "code",
   "execution_count": null,
   "metadata": {
    "collapsed": false,
    "deletable": true,
    "editable": true
   },
   "outputs": [],
   "source": [
    "x = np.linspace(-1,1)\n",
    "\n",
    "sigma = 5e-0\n",
    "p = 2\n",
    "phi = phiGen(p)\n",
    "xsamp = np.random.uniform(x.min(), x.max(), size=100)\n",
    "fsamp = fdist(xsamp, phi_gen(p), np.eye(p+1), sigma=sigma).rvs()\n",
    "\n",
    "plt.scatter(xsamp, fsamp)\n",
    "plt.axhline(0, color='black')\n",
    "plt.axvline(0, color='black')"
   ]
  },
  {
   "cell_type": "code",
   "execution_count": null,
   "metadata": {
    "collapsed": false,
    "deletable": true,
    "editable": true
   },
   "outputs": [],
   "source": [
    "kzx = np.dot(phi_gen(p)(x), np.dot(np.eye(p+1), phi_gen(p)(xsamp).T))\n",
    "kzz = np.dot(phi_gen(p)(x), np.dot(np.eye(p+1), phi_gen(p)(x).T))\n",
    "kxx = np.dot(phi_gen(p)(xsamp), np.dot(np.eye(p+1), phi_gen(p)(xsamp).T)) + sigma*np.eye(xsamp.shape[0])\n",
    "\n",
    "mu_pred = np.dot(kzx, np.dot(np.linalg.inv(kxx), fsamp))\n",
    "cov_pred = kzz - np.dot(kzx, np.dot(np.linalg.inv(kxx), kzx.T))\n",
    "# cov_pred[cov_pred<0] = 0\n",
    "std_pred = np.sqrt(np.diag(cov_pred))\n",
    "\n",
    "# plt.subplot(121)\n",
    "plt.plot(x, mu_pred)\n",
    "plt.fill_between(x, mu_pred-2*std_pred, mu_pred+2*std_pred, alpha=.1)\n",
    "plt.scatter(xsamp, fsamp)"
   ]
  },
  {
   "cell_type": "code",
   "execution_count": null,
   "metadata": {
    "collapsed": false,
    "deletable": true,
    "editable": true
   },
   "outputs": [],
   "source": [
    "plt.plot(x, mu_pred)\n",
    "plt.fill_between(x, mu_pred-2*std_pred, mu_pred+2*std_pred, alpha=.1)\n",
    "plt.plot(x, scipy.stats.multivariate_normal.rvs(mu_pred, cov_pred, size=10).T,alpha=.5);"
   ]
  },
  {
   "cell_type": "markdown",
   "metadata": {},
   "source": [
    "compute sub-components"
   ]
  },
  {
   "cell_type": "code",
   "execution_count": null,
   "metadata": {
    "collapsed": false,
    "scrolled": true
   },
   "outputs": [],
   "source": [
    "psi = [0] + [1] + [0]*(p-1)\n",
    "psi*phi(x)"
   ]
  },
  {
   "cell_type": "code",
   "execution_count": null,
   "metadata": {
    "collapsed": false
   },
   "outputs": [],
   "source": [
    "kzx = np.dot(psi*phi(x), np.dot(np.eye(p+1), phi(xsamp).T))\n",
    "kzz = np.dot(psi*phi(x), np.dot(np.eye(p+1), (psi*phi(x)).T))\n",
    "kxx = np.dot(phi(xsamp), np.dot(np.eye(p+1), phi(xsamp).T)) + sigma*np.eye(xsamp.shape[0])\n",
    "\n",
    "mu_pred = np.dot(kzx, np.dot(np.linalg.inv(kxx), fsamp))\n",
    "cov_pred = kzz - np.dot(kzx, np.dot(np.linalg.inv(kxx), kzx.T))\n",
    "# cov_pred[cov_pred<0] = 0\n",
    "std_pred = np.sqrt(np.diag(cov_pred))\n",
    "\n",
    "# plt.subplot(121)\n",
    "plt.plot(x, mu_pred)\n",
    "plt.fill_between(x, mu_pred-2*std_pred, mu_pred+2*std_pred, alpha=.1)\n",
    "plt.scatter(xsamp, fsamp)"
   ]
  },
  {
   "cell_type": "code",
   "execution_count": null,
   "metadata": {
    "collapsed": false
   },
   "outputs": [],
   "source": [
    "for i in range(p+1):\n",
    "    psi = [0]*(p+1)\n",
    "    psi[i] = 1\n",
    "    \n",
    "    kzx = np.dot(psi*phi(x), np.dot(np.eye(p+1), phi(xsamp).T))\n",
    "    kzz = np.dot(psi*phi(x), np.dot(np.eye(p+1), (psi*phi(x)).T))\n",
    "    kxx = np.dot(phi(xsamp), np.dot(np.eye(p+1), phi(xsamp).T)) + sigma*np.eye(xsamp.shape[0])\n",
    "\n",
    "    mu_pred = np.dot(kzx, np.dot(np.linalg.inv(kxx), fsamp))\n",
    "    cov_pred = kzz - np.dot(kzx, np.dot(np.linalg.inv(kxx), kzx.T))\n",
    "    std_pred = np.sqrt(np.diag(cov_pred))\n",
    "\n",
    "    plt.plot(x, mu_pred, label='$\\phi_%d$'%i)\n",
    "    plt.fill_between(x, mu_pred-2*std_pred, mu_pred+2*std_pred, alpha=.1)\n",
    "plt.scatter(xsamp, fsamp,c='k',alpha=.5)\n",
    "plt.legend()"
   ]
  },
  {
   "cell_type": "code",
   "execution_count": null,
   "metadata": {
    "collapsed": false
   },
   "outputs": [],
   "source": [
    "# parameter inference\n",
    "ko = np.eye(p+1)\n",
    "kfo = np.dot(phi(xsamp), ko)\n",
    "kf = phi(xsamp).dot(ko).dot(phi(xsamp).T) + sigma*np.eye(xsamp.shape[0])\n",
    "\n",
    "mu_pred = kfo.T.dot(np.linalg.inv(kf)).dot(fsamp)\n",
    "cov_pred = ko - kfo.T.dot(np.linalg.inv(kf)).dot(kfo)\n",
    "\n",
    "plt.errorbar(range(p+1), mu_pred, yerr=np.sqrt(cov_pred.diagonal()))"
   ]
  },
  {
   "cell_type": "markdown",
   "metadata": {},
   "source": [
    "### Compare to linear regression "
   ]
  },
  {
   "cell_type": "code",
   "execution_count": null,
   "metadata": {
    "collapsed": false
   },
   "outputs": [],
   "source": [
    "omega_hat = np.linalg.inv(phi(xsamp).T.dot(phi(xsamp))).dot(phi(xsamp).T).dot(fsamp)\n",
    "\n",
    "plt.errorbar(range(p+1), mu_pred, yerr=np.sqrt(cov_pred.diagonal()))\n",
    "plt.scatter(range(p+1), omega_hat)"
   ]
  },
  {
   "cell_type": "markdown",
   "metadata": {
    "deletable": true,
    "editable": true
   },
   "source": [
    "## GP basics"
   ]
  },
  {
   "cell_type": "code",
   "execution_count": null,
   "metadata": {
    "collapsed": true,
    "deletable": true,
    "editable": true
   },
   "outputs": [],
   "source": [
    "x = np.linspace(-3,3, 101)[:,None]\n",
    "kern = GPy.kern.RBF(1)\n",
    "\n",
    "plt.plot(x[x.shape[0]/2,0] - x, kern.K(x)[x.shape[0]/2,:])\n",
    "plt.xlabel(\"x-x'\", fontsize=20)\n",
    "\n",
    "plt.figure()\n",
    "plt.imshow(kern.K(x))\n",
    "plt.colorbar()"
   ]
  },
  {
   "cell_type": "code",
   "execution_count": null,
   "metadata": {
    "collapsed": true,
    "deletable": true,
    "editable": true
   },
   "outputs": [],
   "source": [
    "s1 = scipy.stats.multivariate_normal.rvs(np.zeros(x.shape[0]), kern.K(x), size=3).T\n",
    "\n",
    "plt.plot(x, s1, c='C0');"
   ]
  },
  {
   "cell_type": "code",
   "execution_count": null,
   "metadata": {
    "collapsed": true,
    "deletable": true,
    "editable": true
   },
   "outputs": [],
   "source": [
    "# kern2 = GPy.kern.RBF(1, variance=1e0, lengthscale=1e0)\n",
    "kern2 = GPy.kern.RBF(1, variance=1e0, lengthscale=3e0)\n",
    "# kern2 = GPy.kern.RBF(1, variance=1e0, lengthscale=5e-1)\n",
    "# kern2 = GPy.kern.RBF(1, variance=1e-1, lengthscale=1e0)\n",
    "# kern2 = GPy.kern.RBF(1, variance=1e1, lengthscale=1e0)\n",
    "\n",
    "s2 = scipy.stats.multivariate_normal.rvs(np.zeros(x.shape[0]), kern2.K(x), size=3).T\n",
    "\n",
    "plt.figure(figsize=(10,6))\n",
    "\n",
    "plt.subplot(121)\n",
    "plt.plot(x[x.shape[0]/2,0] - x, kern.K(x)[x.shape[0]/2,:])\n",
    "plt.plot(x[x.shape[0]/2,0] - x, kern2.K(x)[x.shape[0]/2,:])\n",
    "plt.xlabel(\"x-x'\", fontsize=20)\n",
    "\n",
    "plt.subplot(122)\n",
    "plt.plot(x, s1, c='C0');\n",
    "plt.plot(x, s2, c='C1');"
   ]
  },
  {
   "cell_type": "code",
   "execution_count": null,
   "metadata": {
    "collapsed": true,
    "deletable": true,
    "editable": true
   },
   "outputs": [],
   "source": []
  }
 ],
 "metadata": {
  "kernelspec": {
   "display_name": "Python 2",
   "language": "python",
   "name": "python2"
  },
  "language_info": {
   "codemirror_mode": {
    "name": "ipython",
    "version": 2
   },
   "file_extension": ".py",
   "mimetype": "text/x-python",
   "name": "python",
   "nbconvert_exporter": "python",
   "pygments_lexer": "ipython2",
   "version": "2.7.6"
  }
 },
 "nbformat": 4,
 "nbformat_minor": 2
}