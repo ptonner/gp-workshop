{
 "cells": [
  {
   "cell_type": "code",
   "execution_count": null,
   "metadata": {},
   "outputs": [],
   "source": [
    "%pylab"
   ]
  },
  {
   "cell_type": "code",
   "execution_count": null,
   "metadata": {
    "collapsed": true
   },
   "outputs": [],
   "source": [
    "%matplotlib inline"
   ]
  },
  {
   "cell_type": "code",
   "execution_count": null,
   "metadata": {
    "collapsed": true
   },
   "outputs": [],
   "source": [
    "import GPy, scipy"
   ]
  },
  {
   "cell_type": "markdown",
   "metadata": {},
   "source": [
    "## Bayesian Linear Regression "
   ]
  },
  {
   "cell_type": "code",
   "execution_count": null,
   "metadata": {},
   "outputs": [],
   "source": [
    "def phiGen(p):\n",
    "    return lambda x: np.array([x**i for i in range(p+1)]).T\n",
    "\n",
    "p = 3\n",
    "phi = phiGen(p)"
   ]
  },
  {
   "cell_type": "code",
   "execution_count": null,
   "metadata": {},
   "outputs": [],
   "source": [
    "x = np.linspace(-1,1)\n",
    "\n",
    "plt.plot(x, phi(x));\n",
    "\n",
    "plt.axhline(0, color='black')\n",
    "plt.axvline(0, color='black')"
   ]
  },
  {
   "cell_type": "markdown",
   "metadata": {},
   "source": [
    "# Compute $Cov(f(x_1), f(x_2))$:"
   ]
  },
  {
   "cell_type": "code",
   "execution_count": null,
   "metadata": {},
   "outputs": [],
   "source": [
    "beta_cov = np.eye(p+1)\n",
    "f_cov = np.dot(phi(x), np.dot(beta_cov, phi(x).T))\n",
    "\n",
    "plt.imshow(f_cov)\n",
    "plt.colorbar()"
   ]
  },
  {
   "cell_type": "markdown",
   "metadata": {},
   "source": [
    "# Sample $f$:"
   ]
  },
  {
   "cell_type": "code",
   "execution_count": null,
   "metadata": {},
   "outputs": [],
   "source": [
    "f = scipy.stats.multivariate_normal.rvs(np.zeros(50), f_cov, size=10).T\n",
    "\n",
    "plt.plot(x,f);"
   ]
  },
  {
   "cell_type": "code",
   "execution_count": null,
   "metadata": {
    "collapsed": true
   },
   "outputs": [],
   "source": [
    "# build a function distribution, with stability in covariance\n",
    "\n",
    "def fdist(x, phi, beta_cov, sigma = 0.0):\n",
    "    f_cov = np.dot(phi(x), np.dot(beta_cov, phi(x).T)) + np.eye(x.shape[0])*sigma\n",
    "    \n",
    "    jit = 1e-6\n",
    "    excp = None\n",
    "    while jit<1e1:\n",
    "        try:\n",
    "            return scipy.stats.multivariate_normal(np.zeros(x.shape[0]), f_cov+jit*np.eye(x.shape[0]))\n",
    "        except np.linalg.LinAlgError as e:\n",
    "            jit = jit*10\n",
    "            excp = e\n",
    "    \n",
    "    raise excp"
   ]
  },
  {
   "cell_type": "markdown",
   "metadata": {},
   "source": [
    "# Training model on data"
   ]
  },
  {
   "cell_type": "markdown",
   "metadata": {},
   "source": [
    "### sample data from prior:"
   ]
  },
  {
   "cell_type": "code",
   "execution_count": null,
   "metadata": {},
   "outputs": [],
   "source": [
    "p = 4\n",
    "phi = phiGen(p)\n",
    "\n",
    "xsamp = np.random.choice(x, size=10, replace=False)\n",
    "xsamp.sort()\n",
    "\n",
    "fsamp = fdist(xsamp, phiGen(p), np.eye(p+1)).rvs()\n",
    "\n",
    "plt.scatter(xsamp, fsamp)\n",
    "plt.axhline(0, color='black')\n",
    "plt.axvline(0, color='black')"
   ]
  },
  {
   "cell_type": "markdown",
   "metadata": {},
   "source": [
    "### compute conditional distribution:"
   ]
  },
  {
   "cell_type": "markdown",
   "metadata": {},
   "source": [
    "$cov(f(x_2), f(x_1))$:"
   ]
  },
  {
   "cell_type": "code",
   "execution_count": null,
   "metadata": {
    "collapsed": true
   },
   "outputs": [],
   "source": [
    "kzx = np.dot(phi(x), np.dot(np.eye(p+1), phi(xsamp).T))"
   ]
  },
  {
   "cell_type": "markdown",
   "metadata": {},
   "source": [
    "$cov(f(x_2), f(x_2))$:"
   ]
  },
  {
   "cell_type": "code",
   "execution_count": null,
   "metadata": {
    "collapsed": true
   },
   "outputs": [],
   "source": [
    "kzz = np.dot(phi(x), np.dot(np.eye(p+1), phi(x).T))"
   ]
  },
  {
   "cell_type": "markdown",
   "metadata": {},
   "source": [
    "$cov(f(x_1), f(x_1))$"
   ]
  },
  {
   "cell_type": "code",
   "execution_count": null,
   "metadata": {
    "collapsed": true
   },
   "outputs": [],
   "source": [
    "kxx = np.dot(phi(xsamp), np.dot(np.eye(p+1), phi(xsamp).T)) \n",
    "\n",
    "# stabilize matrix\n",
    "kxx += np.eye(xsamp.shape[0]) * 1e-9"
   ]
  },
  {
   "cell_type": "code",
   "execution_count": null,
   "metadata": {},
   "outputs": [],
   "source": [
    "plt.imshow(kxx)"
   ]
  },
  {
   "cell_type": "code",
   "execution_count": null,
   "metadata": {},
   "outputs": [],
   "source": [
    "plt.imshow(np.linalg.inv(kxx))\n",
    "plt.colorbar()"
   ]
  },
  {
   "cell_type": "markdown",
   "metadata": {},
   "source": [
    "conditional:"
   ]
  },
  {
   "cell_type": "code",
   "execution_count": null,
   "metadata": {},
   "outputs": [],
   "source": [
    "mu_pred = np.dot(kzx, np.dot(np.linalg.inv(kxx), fsamp))\n",
    "cov_pred = kzz - np.dot(kzx, np.dot(np.linalg.inv(kxx), kzx.T))\n",
    "# cov_pred[cov_pred<1e-9] = 1e-9\n",
    "std_pred = np.sqrt(np.diag(cov_pred))\n",
    "\n",
    "plt.plot(x, mu_pred)\n",
    "plt.fill_between(x, mu_pred-2*std_pred, mu_pred+2*std_pred, alpha=.1)\n",
    "plt.scatter(xsamp, fsamp)"
   ]
  },
  {
   "cell_type": "markdown",
   "metadata": {},
   "source": [
    "### Add observation noise:"
   ]
  },
  {
   "cell_type": "code",
   "execution_count": null,
   "metadata": {},
   "outputs": [],
   "source": [
    "x = np.linspace(-1,1)\n",
    "\n",
    "sigma = 5e-1\n",
    "p = 4\n",
    "phi = phiGen(p)\n",
    "xsamp = np.random.uniform(x.min(), x.max(), size=10)\n",
    "fsamp = fdist(xsamp, phiGen(p), np.eye(p+1), sigma=sigma).rvs()\n",
    "\n",
    "plt.scatter(xsamp, fsamp)\n",
    "plt.axhline(0, color='black')\n",
    "plt.axvline(0, color='black')"
   ]
  },
  {
   "cell_type": "code",
   "execution_count": null,
   "metadata": {},
   "outputs": [],
   "source": [
    "kzx = np.dot(phiGen(p)(x), np.dot(np.eye(p+1), phiGen(p)(xsamp).T))\n",
    "kzz = np.dot(phiGen(p)(x), np.dot(np.eye(p+1), phiGen(p)(x).T))\n",
    "kxx = np.dot(phiGen(p)(xsamp), np.dot(np.eye(p+1), phiGen(p)(xsamp).T)) + sigma*np.eye(xsamp.shape[0])\n",
    "\n",
    "mu_pred = np.dot(kzx, np.dot(np.linalg.inv(kxx), fsamp))\n",
    "cov_pred = kzz - np.dot(kzx, np.dot(np.linalg.inv(kxx), kzx.T))\n",
    "std_pred = np.sqrt(np.diag(cov_pred))\n",
    "\n",
    "plt.plot(x, mu_pred)\n",
    "plt.fill_between(x, mu_pred-2*std_pred, mu_pred+2*std_pred, alpha=.1)\n",
    "plt.scatter(xsamp, fsamp)"
   ]
  },
  {
   "cell_type": "code",
   "execution_count": null,
   "metadata": {},
   "outputs": [],
   "source": [
    "plt.plot(x, mu_pred)\n",
    "plt.fill_between(x, mu_pred-2*std_pred, mu_pred+2*std_pred, alpha=.1)\n",
    "plt.plot(x, scipy.stats.multivariate_normal.rvs(mu_pred, cov_pred, size=10).T,alpha=.5);"
   ]
  },
  {
   "cell_type": "markdown",
   "metadata": {},
   "source": [
    "compute sub-components"
   ]
  },
  {
   "cell_type": "code",
   "execution_count": null,
   "metadata": {
    "scrolled": true
   },
   "outputs": [],
   "source": [
    "psi = [0] + [1] + [0]*(p-1)\n",
    "psi*phi(x)"
   ]
  },
  {
   "cell_type": "code",
   "execution_count": null,
   "metadata": {},
   "outputs": [],
   "source": [
    "kzx = np.dot(psi*phi(x), np.dot(np.eye(p+1), phi(xsamp).T))\n",
    "kzz = np.dot(psi*phi(x), np.dot(np.eye(p+1), (psi*phi(x)).T))\n",
    "kxx = np.dot(phi(xsamp), np.dot(np.eye(p+1), phi(xsamp).T)) + sigma*np.eye(xsamp.shape[0])\n",
    "\n",
    "mu_pred = np.dot(kzx, np.dot(np.linalg.inv(kxx), fsamp))\n",
    "cov_pred = kzz - np.dot(kzx, np.dot(np.linalg.inv(kxx), kzx.T))\n",
    "# cov_pred[cov_pred<0] = 0\n",
    "std_pred = np.sqrt(np.diag(cov_pred))\n",
    "\n",
    "# plt.subplot(121)\n",
    "plt.plot(x, mu_pred)\n",
    "plt.fill_between(x, mu_pred-2*std_pred, mu_pred+2*std_pred, alpha=.1)\n",
    "plt.scatter(xsamp, fsamp)"
   ]
  },
  {
   "cell_type": "code",
   "execution_count": null,
   "metadata": {},
   "outputs": [],
   "source": [
    "for i in range(p+1):\n",
    "    psi = [0]*(p+1)\n",
    "    psi[i] = 1\n",
    "    \n",
    "    kzx = np.dot(psi*phi(x), np.dot(np.eye(p+1), phi(xsamp).T))\n",
    "    kzz = np.dot(psi*phi(x), np.dot(np.eye(p+1), (psi*phi(x)).T))\n",
    "    kxx = np.dot(phi(xsamp), np.dot(np.eye(p+1), phi(xsamp).T)) + sigma*np.eye(xsamp.shape[0])\n",
    "\n",
    "    mu_pred = np.dot(kzx, np.dot(np.linalg.inv(kxx), fsamp))\n",
    "    cov_pred = kzz - np.dot(kzx, np.dot(np.linalg.inv(kxx), kzx.T))\n",
    "    std_pred = np.sqrt(np.diag(cov_pred))\n",
    "\n",
    "    plt.plot(x, mu_pred, label='$\\phi_%d$'%i)\n",
    "    plt.fill_between(x, mu_pred-2*std_pred, mu_pred+2*std_pred, alpha=.1)\n",
    "plt.scatter(xsamp, fsamp,c='k',alpha=.5)\n",
    "plt.legend()"
   ]
  },
  {
   "cell_type": "code",
   "execution_count": null,
   "metadata": {},
   "outputs": [],
   "source": [
    "# parameter inference\n",
    "ko = np.eye(p+1)\n",
    "kfo = np.dot(phi(xsamp), ko)\n",
    "kf = phi(xsamp).dot(ko).dot(phi(xsamp).T) + sigma*np.eye(xsamp.shape[0])\n",
    "\n",
    "mu_pred = kfo.T.dot(np.linalg.inv(kf)).dot(fsamp)\n",
    "cov_pred = ko - kfo.T.dot(np.linalg.inv(kf)).dot(kfo)\n",
    "\n",
    "plt.errorbar(range(p+1), mu_pred, yerr=np.sqrt(cov_pred.diagonal()))"
   ]
  },
  {
   "cell_type": "markdown",
   "metadata": {},
   "source": [
    "### Compare to linear regression "
   ]
  },
  {
   "cell_type": "code",
   "execution_count": null,
   "metadata": {},
   "outputs": [],
   "source": [
    "omega_hat = np.linalg.inv(phi(xsamp).T.dot(phi(xsamp))).dot(phi(xsamp).T).dot(fsamp)\n",
    "\n",
    "plt.errorbar(range(p+1), mu_pred, yerr=np.sqrt(cov_pred.diagonal()))\n",
    "plt.scatter(range(p+1), omega_hat)"
   ]
  },
  {
   "cell_type": "markdown",
   "metadata": {},
   "source": [
    "## GP basics"
   ]
  },
  {
   "cell_type": "markdown",
   "metadata": {},
   "source": [
    "## Radial basis function kernel"
   ]
  },
  {
   "cell_type": "code",
   "execution_count": null,
   "metadata": {
    "collapsed": true
   },
   "outputs": [],
   "source": [
    "x = np.linspace(-1,1, 101)[:,None]"
   ]
  },
  {
   "cell_type": "code",
   "execution_count": null,
   "metadata": {
    "collapsed": true
   },
   "outputs": [],
   "source": [
    "kern = GPy.kern.RBF(1, variance=1., lengthscale=1.)"
   ]
  },
  {
   "cell_type": "code",
   "execution_count": null,
   "metadata": {},
   "outputs": [],
   "source": [
    "plt.figure(figsize=(12,6))\n",
    "\n",
    "c = 10\n",
    "\n",
    "plt.subplot2grid((c,c*2+2), (0,0), colspan=c, rowspan=c)\n",
    "plt.plot(x[x.shape[0]/2,0] - x, kern.K(x)[x.shape[0]/2,:])\n",
    "\n",
    "plt.subplot2grid((c,c*2+2), (0,c+1), colspan=c, rowspan=c)\n",
    "plt.imshow(kern.K(x))\n",
    "\n",
    "ax = plt.subplot2grid((c,c*2+2), (0,c*2+1), colspan=1, rowspan=c)\n",
    "plt.colorbar(cax=ax)"
   ]
  },
  {
   "cell_type": "code",
   "execution_count": null,
   "metadata": {},
   "outputs": [],
   "source": [
    "plt.figure(figsize=(10,6))\n",
    "for i, ls in enumerate(10**np.arange(-1, 2, 1.)):\n",
    "    k = GPy.kern.RBF(1, lengthscale=ls)\n",
    "    s = scipy.stats.multivariate_normal.rvs(np.zeros(x.shape[0]), k.K(x), size=3).T\n",
    "    \n",
    "    plt.subplot(121)\n",
    "    plt.plot(x[x.shape[0]/2,0] - x, k.K(x)[x.shape[0]/2,:], c='C%d'%i, label='$\\ell = %.1lf$'%ls)\n",
    "    \n",
    "    plt.subplot(122)\n",
    "    plt.plot(x, s, c='C%d'%i)\n",
    "    \n",
    "plt.subplot(121)\n",
    "plt.xlabel('$ || x_1 - x_2 ||$', fontsize=14)\n",
    "plt.legend(fontsize=12)\n",
    "\n",
    "plt.subplot(122)\n",
    "plt.xlabel('$x$', fontsize=14)\n",
    "\n",
    "plt.savefig('figures/lengthscale.pdf',bbox_inches='tight')"
   ]
  },
  {
   "cell_type": "code",
   "execution_count": null,
   "metadata": {},
   "outputs": [],
   "source": [
    "plt.figure(figsize=(10,6))\n",
    "for i, var in enumerate(10**np.arange(-.5, 1, .5)):\n",
    "    k = GPy.kern.RBF(1, variance=var)\n",
    "    s = scipy.stats.multivariate_normal.rvs(np.zeros(x.shape[0]), k.K(x), size=3).T\n",
    "    \n",
    "    plt.subplot(121)\n",
    "    plt.plot(x[x.shape[0]/2,0] - x, k.K(x)[x.shape[0]/2,:], c='C%d'%i, label='$\\sigma^2 = %.1lf$'%var)\n",
    "    \n",
    "    plt.subplot(122)\n",
    "    plt.plot(x, s, c='C%d'%i)\n",
    "    \n",
    "plt.subplot(121)\n",
    "plt.xlabel('$ || x_1 - x_2 ||$', fontsize=14)\n",
    "plt.legend(fontsize=12)\n",
    "\n",
    "plt.subplot(122)\n",
    "plt.xlabel('$x$', fontsize=14)\n",
    "\n",
    "plt.savefig('figures/variance.pdf',bbox_inches='tight')"
   ]
  },
  {
   "cell_type": "code",
   "execution_count": null,
   "metadata": {
    "collapsed": true
   },
   "outputs": [],
   "source": []
  }
 ],
 "metadata": {
  "kernelspec": {
   "display_name": "Python 2",
   "language": "python",
   "name": "python2"
  },
  "language_info": {
   "codemirror_mode": {
    "name": "ipython",
    "version": 2
   },
   "file_extension": ".py",
   "mimetype": "text/x-python",
   "name": "python",
   "nbconvert_exporter": "python",
   "pygments_lexer": "ipython2",
   "version": "2.7.12"
  }
 },
 "nbformat": 4,
 "nbformat_minor": 2
}